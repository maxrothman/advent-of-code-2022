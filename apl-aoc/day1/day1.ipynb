{
 "cells": [
  {
   "cell_type": "markdown",
   "id": "2cb80d10",
   "metadata": {},
   "source": [
    "**A brief primer on APL**\n",
    "\n",
    "The entire language of APL consists of 83ish symbols like +, ↑, and ⍣. Many symbols are functions which behave differently when used *monadically*, i.e. with only a single right-hand argument, and *dyadically*, i.e. with both right- and left-hand arguments.\n",
    "\n",
    "For example, \"⌈\" means \"ceiling\" when used monadically:"
   ]
  },
  {
   "cell_type": "code",
   "execution_count": 17,
   "id": "82851b1d",
   "metadata": {},
   "outputs": [
    {
     "data": {
      "text/html": [
       "<pre class=\"language-APL\">5\n",
       "</pre>"
      ]
     },
     "execution_count": 17,
     "metadata": {},
     "output_type": "execute_result"
    }
   ],
   "source": [
    "⌈4.5"
   ]
  },
  {
   "cell_type": "markdown",
   "id": "756ca200",
   "metadata": {},
   "source": [
    "And means \"maximum\" when used dyadically:"
   ]
  },
  {
   "cell_type": "code",
   "execution_count": 18,
   "id": "8cc0cb5b",
   "metadata": {},
   "outputs": [
    {
     "data": {
      "text/html": [
       "<pre class=\"language-APL\">5\n",
       "</pre>"
      ]
     },
     "execution_count": 18,
     "metadata": {},
     "output_type": "execute_result"
    }
   ],
   "source": [
    "1⌈5"
   ]
  },
  {
   "cell_type": "markdown",
   "id": "6f4a76cd",
   "metadata": {},
   "source": [
    "Some symbols are operators, meaning instead of taking value arguments, some or all of their arguments are functions. For example, ¨ (each) maps its function over an array:"
   ]
  },
  {
   "cell_type": "code",
   "execution_count": 19,
   "id": "f4d07835",
   "metadata": {},
   "outputs": [
    {
     "data": {
      "text/html": [
       "<pre class=\"language-APL\">3 6 7 4\n",
       "</pre>"
      ]
     },
     "execution_count": 19,
     "metadata": {},
     "output_type": "execute_result"
    }
   ],
   "source": [
    "⌈¨2.3 5.1 6.6 4"
   ]
  },
  {
   "cell_type": "markdown",
   "id": "811e6cee",
   "metadata": {},
   "source": [
    "Finally, many functions exhibit rank polymorphism, meaning they can take arrays of values any place they could take values. For example, you don't really need ¨ in the previous example:"
   ]
  },
  {
   "cell_type": "code",
   "execution_count": 21,
   "id": "1d5eb2c7",
   "metadata": {},
   "outputs": [
    {
     "data": {
      "text/html": [
       "<pre class=\"language-APL\">3 6 7 4\n",
       "</pre>"
      ]
     },
     "execution_count": 21,
     "metadata": {},
     "output_type": "execute_result"
    }
   ],
   "source": [
    "⌈2.3 5.1 6.6 4"
   ]
  },
  {
   "cell_type": "markdown",
   "id": "a54b489b",
   "metadata": {},
   "source": [
    "That should be enough to get started! If you want to learn more, I recommend the [Learning APL book](https://xpqz.github.io/learnapl)."
   ]
  },
  {
   "cell_type": "markdown",
   "id": "83484790",
   "metadata": {},
   "source": [
    "**A note**\n",
    "\n",
    "Throughout this tutorial, I truncate results using \"take\" (↑) to make the output more readable. Just know if you see something like `3↑...`, it means you're only viewing the first 3 elements in the result and you should imagine the \"...\" that follows it."
   ]
  },
  {
   "cell_type": "markdown",
   "id": "848d354c",
   "metadata": {},
   "source": [
    "First, a bit of preamble..."
   ]
  },
  {
   "cell_type": "code",
   "execution_count": 4,
   "id": "23322048-9094-4367-8fc5-a30d49341de5",
   "metadata": {
    "scrolled": false
   },
   "outputs": [
    {
     "data": {
      "text/html": [
       "<pre class=\"language-APL\">Was ON\n",
       "</pre>"
      ]
     },
     "execution_count": 4,
     "metadata": {},
     "output_type": "execute_result"
    },
    {
     "data": {
      "text/html": [
       "<pre class=\"language-APL\">Was ON\n",
       "</pre>"
      ]
     },
     "execution_count": 4,
     "metadata": {},
     "output_type": "execute_result"
    }
   ],
   "source": [
    "]box on\n",
    "]rows on\n",
    "⎕PW←120"
   ]
  },
  {
   "cell_type": "markdown",
   "id": "2885264e",
   "metadata": {},
   "source": [
    "**Parsing the input**\n",
    "\n",
    "Let's start by parsing the input data. This is the magic incantation for reading a file line-by-line. Don't worry about how it works, but if you want to know more, [here are the details](https://xpqz.github.io/learnapl/io.html?highlight=nl#reading-text-files-nget). You can see that we get an array of strings, where some of the strings are empty."
   ]
  },
  {
   "cell_type": "code",
   "execution_count": 85,
   "id": "84cb74c6",
   "metadata": {},
   "outputs": [
    {
     "data": {
      "text/html": [
       "<pre class=\"language-APL\">┌────┬────┬────┬────┬────┬────┬────┬────┬────┬────┬────┬────┬────┬┬────┬────┬────┬────┬────┬────┐\n",
       "│3427│3273│5615│5943│3125│4245│4194│3243│4283│1790│5355│4239│5541││3850│5294│5393│2490│3231│2743│\n",
       "└────┴────┴────┴────┴────┴────┴────┴────┴────┴────┴────┴────┴────┴┴────┴────┴────┴────┴────┴────┘\n",
       "</pre>"
      ]
     },
     "execution_count": 85,
     "metadata": {},
     "output_type": "execute_result"
    }
   ],
   "source": [
    "data←⊃⎕NGET'input.txt'1\n",
    "20↑ data"
   ]
  },
  {
   "cell_type": "markdown",
   "id": "57ae502d",
   "metadata": {},
   "source": [
    "Now let's split it up into groups separated by those empty elements. To do that, we'll us partition (⊆), which takes our data on the right, and a binary vector on the left. Everywhere where the binary vector is 0, we'll get a split. For example:"
   ]
  },
  {
   "cell_type": "code",
   "execution_count": 17,
   "id": "db347a35",
   "metadata": {},
   "outputs": [
    {
     "data": {
      "text/html": [
       "<pre class=\"language-APL\">┌───┬─┬───┐\n",
       "│1 2│4│6 7│\n",
       "└───┴─┴───┘\n",
       "</pre>"
      ]
     },
     "execution_count": 17,
     "metadata": {},
     "output_type": "execute_result"
    }
   ],
   "source": [
    "1 1 0 1 0 1 1⊆⍳7"
   ]
  },
  {
   "cell_type": "markdown",
   "id": "678dc417",
   "metadata": {},
   "source": [
    "To know where to split the data, we need 1s where there's a non-empty string, and 0s where there's not. Tally (≢) gives us the length of a vector (strings are just character vectors), and direction (×) turns positive numbers into 1s and leaves 0s alone. (It also turns negative numbers into -1s, but that's not important right now.)\n",
    "\n",
    "So all we need to do is map (¨) tally (≢) over the data, then apply × to the whole thing:"
   ]
  },
  {
   "cell_type": "code",
   "execution_count": 86,
   "id": "4973d7a6",
   "metadata": {
    "scrolled": true
   },
   "outputs": [
    {
     "data": {
      "text/html": [
       "<pre class=\"language-APL\">1 1 1 1 1 1 1 1 1 1 1 1 1 0 1 1 1 1 1 1 1 1 1 1 1 1 1 1 1 0 1 1 1 1 1 1 1 1 1 1 1 1 1 1 0 1 1 1 1 1\n",
       "</pre>"
      ]
     },
     "execution_count": 86,
     "metadata": {},
     "output_type": "execute_result"
    }
   ],
   "source": [
    "50↑ ×≢¨data"
   ]
  },
  {
   "cell_type": "markdown",
   "id": "556ed9b3",
   "metadata": {},
   "source": [
    "That gives us the binary vector we need for the left argument to partition (⊆). \n",
    "\n",
    "We could write it like this:"
   ]
  },
  {
   "cell_type": "code",
   "execution_count": 87,
   "id": "54cf9168",
   "metadata": {},
   "outputs": [
    {
     "data": {
      "text/html": [
       "<pre class=\"language-APL\">┌──────────────────────────────────────────────────────────────────┬────────────────────────────────────────────────────────────────────────────┐\n",
       "│┌────┬────┬────┬────┬────┬────┬────┬────┬────┬────┬────┬────┬────┐│┌────┬────┬────┬────┬────┬────┬────┬────┬────┬────┬────┬────┬────┬────┬────┐│\n",
       "││3427│3273│5615│5943│3125│4245│4194│3243│4283│1790│5355│4239│5541│││3850│5294│5393│2490│3231│2743│2016│2418│2304│5673│3035│5292│2112│2630│2305││\n",
       "│└────┴────┴────┴────┴────┴────┴────┴────┴────┴────┴────┴────┴────┘│└────┴────┴────┴────┴────┴────┴────┴────┴────┴────┴────┴────┴────┴────┴────┘│\n",
       "└──────────────────────────────────────────────────────────────────┴────────────────────────────────────────────────────────────────────────────┘\n",
       "</pre>"
      ]
     },
     "execution_count": 87,
     "metadata": {},
     "output_type": "execute_result"
    }
   ],
   "source": [
    "2↑ (×≢¨data)⊆data"
   ]
  },
  {
   "cell_type": "markdown",
   "id": "a6f0c163",
   "metadata": {},
   "source": [
    "But anytime you need a value on both sides of an operator, you can instead use special construct called a fork. A fork follows this form:\n",
    "\n",
    "```\n",
    "(f x) h (g x) = (f h g) x\n",
    "```\n",
    "\n",
    "In my case, I have `(×≢¨data)⊆data = ((×≢¨)⊆⊢)data`. The ⊢ is just the identity function, because I don't want to do anything to `data` in the right-hand argument. If I leave the data out, you can see the structure of the fork:"
   ]
  },
  {
   "cell_type": "code",
   "execution_count": 29,
   "id": "a21389c8",
   "metadata": {},
   "outputs": [
    {
     "data": {
      "text/html": [
       "<pre class=\"language-APL\"> ┌──┼─┐\n",
       "┌┴┐ ⊆ ⊢\n",
       "× ¨\n",
       "┌─┘\n",
       "≢\n",
       "</pre>"
      ]
     },
     "execution_count": 29,
     "metadata": {},
     "output_type": "execute_result"
    }
   ],
   "source": [
    "((×≢¨)⊆⊢)"
   ]
  },
  {
   "cell_type": "code",
   "execution_count": 88,
   "id": "b0a5a949-ad6b-4ae1-a942-3f59e2ee197d",
   "metadata": {},
   "outputs": [
    {
     "data": {
      "text/html": [
       "<pre class=\"language-APL\">┌──────────────────────────────────────────────────────────────────┬────────────────────────────────────────────────────────────────────────────┐\n",
       "│┌────┬────┬────┬────┬────┬────┬────┬────┬────┬────┬────┬────┬────┐│┌────┬────┬────┬────┬────┬────┬────┬────┬────┬────┬────┬────┬────┬────┬────┐│\n",
       "││3427│3273│5615│5943│3125│4245│4194│3243│4283│1790│5355│4239│5541│││3850│5294│5393│2490│3231│2743│2016│2418│2304│5673│3035│5292│2112│2630│2305││\n",
       "│└────┴────┴────┴────┴────┴────┴────┴────┴────┴────┴────┴────┴────┘│└────┴────┴────┴────┴────┴────┴────┴────┴────┴────┴────┴────┴────┴────┴────┘│\n",
       "└──────────────────────────────────────────────────────────────────┴────────────────────────────────────────────────────────────────────────────┘\n",
       "</pre>"
      ]
     },
     "execution_count": 88,
     "metadata": {},
     "output_type": "execute_result"
    }
   ],
   "source": [
    "2↑ ((×≢¨)⊆⊢)data"
   ]
  },
  {
   "cell_type": "markdown",
   "id": "8e6f2f86",
   "metadata": {},
   "source": [
    "Finally, to turn the strings into numbers, I use execute (⍎). Notice I have to map (¨) twice because my values are two arrays deep:"
   ]
  },
  {
   "cell_type": "code",
   "execution_count": 89,
   "id": "5b8aee65",
   "metadata": {
    "scrolled": true
   },
   "outputs": [
    {
     "data": {
      "text/html": [
       "<pre class=\"language-APL\">┌────────────────────────────────────────────────────────────────┬──────────────────────────────────────────────────────────────────────────┐\n",
       "│3427 3273 5615 5943 3125 4245 4194 3243 4283 1790 5355 4239 5541│3850 5294 5393 2490 3231 2743 2016 2418 2304 5673 3035 5292 2112 2630 2305│\n",
       "└────────────────────────────────────────────────────────────────┴──────────────────────────────────────────────────────────────────────────┘\n",
       "</pre>"
      ]
     },
     "execution_count": 89,
     "metadata": {},
     "output_type": "execute_result"
    }
   ],
   "source": [
    "parsed←⍎¨¨((×≢¨)⊆⊢)data\n",
    "2↑ parsed"
   ]
  },
  {
   "cell_type": "markdown",
   "id": "b5d50b17",
   "metadata": {},
   "source": [
    "**Part one solution**\n",
    "\n",
    "The rest is easy! For part one, we need to find the subarray with the greatest sum. Let's first sum the subarrays. We can add two things with +, so to sum the array, we just need to reduce (/) using +."
   ]
  },
  {
   "cell_type": "code",
   "execution_count": 90,
   "id": "6a41ad27",
   "metadata": {},
   "outputs": [
    {
     "data": {
      "text/html": [
       "<pre class=\"language-APL\">54273 50786 47383 48088 42497 48625 48083 58597 53996 42727 51398 41338 54225 46142 49899 47586 50030 40939 57297 48647\n",
       "</pre>"
      ]
     },
     "execution_count": 90,
     "metadata": {},
     "output_type": "execute_result"
    }
   ],
   "source": [
    "20↑ +/¨parsed"
   ]
  },
  {
   "cell_type": "markdown",
   "id": "c31b9b65",
   "metadata": {},
   "source": [
    "Finally, we take the biggest one using maximum (dyadic ⌈):"
   ]
  },
  {
   "cell_type": "code",
   "execution_count": 48,
   "id": "3701921a",
   "metadata": {},
   "outputs": [
    {
     "data": {
      "text/html": [
       "<pre class=\"language-APL\">68775\n",
       "</pre>"
      ]
     },
     "execution_count": 48,
     "metadata": {},
     "output_type": "execute_result"
    }
   ],
   "source": [
    "⌈/+/¨parsed"
   ]
  },
  {
   "cell_type": "markdown",
   "id": "87939f2c",
   "metadata": {},
   "source": [
    "And that's the answer to part one!"
   ]
  },
  {
   "cell_type": "markdown",
   "id": "5eabda42",
   "metadata": {},
   "source": [
    "**Part two solution**\n",
    "\n",
    "For part two, we need the sum of the greatest 3 subarrays. That means we need to sort the data in descending order. I'm not going to go into the details of the sorting incantation, but [you can read more about it here](https://xpqz.github.io/learnapl/manip.html?highlight=sort#grade-up-down)."
   ]
  },
  {
   "cell_type": "code",
   "execution_count": 91,
   "id": "62a59003",
   "metadata": {
    "scrolled": true
   },
   "outputs": [
    {
     "data": {
      "text/html": [
       "<pre class=\"language-APL\">68775 67045 66765 65924 64498 64481 63207 63101 63049 62125 61387 61230 61016 60528 59931 59704 59348 58597 58355 58222\n",
       "</pre>"
      ]
     },
     "execution_count": 91,
     "metadata": {},
     "output_type": "execute_result"
    }
   ],
   "source": [
    "sort←(⊂∘⍒⌷⊢)\n",
    "20↑ sort+/¨parsed"
   ]
  },
  {
   "cell_type": "markdown",
   "id": "3129ce83",
   "metadata": {},
   "source": [
    "Then we just take the first 3 and sum-reduce:"
   ]
  },
  {
   "cell_type": "code",
   "execution_count": 92,
   "id": "78b30cf5",
   "metadata": {},
   "outputs": [
    {
     "data": {
      "text/html": [
       "<pre class=\"language-APL\">68775 67045 66765\n",
       "</pre>"
      ]
     },
     "execution_count": 92,
     "metadata": {},
     "output_type": "execute_result"
    },
    {
     "data": {
      "text/html": [
       "<pre class=\"language-APL\">202585\n",
       "</pre>"
      ]
     },
     "execution_count": 92,
     "metadata": {},
     "output_type": "execute_result"
    }
   ],
   "source": [
    "3↑sort+/¨parsed\n",
    "+/3↑sort+/¨parsed"
   ]
  },
  {
   "cell_type": "markdown",
   "id": "dcb2db9b",
   "metadata": {},
   "source": [
    "And that's our answer for part two!"
   ]
  }
 ],
 "metadata": {
  "kernelspec": {
   "display_name": "Dyalog APL",
   "language": "apl",
   "name": "dyalog-kernel"
  },
  "language_info": {
   "file_extension": ".apl",
   "mimetype": "text/apl",
   "name": "APL"
  }
 },
 "nbformat": 4,
 "nbformat_minor": 5
}
