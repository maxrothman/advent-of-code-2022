{
 "cells": [
  {
   "cell_type": "markdown",
   "id": "ecfdde62",
   "metadata": {},
   "source": [
    "## Part one\n",
    "Today's problem is incredibly well-suited to array programming. Let's start by assuming the data is already parsed in the shape we want (the ⍝ (lamp) just indicates a line comment):"
   ]
  },
  {
   "cell_type": "code",
   "execution_count": 40,
   "id": "0cac8a5e",
   "metadata": {},
   "outputs": [],
   "source": [
    "⍝ 2-4,6-8\n",
    "⍝ 2-3,4-5\n",
    "⍝ 5-7,7-9\n",
    "⍝ 2-8,3-7\n",
    "⍝ 6-6,4-6\n",
    "⍝ 2-6,4-8\n",
    "start1←2 2 5 2 6 2\n",
    "end1←4 3 7 8 6 6\n",
    "start2←6 4 7 3 4 4\n",
    "end2←8 5 9 7 6 8"
   ]
  },
  {
   "cell_type": "markdown",
   "id": "35ef253c",
   "metadata": {},
   "source": [
    "All of APL's comparison functions are *rank-polymorphic*, meaning that when they are applied to arrays, they compare elements in those arrays pairwise. APL has no booleans, so all comparison functions return binary arrays. ∧ means \"and\" and ∨ means \"or\"."
   ]
  },
  {
   "cell_type": "code",
   "execution_count": 46,
   "id": "14203f43",
   "metadata": {},
   "outputs": [
    {
     "data": {
      "text/html": [
       "<pre class=\"language-APL\">1\n",
       "</pre>"
      ]
     },
     "execution_count": 46,
     "metadata": {},
     "output_type": "execute_result"
    },
    {
     "data": {
      "text/html": [
       "<pre class=\"language-APL\">1 0\n",
       "</pre>"
      ]
     },
     "execution_count": 46,
     "metadata": {},
     "output_type": "execute_result"
    },
    {
     "data": {
      "text/html": [
       "<pre class=\"language-APL\">0 1\n",
       "</pre>"
      ]
     },
     "execution_count": 46,
     "metadata": {},
     "output_type": "execute_result"
    }
   ],
   "source": [
    "1<2\n",
    "1 2<2 1\n",
    "0 1∧1 1"
   ]
  },
  {
   "cell_type": "markdown",
   "id": "731c6871",
   "metadata": {},
   "source": [
    "The solution to part one is just simple logic:"
   ]
  },
  {
   "cell_type": "code",
   "execution_count": 47,
   "id": "520b16a1",
   "metadata": {},
   "outputs": [
    {
     "data": {
      "text/html": [
       "<pre class=\"language-APL\">0 0 0 1 1 0\n",
       "</pre>"
      ]
     },
     "execution_count": 47,
     "metadata": {},
     "output_type": "execute_result"
    },
    {
     "data": {
      "text/html": [
       "<pre class=\"language-APL\">2\n",
       "</pre>"
      ]
     },
     "execution_count": 47,
     "metadata": {},
     "output_type": "execute_result"
    }
   ],
   "source": [
    "⊢x←((start1≥start2)∧(end1≤end2))∨((start1≤start2)∧(end1≥end2))\n",
    "+/x"
   ]
  },
  {
   "cell_type": "markdown",
   "id": "27458c1c",
   "metadata": {},
   "source": [
    "## Parsing\n",
    "Now the question is, how do we get the input into that shape?\n",
    "\n",
    "Let's start by pulling out the numbers and ditching the rest of the characters. Dyadic ∊ is \"member of\", so combined with ⎕D (a string of the numbers 0-9) we can get a binary array indicating where the numbers are."
   ]
  },
  {
   "cell_type": "code",
   "execution_count": 62,
   "id": "cf200f79",
   "metadata": {},
   "outputs": [
    {
     "data": {
      "text/html": [
       "<pre class=\"language-APL\">2-4,6-8\n",
       "</pre>"
      ]
     },
     "execution_count": 62,
     "metadata": {},
     "output_type": "execute_result"
    },
    {
     "data": {
      "text/html": [
       "<pre class=\"language-APL\">1 0 1 0 1 0 1\n",
       "</pre>"
      ]
     },
     "execution_count": 62,
     "metadata": {},
     "output_type": "execute_result"
    }
   ],
   "source": [
    "⊢line←⊃input\n",
    "line∊⎕D"
   ]
  },
  {
   "cell_type": "markdown",
   "id": "0804580e",
   "metadata": {},
   "source": [
    "Now we want to split that array up. Dyadic ⊆ (partition) is perfect for this, it groups contiguous spans of 1s into subarrays and removes 0s."
   ]
  },
  {
   "cell_type": "code",
   "execution_count": 60,
   "id": "72d4bbd7",
   "metadata": {},
   "outputs": [
    {
     "data": {
      "text/html": [
       "<pre class=\"language-APL\">┌───┬───┐\n",
       "│1 2│4 5│\n",
       "└───┴───┘\n",
       "</pre>"
      ]
     },
     "execution_count": 60,
     "metadata": {},
     "output_type": "execute_result"
    }
   ],
   "source": [
    "1 1 0 1 1⊆1 2 3 4 5"
   ]
  },
  {
   "cell_type": "markdown",
   "id": "acb18be9",
   "metadata": {},
   "source": [
    "⊆ is designed specifically to work well with grouping based on conditions: you apply a condition that puts 0s where you want splits to be, then you use ⊆ to make the splits."
   ]
  },
  {
   "cell_type": "code",
   "execution_count": 63,
   "id": "4a202480",
   "metadata": {},
   "outputs": [
    {
     "data": {
      "text/html": [
       "<pre class=\"language-APL\">┌─┬─┬─┬─┐\n",
       "│2│4│6│8│\n",
       "└─┴─┴─┴─┘\n",
       "</pre>"
      ]
     },
     "execution_count": 63,
     "metadata": {},
     "output_type": "execute_result"
    }
   ],
   "source": [
    "(line∊⎕D)⊆line"
   ]
  },
  {
   "cell_type": "markdown",
   "id": "4cbbb8d4",
   "metadata": {},
   "source": [
    "Now we just need to apply that over the whole input"
   ]
  },
  {
   "cell_type": "code",
   "execution_count": 64,
   "id": "db716716",
   "metadata": {},
   "outputs": [
    {
     "data": {
      "text/html": [
       "<pre class=\"language-APL\">┌─────────┬─────────┬─────────┬─────────┬─────────┬─────────┐\n",
       "│┌─┬─┬─┬─┐│┌─┬─┬─┬─┐│┌─┬─┬─┬─┐│┌─┬─┬─┬─┐│┌─┬─┬─┬─┐│┌─┬─┬─┬─┐│\n",
       "││2│4│6│8│││2│3│4│5│││5│7│7│9│││2│8│3│7│││6│6│4│6│││2│6│4│8││\n",
       "│└─┴─┴─┴─┘│└─┴─┴─┴─┘│└─┴─┴─┴─┘│└─┴─┴─┴─┘│└─┴─┴─┴─┘│└─┴─┴─┴─┘│\n",
       "└─────────┴─────────┴─────────┴─────────┴─────────┴─────────┘\n",
       "</pre>"
      ]
     },
     "execution_count": 64,
     "metadata": {},
     "output_type": "execute_result"
    }
   ],
   "source": [
    "{(⍵∊⎕D)⊆⍵}¨input"
   ]
  },
  {
   "cell_type": "markdown",
   "id": "70eb60ae",
   "metadata": {},
   "source": [
    "But wait, this is a great opportunity to use a *fork*! Remember, a fork allows you to write `(f x) h (g x)` as `(f g h)x`. We have an ⍵ on both sides of that dfn, and they're getting combined with ⊆. On the left our function is ∊⎕D, and on the right, we can use ⊢ (identity) to return the input unchanged.\n",
    "\n",
    "One problem though: ∊ wants our line to be its *left* argument, but when we use ¨ (each) to map over the input it'll be provided on the *right*. To fix that, We can use \"swap\" (⍨) to flip ∊'s arguments.\n",
    "\n",
    "Once we do that though, we need a way to provide ⎕D as ∊'s right argument. ∘ (bind) allows us to turn a dyadic function into a monadic one by partially-applying one of the arguments. With that, we have:"
   ]
  },
  {
   "cell_type": "code",
   "execution_count": 90,
   "id": "63966a63",
   "metadata": {},
   "outputs": [
    {
     "data": {
      "text/html": [
       "<pre class=\"language-APL\">┌─────────┬─────────┬─────────┬─────────┬─────────┬─────────┐\n",
       "│┌─┬─┬─┬─┐│┌─┬─┬─┬─┐│┌─┬─┬─┬─┐│┌─┬─┬─┬─┐│┌─┬─┬─┬─┐│┌─┬─┬─┬─┐│\n",
       "││2│4│6│8│││2│3│4│5│││5│7│7│9│││2│8│3│7│││6│6│4│6│││2│6│4│8││\n",
       "│└─┴─┴─┴─┘│└─┴─┴─┴─┘│└─┴─┴─┴─┘│└─┴─┴─┴─┘│└─┴─┴─┴─┘│└─┴─┴─┴─┘│\n",
       "└─────────┴─────────┴─────────┴─────────┴─────────┴─────────┘\n",
       "</pre>"
      ]
     },
     "execution_count": 90,
     "metadata": {},
     "output_type": "execute_result"
    }
   ],
   "source": [
    "(⎕D∘(∊⍨)⊆⊢)¨input"
   ]
  },
  {
   "cell_type": "markdown",
   "id": "8e3ed462",
   "metadata": {},
   "source": [
    "Why the parentheses around ∊⍨? Look how APL parses the code without them:"
   ]
  },
  {
   "cell_type": "code",
   "execution_count": 107,
   "id": "bc179a21",
   "metadata": {},
   "outputs": [
    {
     "data": {
      "text/html": [
       "<pre class=\"language-APL\"> ┌─┼─┐\n",
       " ∘ ⊆ ⊢\n",
       "┌┴─┐\n",
       "⎕D ⍨\n",
       " ┌─┘\n",
       " ∊\n",
       "</pre>"
      ]
     },
     "execution_count": 107,
     "metadata": {},
     "output_type": "execute_result"
    },
    {
     "data": {
      "text/html": [
       "<pre class=\"language-APL\">   ┌─┼─┐\n",
       "   ⍨ ⊆ ⊢\n",
       " ┌─┘\n",
       " ∘\n",
       "┌┴─┐\n",
       "⎕D ∊\n",
       "</pre>"
      ]
     },
     "execution_count": 107,
     "metadata": {},
     "output_type": "execute_result"
    }
   ],
   "source": [
    "(⎕D∘(∊⍨)⊆⊢)\n",
    "(⎕D∘∊⍨⊆⊢)"
   ]
  },
  {
   "cell_type": "markdown",
   "id": "9e2987e4",
   "metadata": {},
   "source": [
    "⍨ gets applied to the entirety of ⎕D∘∊ instead of just ∊, which would put ⎕D on ∊'s *right*, not *left*.\n",
    "\n",
    "I'm not sure why (∊∘⎕D⍨⊆⊢) doesn't work, if you figure it out let me know!"
   ]
  },
  {
   "cell_type": "markdown",
   "id": "e43d6629",
   "metadata": {},
   "source": [
    "One final diversion on forks: we could also write this like so:"
   ]
  },
  {
   "cell_type": "code",
   "execution_count": 93,
   "id": "623c2616",
   "metadata": {},
   "outputs": [
    {
     "data": {
      "text/html": [
       "<pre class=\"language-APL\">┌─┬─┬─┬─┐\n",
       "│2│4│6│8│\n",
       "└─┴─┴─┴─┘\n",
       "</pre>"
      ]
     },
     "execution_count": 93,
     "metadata": {},
     "output_type": "execute_result"
    }
   ],
   "source": [
    "⎕D(∊⍨⊆⊢)line"
   ]
  },
  {
   "cell_type": "markdown",
   "id": "f5ddeca6",
   "metadata": {},
   "source": [
    "That's right, forks can take both left *and* right arguments! The full definition of a fork is:\n",
    "```\n",
    "a(f g h)b = (a f b) h (a g b)\n",
    "```\n",
    "There's also a dual to ⊢: ⊣ is the identity function of its *left* argument.\n",
    "\n",
    "Though to map it over the input, we have to reintroduce ∘."
   ]
  },
  {
   "cell_type": "code",
   "execution_count": 94,
   "id": "61cc1dd7",
   "metadata": {},
   "outputs": [
    {
     "data": {
      "text/html": [
       "<pre class=\"language-APL\">┌─────────┬─────────┬─────────┬─────────┬─────────┬─────────┐\n",
       "│┌─┬─┬─┬─┐│┌─┬─┬─┬─┐│┌─┬─┬─┬─┐│┌─┬─┬─┬─┐│┌─┬─┬─┬─┐│┌─┬─┬─┬─┐│\n",
       "││2│4│6│8│││2│3│4│5│││5│7│7│9│││2│8│3│7│││6│6│4│6│││2│6│4│8││\n",
       "│└─┴─┴─┴─┘│└─┴─┴─┴─┘│└─┴─┴─┴─┘│└─┴─┴─┴─┘│└─┴─┴─┴─┘│└─┴─┴─┴─┘│\n",
       "└─────────┴─────────┴─────────┴─────────┴─────────┴─────────┘\n",
       "</pre>"
      ]
     },
     "execution_count": 94,
     "metadata": {},
     "output_type": "execute_result"
    }
   ],
   "source": [
    "⎕D∘(∊⍨⊆⊢)¨input"
   ]
  },
  {
   "cell_type": "markdown",
   "id": "27a1adad",
   "metadata": {},
   "source": [
    "Setting aside playing with forks, now we want to transform this nested array of arrays of single numbers into an array with all the first elements, an array with all the second elements, etc. APL has the ⍉ (transpose) function, but it works on matricies, not nested arrays. That's easy to fix though, we can just ↑ (mix) the array into a matrix, transpose, and then ↓ (split) it back into a nested array."
   ]
  },
  {
   "cell_type": "code",
   "execution_count": 98,
   "id": "0980518c",
   "metadata": {},
   "outputs": [
    {
     "data": {
      "text/html": [
       "<pre class=\"language-APL\">┌─┬─┬─┬─┐\n",
       "│2│4│6│8│\n",
       "├─┼─┼─┼─┤\n",
       "│2│3│4│5│\n",
       "├─┼─┼─┼─┤\n",
       "│5│7│7│9│\n",
       "├─┼─┼─┼─┤\n",
       "│2│8│3│7│\n",
       "├─┼─┼─┼─┤\n",
       "│6│6│4│6│\n",
       "├─┼─┼─┼─┤\n",
       "│2│6│4│8│\n",
       "└─┴─┴─┴─┘\n",
       "</pre>"
      ]
     },
     "execution_count": 98,
     "metadata": {},
     "output_type": "execute_result"
    },
    {
     "data": {
      "text/html": [
       "<pre class=\"language-APL\">┌─┬─┬─┬─┬─┬─┐\n",
       "│2│2│5│2│6│2│\n",
       "├─┼─┼─┼─┼─┼─┤\n",
       "│4│3│7│8│6│6│\n",
       "├─┼─┼─┼─┼─┼─┤\n",
       "│6│4│7│3│4│4│\n",
       "├─┼─┼─┼─┼─┼─┤\n",
       "│8│5│9│7│6│8│\n",
       "└─┴─┴─┴─┴─┴─┘\n",
       "</pre>"
      ]
     },
     "execution_count": 98,
     "metadata": {},
     "output_type": "execute_result"
    },
    {
     "data": {
      "text/html": [
       "<pre class=\"language-APL\">┌─────────────┬─────────────┬─────────────┬─────────────┐\n",
       "│┌─┬─┬─┬─┬─┬─┐│┌─┬─┬─┬─┬─┬─┐│┌─┬─┬─┬─┬─┬─┐│┌─┬─┬─┬─┬─┬─┐│\n",
       "││2│2│5│2│6│2│││4│3│7│8│6│6│││6│4│7│3│4│4│││8│5│9│7│6│8││\n",
       "│└─┴─┴─┴─┴─┴─┘│└─┴─┴─┴─┴─┴─┘│└─┴─┴─┴─┴─┴─┘│└─┴─┴─┴─┴─┴─┘│\n",
       "└─────────────┴─────────────┴─────────────┴─────────────┘\n",
       "</pre>"
      ]
     },
     "execution_count": 98,
     "metadata": {},
     "output_type": "execute_result"
    }
   ],
   "source": [
    "↑(⎕D∘(∊⍨)⊆⊢)¨input\n",
    "⍉↑(⎕D∘(∊⍨)⊆⊢)¨input\n",
    "↓⍉↑(⎕D∘(∊⍨)⊆⊢)¨input"
   ]
  },
  {
   "cell_type": "markdown",
   "id": "863f921a",
   "metadata": {},
   "source": [
    "At some point, we should also ⍎ (execute) the string digits into numbers."
   ]
  },
  {
   "cell_type": "code",
   "execution_count": 101,
   "id": "b11a9dca",
   "metadata": {},
   "outputs": [
    {
     "data": {
      "text/html": [
       "<pre class=\"language-APL\">┌───────────┬───────────┬───────────┬───────────┐\n",
       "│2 2 5 2 6 2│4 3 7 8 6 6│6 4 7 3 4 4│8 5 9 7 6 8│\n",
       "└───────────┴───────────┴───────────┴───────────┘\n",
       "</pre>"
      ]
     },
     "execution_count": 101,
     "metadata": {},
     "output_type": "execute_result"
    }
   ],
   "source": [
    "↓⍉↑(⍎¨⎕D∘(∊⍨)⊆⊢)¨input"
   ]
  },
  {
   "cell_type": "markdown",
   "id": "1617577a",
   "metadata": {},
   "source": [
    "Now we just have to jam the parsing together with the solution, and part one is complete!"
   ]
  },
  {
   "cell_type": "code",
   "execution_count": 105,
   "id": "61b75faf",
   "metadata": {},
   "outputs": [
    {
     "data": {
      "text/html": [
       "<pre class=\"language-APL\">2\n",
       "</pre>"
      ]
     },
     "execution_count": 105,
     "metadata": {},
     "output_type": "execute_result"
    }
   ],
   "source": [
    "parsed←↓⍉↑(⍎¨⎕D∘(∊⍨)⊆⊢)¨input\n",
    "start1 end1 start2 end2 ← parsed\n",
    "+/((start1≥start2)∧(end1≤end2))∨((start1≤start2)∧(end1≥end2))"
   ]
  },
  {
   "cell_type": "markdown",
   "id": "2eaddb2d",
   "metadata": {},
   "source": [
    "## Part two\n",
    "The parsing is the same for part two, the solution just uses slightly different logic. Rather than looking for fully-contained ranges, we're now looking for any overlapping ranges. I found it easier to test for when ranges *don't* overlap, and then negate the result using ~."
   ]
  },
  {
   "cell_type": "code",
   "execution_count": 106,
   "id": "315e3bc8",
   "metadata": {},
   "outputs": [
    {
     "data": {
      "text/html": [
       "<pre class=\"language-APL\">1 1 0 0 0 0\n",
       "</pre>"
      ]
     },
     "execution_count": 106,
     "metadata": {},
     "output_type": "execute_result"
    },
    {
     "data": {
      "text/html": [
       "<pre class=\"language-APL\">0 0 1 1 1 1\n",
       "</pre>"
      ]
     },
     "execution_count": 106,
     "metadata": {},
     "output_type": "execute_result"
    },
    {
     "data": {
      "text/html": [
       "<pre class=\"language-APL\">4\n",
       "</pre>"
      ]
     },
     "execution_count": 106,
     "metadata": {},
     "output_type": "execute_result"
    }
   ],
   "source": [
    "(end1<start2)∨(end2<start1)\n",
    "~(end1<start2)∨(end2<start1)\n",
    "+/~(end1<start2)∨(end2<start1)"
   ]
  },
  {
   "cell_type": "markdown",
   "id": "a5ff0583",
   "metadata": {},
   "source": [
    "And that's it for part two!"
   ]
  }
 ],
 "metadata": {
  "kernelspec": {
   "display_name": "Dyalog APL",
   "language": "apl",
   "name": "dyalog-kernel"
  },
  "language_info": {
   "file_extension": ".apl",
   "mimetype": "text/apl",
   "name": "APL"
  }
 },
 "nbformat": 4,
 "nbformat_minor": 5
}
