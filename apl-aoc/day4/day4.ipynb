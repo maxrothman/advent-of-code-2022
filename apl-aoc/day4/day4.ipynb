{
 "cells": [
  {
   "cell_type": "markdown",
   "id": "f04b2cf1",
   "metadata": {},
   "source": [
    "## Part one\n",
    "Today's problem is incredibly well-suited to array programming. Let's start by assuming the data is already parsed in the shape we want (the ⍝ (lamp) just indicates a line comment):"
   ]
  },
  {
   "cell_type": "code",
   "execution_count": 6,
   "id": "b600fcd4",
   "metadata": {},
   "outputs": [],
   "source": [
    "⍝ 2-4,6-8\n",
    "⍝ 2-3,4-5\n",
    "⍝ 5-7,7-9\n",
    "⍝ 2-8,3-7\n",
    "⍝ 6-6,4-6\n",
    "⍝ 2-6,4-8\n",
    "start1←2 2 5 2 6 2\n",
    "end1←4 3 7 8 6 6\n",
    "start2←6 4 7 3 4 4\n",
    "end2←8 5 9 7 6 8"
   ]
  },
  {
   "cell_type": "markdown",
   "id": "e16ef0a7",
   "metadata": {},
   "source": [
    "All of APL's comparison functions are *rank-polymorphic*, meaning that when they are applied to arrays, they compare elements in those arrays pairwise. APL has no booleans, so all comparison functions return binary arrays. ∧ means \"and\" and ∨ means \"or\"."
   ]
  },
  {
   "cell_type": "code",
   "execution_count": 7,
   "id": "800ed27d",
   "metadata": {},
   "outputs": [
    {
     "data": {
      "text/html": [
       "<pre class=\"language-APL\">1\n",
       "</pre>"
      ]
     },
     "execution_count": 7,
     "metadata": {},
     "output_type": "execute_result"
    },
    {
     "data": {
      "text/html": [
       "<pre class=\"language-APL\">1 0\n",
       "</pre>"
      ]
     },
     "execution_count": 7,
     "metadata": {},
     "output_type": "execute_result"
    },
    {
     "data": {
      "text/html": [
       "<pre class=\"language-APL\">0 1\n",
       "</pre>"
      ]
     },
     "execution_count": 7,
     "metadata": {},
     "output_type": "execute_result"
    }
   ],
   "source": [
    "1<2\n",
    "1 2<2 1\n",
    "0 1∧1 1"
   ]
  },
  {
   "cell_type": "markdown",
   "id": "5d74f198",
   "metadata": {},
   "source": [
    "The solution to part one is just simple logic:"
   ]
  },
  {
   "cell_type": "code",
   "execution_count": 8,
   "id": "d21ac1f1",
   "metadata": {},
   "outputs": [
    {
     "data": {
      "text/html": [
       "<pre class=\"language-APL\">0 0 0 1 1 0\n",
       "</pre>"
      ]
     },
     "execution_count": 8,
     "metadata": {},
     "output_type": "execute_result"
    },
    {
     "data": {
      "text/html": [
       "<pre class=\"language-APL\">2\n",
       "</pre>"
      ]
     },
     "execution_count": 8,
     "metadata": {},
     "output_type": "execute_result"
    }
   ],
   "source": [
    "⊢x←((start1≥start2)∧(end1≤end2))∨((start1≤start2)∧(end1≥end2))\n",
    "+/x"
   ]
  },
  {
   "cell_type": "markdown",
   "id": "206c21f8",
   "metadata": {},
   "source": [
    "## Parsing\n",
    "Now the question is, how do we get the input into that shape?\n",
    "\n",
    "Let's start by pulling out the numbers and ditching the rest of the characters. Dyadic ∊ is \"member of\", so combined with ⎕D (a string of the numbers 0-9) we can get a binary array indicating where the numbers are."
   ]
  },
  {
   "cell_type": "code",
   "execution_count": 9,
   "id": "bdeab27c",
   "metadata": {},
   "outputs": [
    {
     "data": {
      "text/html": [
       "<pre class=\"language-APL\">2-4,6-8\n",
       "</pre>"
      ]
     },
     "execution_count": 9,
     "metadata": {},
     "output_type": "execute_result"
    },
    {
     "data": {
      "text/html": [
       "<pre class=\"language-APL\">1 0 1 0 1 0 1\n",
       "</pre>"
      ]
     },
     "execution_count": 9,
     "metadata": {},
     "output_type": "execute_result"
    }
   ],
   "source": [
    "input←'2-4,6-8' '2-3,4-5' '5-7,7-9' '2-8,3-7' '6-6,4-6' '2-6,4-8'\n",
    "⊢line←⊃input\n",
    "line∊⎕D"
   ]
  },
  {
   "cell_type": "markdown",
   "id": "9a05ac16",
   "metadata": {},
   "source": [
    "Now we want to split that array up. Dyadic ⊆ (partition) is perfect for this, it groups contiguous spans of 1s into subarrays and removes 0s."
   ]
  },
  {
   "cell_type": "code",
   "execution_count": 10,
   "id": "03b161b7",
   "metadata": {},
   "outputs": [
    {
     "data": {
      "text/html": [
       "<pre class=\"language-APL\">┌───┬───┐\n",
       "│1 2│4 5│\n",
       "└───┴───┘\n",
       "</pre>"
      ]
     },
     "execution_count": 10,
     "metadata": {},
     "output_type": "execute_result"
    }
   ],
   "source": [
    "1 1 0 1 1⊆1 2 3 4 5"
   ]
  },
  {
   "cell_type": "markdown",
   "id": "b6629c2c",
   "metadata": {},
   "source": [
    "⊆ is designed specifically to work well with grouping based on conditions: you apply a condition that puts 0s where you want splits to be, then you use ⊆ to make the splits."
   ]
  },
  {
   "cell_type": "code",
   "execution_count": 11,
   "id": "32774ed9",
   "metadata": {},
   "outputs": [
    {
     "data": {
      "text/html": [
       "<pre class=\"language-APL\">┌─┬─┬─┬─┐\n",
       "│2│4│6│8│\n",
       "└─┴─┴─┴─┘\n",
       "</pre>"
      ]
     },
     "execution_count": 11,
     "metadata": {},
     "output_type": "execute_result"
    }
   ],
   "source": [
    "(line∊⎕D)⊆line"
   ]
  },
  {
   "cell_type": "markdown",
   "id": "ee9788a8",
   "metadata": {},
   "source": [
    "Now we just need to apply that over the whole input"
   ]
  },
  {
   "cell_type": "code",
   "execution_count": 12,
   "id": "4378e48d",
   "metadata": {},
   "outputs": [
    {
     "data": {
      "text/html": [
       "<pre class=\"language-APL\">┌─────────┬─────────┬─────────┬─────────┬─────────┬─────────┐\n",
       "│┌─┬─┬─┬─┐│┌─┬─┬─┬─┐│┌─┬─┬─┬─┐│┌─┬─┬─┬─┐│┌─┬─┬─┬─┐│┌─┬─┬─┬─┐│\n",
       "││2│4│6│8│││2│3│4│5│││5│7│7│9│││2│8│3│7│││6│6│4│6│││2│6│4│8││\n",
       "│└─┴─┴─┴─┘│└─┴─┴─┴─┘│└─┴─┴─┴─┘│└─┴─┴─┴─┘│└─┴─┴─┴─┘│└─┴─┴─┴─┘│\n",
       "└─────────┴─────────┴─────────┴─────────┴─────────┴─────────┘\n",
       "</pre>"
      ]
     },
     "execution_count": 12,
     "metadata": {},
     "output_type": "execute_result"
    }
   ],
   "source": [
    "{(⍵∊⎕D)⊆⍵}¨input"
   ]
  },
  {
   "cell_type": "markdown",
   "id": "c9e0bb94",
   "metadata": {},
   "source": [
    "But wait, this is a great opportunity to use a *fork*! Remember, a fork allows you to write `(f x) h (g x)` as `(f g h)x`. We have an ⍵ on both sides of that dfn, and they're getting combined with ⊆. On the left our function is ∊⎕D, and on the right, we can use ⊢ (identity) to return the input unchanged.\n",
    "\n",
    "One problem though: ∊ wants our line to be its *left* argument, but when we use ¨ (each) to map over the input it'll be provided on the *right*. To fix that, We can use \"swap\" (⍨) to flip ∊'s arguments.\n",
    "\n",
    "Once we do that though, we need a way to provide ⎕D as ∊'s right argument. ∘ (bind) allows us to turn a dyadic function into a monadic one by partially-applying one of the arguments. With that, we have:"
   ]
  },
  {
   "cell_type": "code",
   "execution_count": 13,
   "id": "f5d1def3",
   "metadata": {},
   "outputs": [
    {
     "data": {
      "text/html": [
       "<pre class=\"language-APL\">┌─────────┬─────────┬─────────┬─────────┬─────────┬─────────┐\n",
       "│┌─┬─┬─┬─┐│┌─┬─┬─┬─┐│┌─┬─┬─┬─┐│┌─┬─┬─┬─┐│┌─┬─┬─┬─┐│┌─┬─┬─┬─┐│\n",
       "││2│4│6│8│││2│3│4│5│││5│7│7│9│││2│8│3│7│││6│6│4│6│││2│6│4│8││\n",
       "│└─┴─┴─┴─┘│└─┴─┴─┴─┘│└─┴─┴─┴─┘│└─┴─┴─┴─┘│└─┴─┴─┴─┘│└─┴─┴─┴─┘│\n",
       "└─────────┴─────────┴─────────┴─────────┴─────────┴─────────┘\n",
       "</pre>"
      ]
     },
     "execution_count": 13,
     "metadata": {},
     "output_type": "execute_result"
    }
   ],
   "source": [
    "(⎕D∘(∊⍨)⊆⊢)¨input"
   ]
  },
  {
   "cell_type": "markdown",
   "id": "fa040d7a",
   "metadata": {},
   "source": [
    "Why the parentheses around ∊⍨? Look how APL parses the code without them:"
   ]
  },
  {
   "cell_type": "code",
   "execution_count": 14,
   "id": "64abbeeb",
   "metadata": {},
   "outputs": [
    {
     "data": {
      "text/html": [
       "<pre class=\"language-APL\"> ┌─┼─┐\n",
       " ∘ ⊆ ⊢\n",
       "┌┴─┐\n",
       "⎕D ⍨\n",
       " ┌─┘\n",
       " ∊\n",
       "</pre>"
      ]
     },
     "execution_count": 14,
     "metadata": {},
     "output_type": "execute_result"
    },
    {
     "data": {
      "text/html": [
       "<pre class=\"language-APL\">   ┌─┼─┐\n",
       "   ⍨ ⊆ ⊢\n",
       " ┌─┘\n",
       " ∘\n",
       "┌┴─┐\n",
       "⎕D ∊\n",
       "</pre>"
      ]
     },
     "execution_count": 14,
     "metadata": {},
     "output_type": "execute_result"
    }
   ],
   "source": [
    "(⎕D∘(∊⍨)⊆⊢)\n",
    "(⎕D∘∊⍨⊆⊢)"
   ]
  },
  {
   "cell_type": "markdown",
   "id": "a2c68089",
   "metadata": {},
   "source": [
    "⍨ gets applied to the entirety of ⎕D∘∊ instead of just ∊, which would put ⎕D on ∊'s *right*, not *left*.\n",
    "\n",
    "I'm not sure why (∊∘⎕D⍨⊆⊢) doesn't work, if you figure it out let me know!"
   ]
  },
  {
   "cell_type": "markdown",
   "id": "d32c56fd",
   "metadata": {},
   "source": [
    "One final diversion on forks: we could also write this like so:"
   ]
  },
  {
   "cell_type": "code",
   "execution_count": 15,
   "id": "786f5466",
   "metadata": {},
   "outputs": [
    {
     "data": {
      "text/html": [
       "<pre class=\"language-APL\">┌─┬─┬─┬─┐\n",
       "│2│4│6│8│\n",
       "└─┴─┴─┴─┘\n",
       "</pre>"
      ]
     },
     "execution_count": 15,
     "metadata": {},
     "output_type": "execute_result"
    }
   ],
   "source": [
    "⎕D(∊⍨⊆⊢)line"
   ]
  },
  {
   "cell_type": "markdown",
   "id": "7410d0bd",
   "metadata": {},
   "source": [
    "That's right, forks can take both left *and* right arguments! The full definition of a fork is:\n",
    "```\n",
    "a(f g h)b = (a f b) h (a g b)\n",
    "```\n",
    "There's also a dual to ⊢: ⊣ is the identity function of its *left* argument.\n",
    "\n",
    "Though to map it over the input, we have to reintroduce ∘."
   ]
  },
  {
   "cell_type": "code",
   "execution_count": 16,
   "id": "e4400479",
   "metadata": {},
   "outputs": [
    {
     "data": {
      "text/html": [
       "<pre class=\"language-APL\">┌─────────┬─────────┬─────────┬─────────┬─────────┬─────────┐\n",
       "│┌─┬─┬─┬─┐│┌─┬─┬─┬─┐│┌─┬─┬─┬─┐│┌─┬─┬─┬─┐│┌─┬─┬─┬─┐│┌─┬─┬─┬─┐│\n",
       "││2│4│6│8│││2│3│4│5│││5│7│7│9│││2│8│3│7│││6│6│4│6│││2│6│4│8││\n",
       "│└─┴─┴─┴─┘│└─┴─┴─┴─┘│└─┴─┴─┴─┘│└─┴─┴─┴─┘│└─┴─┴─┴─┘│└─┴─┴─┴─┘│\n",
       "└─────────┴─────────┴─────────┴─────────┴─────────┴─────────┘\n",
       "</pre>"
      ]
     },
     "execution_count": 16,
     "metadata": {},
     "output_type": "execute_result"
    }
   ],
   "source": [
    "⎕D∘(∊⍨⊆⊢)¨input"
   ]
  },
  {
   "cell_type": "markdown",
   "id": "ea4b7384",
   "metadata": {},
   "source": [
    "Setting aside playing with forks, now we want to transform this nested array of arrays of single numbers into an array with all the first elements, an array with all the second elements, etc. APL has the ⍉ (transpose) function, but it works on matricies, not nested arrays. That's easy to fix though, we can just ↑ (mix) the array into a matrix, transpose, and then ↓ (split) it back into a nested array."
   ]
  },
  {
   "cell_type": "code",
   "execution_count": 17,
   "id": "90ff9069",
   "metadata": {},
   "outputs": [
    {
     "data": {
      "text/html": [
       "<pre class=\"language-APL\">┌─┬─┬─┬─┐\n",
       "│2│4│6│8│\n",
       "├─┼─┼─┼─┤\n",
       "│2│3│4│5│\n",
       "├─┼─┼─┼─┤\n",
       "│5│7│7│9│\n",
       "├─┼─┼─┼─┤\n",
       "│2│8│3│7│\n",
       "├─┼─┼─┼─┤\n",
       "│6│6│4│6│\n",
       "├─┼─┼─┼─┤\n",
       "│2│6│4│8│\n",
       "└─┴─┴─┴─┘\n",
       "</pre>"
      ]
     },
     "execution_count": 17,
     "metadata": {},
     "output_type": "execute_result"
    },
    {
     "data": {
      "text/html": [
       "<pre class=\"language-APL\">┌─┬─┬─┬─┬─┬─┐\n",
       "│2│2│5│2│6│2│\n",
       "├─┼─┼─┼─┼─┼─┤\n",
       "│4│3│7│8│6│6│\n",
       "├─┼─┼─┼─┼─┼─┤\n",
       "│6│4│7│3│4│4│\n",
       "├─┼─┼─┼─┼─┼─┤\n",
       "│8│5│9│7│6│8│\n",
       "└─┴─┴─┴─┴─┴─┘\n",
       "</pre>"
      ]
     },
     "execution_count": 17,
     "metadata": {},
     "output_type": "execute_result"
    },
    {
     "data": {
      "text/html": [
       "<pre class=\"language-APL\">┌─────────────┬─────────────┬─────────────┬─────────────┐\n",
       "│┌─┬─┬─┬─┬─┬─┐│┌─┬─┬─┬─┬─┬─┐│┌─┬─┬─┬─┬─┬─┐│┌─┬─┬─┬─┬─┬─┐│\n",
       "││2│2│5│2│6│2│││4│3│7│8│6│6│││6│4│7│3│4│4│││8│5│9│7│6│8││\n",
       "│└─┴─┴─┴─┴─┴─┘│└─┴─┴─┴─┴─┴─┘│└─┴─┴─┴─┴─┴─┘│└─┴─┴─┴─┴─┴─┘│\n",
       "└─────────────┴─────────────┴─────────────┴─────────────┘\n",
       "</pre>"
      ]
     },
     "execution_count": 17,
     "metadata": {},
     "output_type": "execute_result"
    }
   ],
   "source": [
    "↑(⎕D∘(∊⍨)⊆⊢)¨input\n",
    "⍉↑(⎕D∘(∊⍨)⊆⊢)¨input\n",
    "↓⍉↑(⎕D∘(∊⍨)⊆⊢)¨input"
   ]
  },
  {
   "cell_type": "markdown",
   "id": "765716cd",
   "metadata": {},
   "source": [
    "At some point, we should also ⍎ (execute) the string digits into numbers."
   ]
  },
  {
   "cell_type": "code",
   "execution_count": 18,
   "id": "a9725f5c",
   "metadata": {},
   "outputs": [
    {
     "data": {
      "text/html": [
       "<pre class=\"language-APL\">┌───────────┬───────────┬───────────┬───────────┐\n",
       "│2 2 5 2 6 2│4 3 7 8 6 6│6 4 7 3 4 4│8 5 9 7 6 8│\n",
       "└───────────┴───────────┴───────────┴───────────┘\n",
       "</pre>"
      ]
     },
     "execution_count": 18,
     "metadata": {},
     "output_type": "execute_result"
    }
   ],
   "source": [
    "↓⍉↑(⍎¨⎕D∘(∊⍨)⊆⊢)¨input"
   ]
  },
  {
   "cell_type": "markdown",
   "id": "01363cf4",
   "metadata": {},
   "source": [
    "Now we just have to jam the parsing together with the solution, and part one is complete!"
   ]
  },
  {
   "cell_type": "code",
   "execution_count": 19,
   "id": "4d88e3e8",
   "metadata": {},
   "outputs": [
    {
     "data": {
      "text/html": [
       "<pre class=\"language-APL\">2\n",
       "</pre>"
      ]
     },
     "execution_count": 19,
     "metadata": {},
     "output_type": "execute_result"
    }
   ],
   "source": [
    "parsed←↓⍉↑(⍎¨⎕D∘(∊⍨)⊆⊢)¨input\n",
    "start1 end1 start2 end2 ← parsed\n",
    "+/((start1≥start2)∧(end1≤end2))∨((start1≤start2)∧(end1≥end2))"
   ]
  },
  {
   "cell_type": "markdown",
   "id": "ad89cd7a",
   "metadata": {},
   "source": [
    "## Part two\n",
    "The parsing is the same for part two, the solution just uses slightly different logic. Rather than looking for fully-contained ranges, we're now looking for any overlapping ranges. I found it easier to test for when ranges *don't* overlap, and then negate the result using ~."
   ]
  },
  {
   "cell_type": "code",
   "execution_count": 20,
   "id": "1ad6a9f8",
   "metadata": {},
   "outputs": [
    {
     "data": {
      "text/html": [
       "<pre class=\"language-APL\">1 1 0 0 0 0\n",
       "</pre>"
      ]
     },
     "execution_count": 20,
     "metadata": {},
     "output_type": "execute_result"
    },
    {
     "data": {
      "text/html": [
       "<pre class=\"language-APL\">0 0 1 1 1 1\n",
       "</pre>"
      ]
     },
     "execution_count": 20,
     "metadata": {},
     "output_type": "execute_result"
    },
    {
     "data": {
      "text/html": [
       "<pre class=\"language-APL\">4\n",
       "</pre>"
      ]
     },
     "execution_count": 20,
     "metadata": {},
     "output_type": "execute_result"
    }
   ],
   "source": [
    "(end1<start2)∨(end2<start1)\n",
    "~(end1<start2)∨(end2<start1)\n",
    "+/~(end1<start2)∨(end2<start1)"
   ]
  },
  {
   "cell_type": "markdown",
   "id": "328a4a5a",
   "metadata": {},
   "source": [
    "And that's it for part two!"
   ]
  }
 ],
 "metadata": {
  "kernelspec": {
   "display_name": "Dyalog APL",
   "language": "apl",
   "name": "dyalog-kernel"
  },
  "language_info": {
   "file_extension": ".apl",
   "mimetype": "text/apl",
   "name": "APL"
  }
 },
 "nbformat": 4,
 "nbformat_minor": 5
}
