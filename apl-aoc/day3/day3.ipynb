{
 "cells": [
  {
   "cell_type": "code",
   "execution_count": 374,
   "id": "1769cee8",
   "metadata": {},
   "outputs": [
    {
     "data": {
      "text/html": [
       "<pre class=\"language-APL\">Was ON\n",
       "</pre>"
      ]
     },
     "execution_count": 374,
     "metadata": {},
     "output_type": "execute_result"
    },
    {
     "data": {
      "text/html": [
       "<pre class=\"language-APL\">Was ON\n",
       "</pre>"
      ]
     },
     "execution_count": 374,
     "metadata": {},
     "output_type": "execute_result"
    }
   ],
   "source": [
    "]box on\n",
    "]rows on\n",
    "⎕PW←1000"
   ]
  },
  {
   "cell_type": "markdown",
   "id": "9dd50f9d",
   "metadata": {},
   "source": [
    "## Part one\n",
    "\n",
    "First, let's figure out how to map letters to priorities. This magic incantation gives us an array of the lowercase letters followed by the uppercase letters. Lucky for us, their indices (1-indexed by default in APL) is their priority."
   ]
  },
  {
   "cell_type": "code",
   "execution_count": 12,
   "id": "a82c2572",
   "metadata": {},
   "outputs": [
    {
     "data": {
      "text/html": [
       "<pre class=\"language-APL\">abcdefghijklmnopqrstuvwxyzABCDEFGHIJKLMNOPQRSTUVWXYZ\n",
       "</pre>"
      ]
     },
     "execution_count": 12,
     "metadata": {},
     "output_type": "execute_result"
    }
   ],
   "source": [
    "⊢letters←(⎕UCS 96+⍳26),⎕A"
   ]
  },
  {
   "cell_type": "markdown",
   "id": "dac69bab",
   "metadata": {},
   "source": [
    "With that, we can use \"index of\" (dyadic ⍳) to get the priorities of each letter:"
   ]
  },
  {
   "cell_type": "code",
   "execution_count": 375,
   "id": "3ea45594",
   "metadata": {},
   "outputs": [
    {
     "data": {
      "text/html": [
       "<pre class=\"language-APL\">3 26 2 1\n",
       "</pre>"
      ]
     },
     "execution_count": 375,
     "metadata": {},
     "output_type": "execute_result"
    }
   ],
   "source": [
    "letters⍳'czba'"
   ]
  },
  {
   "cell_type": "markdown",
   "id": "7f5c6f29",
   "metadata": {},
   "source": [
    "Ok, let's shelve that for a minute and figure out how to find the duplicated items in each rucksack.\n",
    "\n",
    "First, we need to divide each line in two. For that, we can use \"reshape\" (dyadic ⍴). It takes an array of dimensions on the left and an array to reshape on the right, and returns a matrix with those dimensions:"
   ]
  },
  {
   "cell_type": "code",
   "execution_count": 377,
   "id": "fb32817f",
   "metadata": {},
   "outputs": [
    {
     "data": {
      "text/html": [
       "<pre class=\"language-APL\">1 2 3\n",
       "4 5 6\n",
       "</pre>"
      ]
     },
     "execution_count": 377,
     "metadata": {},
     "output_type": "execute_result"
    }
   ],
   "source": [
    "2 3⍴1 2 3 4 5 6"
   ]
  },
  {
   "cell_type": "markdown",
   "id": "3e040423",
   "metadata": {},
   "source": [
    "Since ⍴ reads items out of the input array by filling up each row before moving onto the next one, to end up with half of each line in a row we want matrices with 2 rows and n/2 columns, where n is the length of the string.\n",
    "\n",
    "Let's try it on the first line of input (⊃ monadically is \"first\"):"
   ]
  },
  {
   "cell_type": "code",
   "execution_count": 385,
   "id": "7504a770",
   "metadata": {},
   "outputs": [
    {
     "data": {
      "text/html": [
       "<pre class=\"language-APL\">vJrwpWtwJgWr\n",
       "hcsFMMfFFhFp\n",
       "</pre>"
      ]
     },
     "execution_count": 385,
     "metadata": {},
     "output_type": "execute_result"
    }
   ],
   "source": [
    "line←⊃input\n",
    "2 (2÷⍨≢line)⍴line\n",
    "(≢line)÷2"
   ]
  },
  {
   "cell_type": "markdown",
   "id": "efa34755",
   "metadata": {},
   "source": [
    "There's a little going on in there, so let's break it down. ≢ (tally) returns the length of its input. To divide it by 2, we could write:\n",
    "```\n",
    "(≢line)÷2\n",
    "```\n",
    "But that's kind of awkward with APL's right-to-left evaluation semantics. Instead, we can use the \"swap\" (⍨) to flip the arguments of ÷, removing some pesky parentheses."
   ]
  },
  {
   "cell_type": "markdown",
   "id": "3abb9dce",
   "metadata": {},
   "source": [
    "Next, we want to find the letter in common between those two rows. \"Intersection\" (∩) is perfect for that, when used dyadically it returns only the elements in common between its two arguments:"
   ]
  },
  {
   "cell_type": "code",
   "execution_count": 387,
   "id": "c8d7433b",
   "metadata": {},
   "outputs": [
    {
     "data": {
      "text/html": [
       "<pre class=\"language-APL\">3\n",
       "</pre>"
      ]
     },
     "execution_count": 387,
     "metadata": {},
     "output_type": "execute_result"
    }
   ],
   "source": [
    "1 2 3∩3 4 5"
   ]
  },
  {
   "cell_type": "markdown",
   "id": "f29be4d7",
   "metadata": {},
   "source": [
    "But it wants its arguments to be arrays, and instead of two arrays, we currently have a single matrix. Luckily, \"split\" (↓) does exactly that: it turns matrices into nested arrays of rows:"
   ]
  },
  {
   "cell_type": "code",
   "execution_count": 389,
   "id": "8b1b4f52",
   "metadata": {},
   "outputs": [
    {
     "data": {
      "text/html": [
       "<pre class=\"language-APL\">1 2 3\n",
       "4 5 6\n",
       "</pre>"
      ]
     },
     "execution_count": 389,
     "metadata": {},
     "output_type": "execute_result"
    },
    {
     "data": {
      "text/html": [
       "<pre class=\"language-APL\">┌─────┬─────┐\n",
       "│1 2 3│4 5 6│\n",
       "└─────┴─────┘\n",
       "</pre>"
      ]
     },
     "execution_count": 389,
     "metadata": {},
     "output_type": "execute_result"
    }
   ],
   "source": [
    "2 3⍴1 2 3 4 5 6\n",
    "↓2 3⍴1 2 3 4 5 6"
   ]
  },
  {
   "cell_type": "markdown",
   "id": "ddb53156",
   "metadata": {},
   "source": [
    "Now we can just \"reduce\" (/) each pair of array using ∩! Reduce is an operator that takes a array of arrays on the right and inserts its left-hand argument between each. For example, `+/1 2 3 4` is the same as `1 + 2 + 3 + 4`."
   ]
  },
  {
   "cell_type": "code",
   "execution_count": 386,
   "id": "960ebca4",
   "metadata": {},
   "outputs": [
    {
     "data": {
      "text/html": [
       "<pre class=\"language-APL\">┌─┐\n",
       "│p│\n",
       "└─┘\n",
       "</pre>"
      ]
     },
     "execution_count": 386,
     "metadata": {},
     "output_type": "execute_result"
    }
   ],
   "source": [
    "∩/↓2 (2÷⍨≢line)⍴line"
   ]
  },
  {
   "cell_type": "markdown",
   "id": "b48b3730",
   "metadata": {},
   "source": [
    "We might think we're done here, but if we map the code we just wrote over the entire test input, we get a different story:"
   ]
  },
  {
   "cell_type": "code",
   "execution_count": 391,
   "id": "699a6ae8",
   "metadata": {},
   "outputs": [
    {
     "data": {
      "text/html": [
       "<pre class=\"language-APL\">┌───┬────┬────┬────┬─────┬─────┐\n",
       "│┌─┐│┌──┐│┌──┐│┌──┐│┌───┐│┌───┐│\n",
       "││p│││LL│││PP│││vv│││ttt│││sss││\n",
       "│└─┘│└──┘│└──┘│└──┘│└───┘│└───┘│\n",
       "└───┴────┴────┴────┴─────┴─────┘\n",
       "</pre>"
      ]
     },
     "execution_count": 391,
     "metadata": {},
     "output_type": "execute_result"
    }
   ],
   "source": [
    "{∩/↓2 (2÷⍨≢⍵)⍴⍵}¨input"
   ]
  },
  {
   "cell_type": "markdown",
   "id": "c4cd7426",
   "metadata": {},
   "source": [
    "First, what's with those curly braces and ⍵s? That's how we define a function in APL, called a dfn. The stuff in curly braces calculates the return value of the dfn, and ⍵ (omega) is its right-hand argument.\n",
    "\n",
    "We're not really doing anything special with the dfn here, it's really just a matter of convenience. The reason it's useful here is twofold. First, in `2 (2÷⍨≢⍵)⍴⍵`, we need that line in two different places: on the right side of ⍴ (reshape) and to get the length of half the string. Second, we have other operations after ⍴ that we want applied once per line. It's convenient to just stuff them in the dfn and use that entire function as the right argument to each (¨), which is basically the \"map\" function you'd find in functional programming languages."
   ]
  },
  {
   "cell_type": "markdown",
   "id": "8e435b0a",
   "metadata": {},
   "source": [
    "Ok, so what's with those repeated letters? Playing around with ∩ reveals the answer:"
   ]
  },
  {
   "cell_type": "code",
   "execution_count": 399,
   "id": "4c8adaeb",
   "metadata": {},
   "outputs": [
    {
     "data": {
      "text/html": [
       "<pre class=\"language-APL\">1 2 1 1\n",
       "</pre>"
      ]
     },
     "execution_count": 399,
     "metadata": {},
     "output_type": "execute_result"
    }
   ],
   "source": [
    "1 2 1 1 ∩ 1 1 0 0 2 2"
   ]
  },
  {
   "cell_type": "markdown",
   "id": "fe8e3ecc",
   "metadata": {},
   "source": [
    "Ok, so when the items in common between the two arguments appear more than once on the left, the return value contains *all* of those items in the order the appeared in the left-hand argument.\n",
    "\n",
    "Well, that's fine for us. Since we know there will only be one letter in common between each half of the string, and we just need that letter once, we can use \"unique\" (∪) to remove the repeated values:"
   ]
  },
  {
   "cell_type": "code",
   "execution_count": 401,
   "id": "dd8240cd",
   "metadata": {},
   "outputs": [
    {
     "data": {
      "text/html": [
       "<pre class=\"language-APL\">┌───┬───┬───┬───┬───┬───┐\n",
       "│┌─┐│┌─┐│┌─┐│┌─┐│┌─┐│┌─┐│\n",
       "││p│││L│││P│││v│││t│││s││\n",
       "│└─┘│└─┘│└─┘│└─┘│└─┘│└─┘│\n",
       "└───┴───┴───┴───┴───┴───┘\n",
       "</pre>"
      ]
     },
     "execution_count": 401,
     "metadata": {},
     "output_type": "execute_result"
    }
   ],
   "source": [
    "{∪¨∩/↓2 (2÷⍨≢⍵)⍴⍵}¨input"
   ]
  },
  {
   "cell_type": "markdown",
   "id": "dd4cf843",
   "metadata": {},
   "source": [
    "Great! Now we just need to turn those letters into numbers and add them up, and we're done with part 1.\n",
    "\n",
    "First, let's collapse that nested array of 1-item arrays into a flat array using enlist (∊). No matter how nested a array is, ∊ just flattens it down to a array of values."
   ]
  },
  {
   "cell_type": "code",
   "execution_count": 402,
   "id": "ad4efcc7",
   "metadata": {},
   "outputs": [
    {
     "data": {
      "text/html": [
       "<pre class=\"language-APL\">pLPvts\n",
       "</pre>"
      ]
     },
     "execution_count": 402,
     "metadata": {},
     "output_type": "execute_result"
    }
   ],
   "source": [
    "∊{∪¨∩/↓2 (2÷⍨≢⍵)⍴⍵}¨input"
   ]
  },
  {
   "cell_type": "markdown",
   "id": "cb93b0e3",
   "metadata": {},
   "source": [
    "Now we can use the method we figured out earlier to turn them into numbers, and plus-reduce to sum the whole thing:"
   ]
  },
  {
   "cell_type": "code",
   "execution_count": 404,
   "id": "fbcabcfd",
   "metadata": {},
   "outputs": [
    {
     "data": {
      "text/html": [
       "<pre class=\"language-APL\">157\n",
       "</pre>"
      ]
     },
     "execution_count": 404,
     "metadata": {},
     "output_type": "execute_result"
    }
   ],
   "source": [
    "+/letters⍳∊{∪¨∩/↓2 (2÷⍨≢⍵)⍴⍵}¨input"
   ]
  },
  {
   "cell_type": "markdown",
   "id": "886c9e11",
   "metadata": {},
   "source": [
    "And that's part one complete!"
   ]
  },
  {
   "cell_type": "markdown",
   "id": "859e196e",
   "metadata": {},
   "source": [
    "## Part two\n",
    "\n",
    "For part two, we're doing almost the exact same thing, but instead of splitting each line in two, we're grouping lines into 3s and finding the common item. Reshape will work just fine for that though:"
   ]
  },
  {
   "cell_type": "code",
   "execution_count": 405,
   "id": "c2a6771b",
   "metadata": {},
   "outputs": [
    {
     "data": {
      "text/html": [
       "<pre class=\"language-APL\">┌──────────────────────────────┬────────────────────────────────┬────────────────────────┐\n",
       "│vJrwpWtwJgWrhcsFMMfFFhFp      │jqHRNqRjqzjGDLGLrsFMfFZSrLrFZsSL│PmmdzqPrVvPwwTWBwg      │\n",
       "├──────────────────────────────┼────────────────────────────────┼────────────────────────┤\n",
       "│wMqvLMZHhHMvwLHjbvcjnnSBnvTQFn│ttgJtRGJQctTZtZT                │CrZsJsPPZsGzwwsLwLmpwMDw│\n",
       "└──────────────────────────────┴────────────────────────────────┴────────────────────────┘\n",
       "</pre>"
      ]
     },
     "execution_count": 405,
     "metadata": {},
     "output_type": "execute_result"
    }
   ],
   "source": [
    "2 3⍴input"
   ]
  },
  {
   "cell_type": "markdown",
   "id": "c627337e",
   "metadata": {},
   "source": [
    "Of course, we want the number of rows to be dynamic, to be precise, the total length of the input divided by 3:"
   ]
  },
  {
   "cell_type": "code",
   "execution_count": 406,
   "id": "7be9d524",
   "metadata": {},
   "outputs": [
    {
     "data": {
      "text/html": [
       "<pre class=\"language-APL\">┌──────────────────────────────┬────────────────────────────────┬────────────────────────┐\n",
       "│vJrwpWtwJgWrhcsFMMfFFhFp      │jqHRNqRjqzjGDLGLrsFMfFZSrLrFZsSL│PmmdzqPrVvPwwTWBwg      │\n",
       "├──────────────────────────────┼────────────────────────────────┼────────────────────────┤\n",
       "│wMqvLMZHhHMvwLHjbvcjnnSBnvTQFn│ttgJtRGJQctTZtZT                │CrZsJsPPZsGzwwsLwLmpwMDw│\n",
       "└──────────────────────────────┴────────────────────────────────┴────────────────────────┘\n",
       "</pre>"
      ]
     },
     "execution_count": 406,
     "metadata": {},
     "output_type": "execute_result"
    }
   ],
   "source": [
    "{(3÷⍨≢input) 3⍴⍵}input"
   ]
  },
  {
   "cell_type": "markdown",
   "id": "1db60ad8",
   "metadata": {},
   "source": [
    "Then find the intersections:"
   ]
  },
  {
   "cell_type": "code",
   "execution_count": 412,
   "id": "55de3a16",
   "metadata": {},
   "outputs": [
    {
     "data": {
      "text/html": [
       "<pre class=\"language-APL\">┌──┬─┐\n",
       "│rr│Z│\n",
       "└──┴─┘\n",
       "</pre>"
      ]
     },
     "execution_count": 412,
     "metadata": {},
     "output_type": "execute_result"
    }
   ],
   "source": [
    "∩/{(3÷⍨≢input) 3⍴⍵}input"
   ]
  },
  {
   "cell_type": "markdown",
   "id": "0e2d53d6",
   "metadata": {},
   "source": [
    "Wait, did we just reduce over a matrix? I said reduce wants an array!\n",
    "\n",
    "Well, when applied to matricies, reduce applies its operator between each row. Like many functions and operators in APL, it's *rank-polymorphic*. There's also a corresponding \"reduce-first\" (⌿) operator that reduces over columns instead of rows:"
   ]
  },
  {
   "cell_type": "code",
   "execution_count": 416,
   "id": "6ce580df",
   "metadata": {},
   "outputs": [
    {
     "data": {
      "text/html": [
       "<pre class=\"language-APL\">1 2\n",
       "3 4\n",
       "5 6\n",
       "</pre>"
      ]
     },
     "execution_count": 416,
     "metadata": {},
     "output_type": "execute_result"
    },
    {
     "data": {
      "text/html": [
       "<pre class=\"language-APL\">3 7 11\n",
       "</pre>"
      ]
     },
     "execution_count": 416,
     "metadata": {},
     "output_type": "execute_result"
    },
    {
     "data": {
      "text/html": [
       "<pre class=\"language-APL\">9 12\n",
       "</pre>"
      ]
     },
     "execution_count": 416,
     "metadata": {},
     "output_type": "execute_result"
    }
   ],
   "source": [
    "3 2⍴1 2 3 4 5 6\n",
    "+/3 2⍴1 2 3 4 5 6\n",
    "+⌿3 2⍴1 2 3 4 5 6"
   ]
  },
  {
   "cell_type": "markdown",
   "id": "e7a6556c",
   "metadata": {},
   "source": [
    "Returning to our problem, now we just need to unique the vectors and flatten,"
   ]
  },
  {
   "cell_type": "code",
   "execution_count": 421,
   "id": "cb951926",
   "metadata": {},
   "outputs": [
    {
     "data": {
      "text/html": [
       "<pre class=\"language-APL\">rZ\n",
       "</pre>"
      ]
     },
     "execution_count": 421,
     "metadata": {},
     "output_type": "execute_result"
    }
   ],
   "source": [
    "∊∪¨∩/{(3÷⍨≢input) 3⍴⍵}input"
   ]
  },
  {
   "cell_type": "markdown",
   "id": "196859ca",
   "metadata": {},
   "source": [
    "Then convert them to numbers, and sum:"
   ]
  },
  {
   "cell_type": "code",
   "execution_count": 422,
   "id": "92f09b76",
   "metadata": {},
   "outputs": [
    {
     "data": {
      "text/html": [
       "<pre class=\"language-APL\">70\n",
       "</pre>"
      ]
     },
     "execution_count": 422,
     "metadata": {},
     "output_type": "execute_result"
    }
   ],
   "source": [
    "+/letters⍳∊∪¨∩/{(3÷⍨≢input) 3⍴⍵}input"
   ]
  },
  {
   "cell_type": "markdown",
   "id": "ba9539e0",
   "metadata": {},
   "source": [
    "And that's part two!"
   ]
  },
  {
   "cell_type": "code",
   "execution_count": null,
   "id": "16cb7019",
   "metadata": {},
   "outputs": [],
   "source": []
  },
  {
   "cell_type": "code",
   "execution_count": null,
   "id": "0333c868",
   "metadata": {},
   "outputs": [],
   "source": []
  },
  {
   "cell_type": "code",
   "execution_count": null,
   "id": "0ab7fb6b",
   "metadata": {},
   "outputs": [],
   "source": []
  },
  {
   "cell_type": "code",
   "execution_count": null,
   "id": "b70f50b5",
   "metadata": {},
   "outputs": [],
   "source": []
  },
  {
   "cell_type": "code",
   "execution_count": null,
   "id": "13208392",
   "metadata": {},
   "outputs": [],
   "source": []
  },
  {
   "cell_type": "code",
   "execution_count": null,
   "id": "411b8ac0",
   "metadata": {},
   "outputs": [],
   "source": []
  },
  {
   "cell_type": "code",
   "execution_count": null,
   "id": "664dbf37",
   "metadata": {},
   "outputs": [],
   "source": []
  },
  {
   "cell_type": "code",
   "execution_count": null,
   "id": "af2a7d09",
   "metadata": {},
   "outputs": [],
   "source": []
  },
  {
   "cell_type": "code",
   "execution_count": null,
   "id": "81794888",
   "metadata": {},
   "outputs": [],
   "source": []
  },
  {
   "cell_type": "code",
   "execution_count": null,
   "id": "e0344914",
   "metadata": {},
   "outputs": [],
   "source": []
  },
  {
   "cell_type": "code",
   "execution_count": null,
   "id": "e85e9ae5",
   "metadata": {},
   "outputs": [],
   "source": []
  },
  {
   "cell_type": "code",
   "execution_count": null,
   "id": "60f4bef1",
   "metadata": {},
   "outputs": [],
   "source": []
  },
  {
   "cell_type": "markdown",
   "id": "ef0cdd03",
   "metadata": {},
   "source": [
    "## My work in progress below, please ignore"
   ]
  },
  {
   "cell_type": "code",
   "execution_count": 14,
   "id": "069bd94c",
   "metadata": {},
   "outputs": [
    {
     "data": {
      "text/html": [
       "<pre class=\"language-APL\">vJrwpWtwJgWrhcsFMMfFFhFp        \n",
       "jqHRNqRjqzjGDLGLrsFMfFZSrLrFZsSL\n",
       "PmmdzqPrVvPwwTWBwg              \n",
       "wMqvLMZHhHMvwLHjbvcjnnSBnvTQFn  \n",
       "ttgJtRGJQctTZtZT                \n",
       "CrZsJsPPZsGzwwsLwLmpwMDw        \n",
       "</pre>"
      ]
     },
     "execution_count": 14,
     "metadata": {},
     "output_type": "execute_result"
    }
   ],
   "source": [
    "↑⊢input←'vJrwpWtwJgWrhcsFMMfFFhFp' 'jqHRNqRjqzjGDLGLrsFMfFZSrLrFZsSL' 'PmmdzqPrVvPwwTWBwg' 'wMqvLMZHhHMvwLHjbvcjnnSBnvTQFn' 'ttgJtRGJQctTZtZT' 'CrZsJsPPZsGzwwsLwLmpwMDw'"
   ]
  },
  {
   "cell_type": "code",
   "execution_count": 35,
   "id": "30556660",
   "metadata": {},
   "outputs": [
    {
     "data": {
      "text/html": [
       "<pre class=\"language-APL\">┌─┬─┬─┬─┬─┬─┬─┬─┬─┬─┬──┬─┬─┬─┬─┬─┬─┬─┬─┬─┬─┬─┬─┐\n",
       "│v│J│r│w│p│W│t│w│J│g│Wr│h│c│s│F│M│M│f│F│F│h│F│p│\n",
       "└─┴─┴─┴─┴─┴─┴─┴─┴─┴─┴──┴─┴─┴─┴─┴─┴─┴─┴─┴─┴─┴─┴─┘\n",
       "</pre>"
      ]
     },
     "execution_count": 35,
     "metadata": {},
     "output_type": "execute_result"
    }
   ],
   "source": [
    "(({((⍵-1)⍴1),0,⍵⍴1}2÷⍨≢)⊂⊢)'vJrwpWtwJgWrhcsFMMfFFhFp'"
   ]
  },
  {
   "cell_type": "code",
   "execution_count": 78,
   "id": "b482de0f",
   "metadata": {
    "scrolled": true
   },
   "outputs": [
    {
     "data": {
      "text/html": [
       "<pre class=\"language-APL\">┌┬┬┬┬┬┬┬┬┬┬┬─┬┬┬┬┬┬┬┬┬┬┬┬─┬┬┬┬┬┬┬┬┬┬┬┬─┬┬┬┬┬┬┬┬┬┬┬┬─┬┬┬┬┬┬┬┬┬┬┬┬─┬┬┬┬┬┬┬┬┬┬┬┬─┬┬┬┬┬┬┬┬┬┬┬┬─┬┬┬┬┬┬┬┬┬┬┬┬─┬┬┬┬┬┬┬┬┬┬┬┬─┬┬┬┬┬┬┬┬┬┬┬┬──┬┬┬┬┬┬┬┬┬┬┬┬──┬┬┬┬┬┬┬┬┬┬┬┬──┬┬┬┬┬┬┬┬┬┬┬┬──┬┬┬┬┬┬┬┬┬┬┬┬──┬┬┬┬┬┬┬┬┬┬┬┬──┬┬┬┬┬┬┬┬┬┬┬┬──┬┬┬┬┬┬┬┬┬┬┬┬──┬┬┬┬┬┬┬┬┬┬┬┬──┬┬┬┬┬┬┬┬┬┬┬┬──┬┬┬┬┬┬┬┬┬┬┬┬──┬┬┬┬┬┬┬┬┬┬┬┬──┬┬┬┬┬┬┬┬┬┬┬┬──┬┬┬┬┬┬┬┬┬┬┬┬──┬┬┬┬┬┬┬┬┬┬┬┬──┬┬┬┬┬┬┬┬┬┬┬┬────────────────────────────────────────────────────────────────┐\n",
       "││││││││││││1││││││││││││2││││││││││││3││││││││││││4││││││││││││5││││││││││││6││││││││││││7││││││││││││8││││││││││││9││││││││││││10││││││││││││11││││││││││││12││││││││││││13││││││││││││14││││││││││││15││││││││││││16││││││││││││17││││││││││││18││││││││││││19││││││││││││20││││││││││││21││││││││││││22││││││││││││23││││││││││││24││││││││││││┌──────────────────────────────────────────────────────────────┐│\n",
       "││││││││││││ ││││││││││││ ││││││││││││ ││││││││││││ ││││││││││││ ││││││││││││ ││││││││││││ ││││││││││││ ││││││││││││ ││││││││││││  ││││││││││││  ││││││││││││  ││││││││││││  ││││││││││││  ││││││││││││  ││││││││││││  ││││││││││││  ││││││││││││  ││││││││││││  ││││││││││││  ││││││││││││  ││││││││││││  ││││││││││││  ││││││││││││  │││││││││││││1 2 3 4 5 6 7 8 9 10 11 12 13 14 15 16 17 18 19 20 21 22 23 24││\n",
       "││││││││││││ ││││││││││││ ││││││││││││ ││││││││││││ ││││││││││││ ││││││││││││ ││││││││││││ ││││││││││││ ││││││││││││ ││││││││││││  ││││││││││││  ││││││││││││  ││││││││││││  ││││││││││││  ││││││││││││  ││││││││││││  ││││││││││││  ││││││││││││  ││││││││││││  ││││││││││││  ││││││││││││  ││││││││││││  ││││││││││││  ││││││││││││  ││││││││││││└──────────────────────────────────────────────────────────────┘│\n",
       "└┴┴┴┴┴┴┴┴┴┴┴─┴┴┴┴┴┴┴┴┴┴┴┴─┴┴┴┴┴┴┴┴┴┴┴┴─┴┴┴┴┴┴┴┴┴┴┴┴─┴┴┴┴┴┴┴┴┴┴┴┴─┴┴┴┴┴┴┴┴┴┴┴┴─┴┴┴┴┴┴┴┴┴┴┴┴─┴┴┴┴┴┴┴┴┴┴┴┴─┴┴┴┴┴┴┴┴┴┴┴┴─┴┴┴┴┴┴┴┴┴┴┴┴──┴┴┴┴┴┴┴┴┴┴┴┴──┴┴┴┴┴┴┴┴┴┴┴┴──┴┴┴┴┴┴┴┴┴┴┴┴──┴┴┴┴┴┴┴┴┴┴┴┴──┴┴┴┴┴┴┴┴┴┴┴┴──┴┴┴┴┴┴┴┴┴┴┴┴──┴┴┴┴┴┴┴┴┴┴┴┴──┴┴┴┴┴┴┴┴┴┴┴┴──┴┴┴┴┴┴┴┴┴┴┴┴──┴┴┴┴┴┴┴┴┴┴┴┴──┴┴┴┴┴┴┴┴┴┴┴┴──┴┴┴┴┴┴┴┴┴┴┴┴──┴┴┴┴┴┴┴┴┴┴┴┴──┴┴┴┴┴┴┴┴┴┴┴┴──┴┴┴┴┴┴┴┴┴┴┴┴────────────────────────────────────────────────────────────────┘\n",
       "</pre>"
      ]
     },
     "execution_count": 78,
     "metadata": {},
     "output_type": "execute_result"
    }
   ],
   "source": [
    "⍝ The take/drop approach is probably simpler than partition\n",
    "12(⊂∘↑,⊂∘↓)⍳24"
   ]
  },
  {
   "cell_type": "code",
   "execution_count": 76,
   "id": "e4463291",
   "metadata": {},
   "outputs": [
    {
     "data": {
      "text/html": [
       "<pre class=\"language-APL\">┌────────────┬────────────────────┐\n",
       "│vJrwpWtwJgWr│hcsFMMfFFhFp        │\n",
       "├────────────┼────────────────────┤\n",
       "│jqHRNqRjqzjG│DLGLrsFMfFZSrLrFZsSL│\n",
       "├────────────┼────────────────────┤\n",
       "│PmmdzqPrVvPw│wTWBwg              │\n",
       "├────────────┼────────────────────┤\n",
       "│wMqvLMZHhHMv│wLHjbvcjnnSBnvTQFn  │\n",
       "├────────────┼────────────────────┤\n",
       "│ttgJtRGJQctT│ZtZT                │\n",
       "├────────────┼────────────────────┤\n",
       "│CrZsJsPPZsGz│wwsLwLmpwMDw        │\n",
       "└────────────┴────────────────────┘\n",
       "</pre>"
      ]
     },
     "execution_count": 76,
     "metadata": {},
     "output_type": "execute_result"
    }
   ],
   "source": [
    "⍝ Want to use ⊂ monadically\n",
    "↑ 12{(⊂⍺↑⍵),⊂⍺↓⍵}¨input"
   ]
  },
  {
   "cell_type": "code",
   "execution_count": 107,
   "id": "76167b04",
   "metadata": {},
   "outputs": [
    {
     "data": {
      "text/html": [
       "<pre class=\"language-APL\">0 0 0 0 1 0 0 0 0 0 0 0\n",
       "0 0 0 0 0 0 0 0 0 0 0 1\n",
       "0 0 0 0 0 0 0 0 0 0 0 1\n",
       "1 0 0 1 1 0 0 1 0 1 0 1\n",
       "1 1 0 0 1 0 0 0 0 0 1 1\n",
       "0 0 0 1 0 1 0 0 0 1 0 0\n",
       "</pre>"
      ]
     },
     "execution_count": 107,
     "metadata": {},
     "output_type": "execute_result"
    }
   ],
   "source": [
    "↑ ∊/↑12{(⊂⍺↑⍵),⊂⍺↓⍵}¨input"
   ]
  },
  {
   "cell_type": "code",
   "execution_count": 215,
   "id": "6adea8e4",
   "metadata": {},
   "outputs": [
    {
     "data": {
      "text/html": [
       "<pre class=\"language-APL\">┌────────────────┬────────────────┐\n",
       "│vJrwpWtwJgWr    │hcsFMMfFFhFp    │\n",
       "├────────────────┼────────────────┤\n",
       "│jqHRNqRjqzjGDLGL│rsFMfFZSrLrFZsSL│\n",
       "├────────────────┼────────────────┤\n",
       "│PmmdzqPrV       │vPwwTWBwg       │\n",
       "├────────────────┼────────────────┤\n",
       "│wMqvLMZHhHMvwLH │jbvcjnnSBnvTQFn │\n",
       "├────────────────┼────────────────┤\n",
       "│ttgJtRGJ        │QctTZtZT        │\n",
       "├────────────────┼────────────────┤\n",
       "│CrZsJsPPZsGz    │wwsLwLmpwMDw    │\n",
       "└────────────────┴────────────────┘\n",
       "</pre>"
      ]
     },
     "execution_count": 215,
     "metadata": {},
     "output_type": "execute_result"
    }
   ],
   "source": [
    "↑ (2÷⍨≢¨input){(⊂⍺↑⍵),⊂⍺↓⍵}¨input"
   ]
  },
  {
   "cell_type": "code",
   "execution_count": 183,
   "id": "088bb25d",
   "metadata": {},
   "outputs": [
    {
     "data": {
      "text/html": [
       "<pre class=\"language-APL\">p\n",
       "</pre>"
      ]
     },
     "execution_count": 183,
     "metadata": {},
     "output_type": "execute_result"
    }
   ],
   "source": [
    "0 0 0 0 1 0 0 0 0 0 0 0/'vJrwpWtwJgWr'"
   ]
  },
  {
   "cell_type": "code",
   "execution_count": 164,
   "id": "edac3f7c",
   "metadata": {},
   "outputs": [
    {
     "name": "stderr",
     "output_type": "stream",
     "text": [
      "LENGTH ERROR\n",
      "      {(⊃∊/12{(⊂⍺↑⍵),⊂⍺↓⍵}⍵)/⍵}'vJrwpWtwJgWrhcsFMMfFFhFp'\n",
      "                            ∧\n"
     ]
    }
   ],
   "source": [
    "{(⊃∊/12{(⊂⍺↑⍵),⊂⍺↓⍵}⍵)/⍵}'vJrwpWtwJgWrhcsFMMfFFhFp'\n",
    "⍝ note: might be able to use ⊢ to get rid of defn\n",
    "⍝ TODO: get rid of the hardcoded 12"
   ]
  },
  {
   "cell_type": "code",
   "execution_count": 217,
   "id": "0f39367c",
   "metadata": {},
   "outputs": [
    {
     "data": {
      "text/html": [
       "<pre class=\"language-APL\">0 0 0 0 1 0 0 0 0 0 0 0\n",
       "</pre>"
      ]
     },
     "execution_count": 217,
     "metadata": {},
     "output_type": "execute_result"
    }
   ],
   "source": [
    "{⊃∊/12{(⊂⍺↑⍵),⊂⍺↓⍵}⍵}'vJrwpWtwJgWrhcsFMMfFFhFp'"
   ]
  },
  {
   "cell_type": "code",
   "execution_count": 165,
   "id": "f34a76a8",
   "metadata": {},
   "outputs": [
    {
     "name": "stderr",
     "output_type": "stream",
     "text": [
      "SYNTAX ERROR\n",
      "      {{⊃∊/12{(⊂⍺↑⍵),⊂⍺↓⍵}⍵}⍵)/⍵}'vJrwpWtwJgWrhcsFMMfFFhFp'\n",
      "       ∧\n"
     ]
    }
   ],
   "source": [
    "{{⊃∊/12{(⊂⍺↑⍵),⊂⍺↓⍵}⍵}⍵)/⍵}'vJrwpWtwJgWrhcsFMMfFFhFp'"
   ]
  },
  {
   "cell_type": "code",
   "execution_count": 219,
   "id": "5af15e40",
   "metadata": {},
   "outputs": [
    {
     "data": {
      "text/html": [
       "<pre class=\"language-APL\">┌───────────────────────────────┬────────────────┐\n",
       "│0 0 0 0 1 0 0 0 0 0 0 0        │vJrwpWtwJgWr    │\n",
       "├───────────────────────────────┼────────────────┤\n",
       "│0 0 0 0 0 0 0 0 0 0 0 0 0 1 0 1│jqHRNqRjqzjGDLGL│\n",
       "├───────────────────────────────┼────────────────┤\n",
       "│1 0 0 0 0 0 1 0 0              │PmmdzqPrV       │\n",
       "├───────────────────────────────┼────────────────┤\n",
       "│0 0 0 1 0 0 0 0 0 0 0 1 0 0 0  │wMqvLMZHhHMvwLH │\n",
       "├───────────────────────────────┼────────────────┤\n",
       "│1 1 0 0 1 0 0 0                │ttgJtRGJ        │\n",
       "├───────────────────────────────┼────────────────┤\n",
       "│0 0 0 1 0 1 0 0 0 1 0 0        │CrZsJsPPZsGz    │\n",
       "└───────────────────────────────┴────────────────┘\n",
       "</pre>"
      ]
     },
     "execution_count": 219,
     "metadata": {},
     "output_type": "execute_result"
    }
   ],
   "source": [
    "⍝ Maybe the APL way is to do it in whole?\n",
    "((2÷⍨≢¨input)↑¨input),⍨⍪∊/↑(2÷⍨≢¨input){(⊂⍺↑⍵),⊂⍺↓⍵}¨input"
   ]
  },
  {
   "cell_type": "code",
   "execution_count": 236,
   "id": "ac71b0e2",
   "metadata": {},
   "outputs": [],
   "source": [
    "part1←{+/letters⍳⊃¨(//((2÷⍨≢¨⍵)↑¨⍵),⍨⍪∊/↑(2÷⍨≢¨⍵){(⊂⍺↑⍵),⊂⍺↓⍵}¨⍵)}"
   ]
  },
  {
   "cell_type": "code",
   "execution_count": 239,
   "id": "480fa521",
   "metadata": {},
   "outputs": [
    {
     "data": {
      "text/html": [
       "<pre class=\"language-APL\">7967\n",
       "</pre>"
      ]
     },
     "execution_count": 239,
     "metadata": {},
     "output_type": "execute_result"
    }
   ],
   "source": [
    "part1⊃⎕NGET'input.txt'1"
   ]
  },
  {
   "cell_type": "markdown",
   "id": "5f7d8ac0",
   "metadata": {},
   "source": [
    "A second try, now that I know about union and intersection"
   ]
  },
  {
   "cell_type": "code",
   "execution_count": 325,
   "id": "18614319",
   "metadata": {},
   "outputs": [
    {
     "data": {
      "text/html": [
       "<pre class=\"language-APL\">7967\n",
       "</pre>"
      ]
     },
     "execution_count": 325,
     "metadata": {},
     "output_type": "execute_result"
    }
   ],
   "source": [
    "part1←{+/∊{letters⍳∊∪¨∩/↓2 (2÷⍨≢⍵)⍴⍵}¨⍵}\n",
    "part1 ⊃⎕NGET'input.txt'1"
   ]
  },
  {
   "cell_type": "markdown",
   "id": "b6ebb789",
   "metadata": {},
   "source": [
    "Part 2"
   ]
  },
  {
   "cell_type": "code",
   "execution_count": 364,
   "id": "12a9a8a1",
   "metadata": {},
   "outputs": [
    {
     "data": {
      "text/html": [
       "<pre class=\"language-APL\">70\n",
       "</pre>"
      ]
     },
     "execution_count": 364,
     "metadata": {},
     "output_type": "execute_result"
    }
   ],
   "source": [
    "+/letters⍳∊∪¨∩/2 3⍴ input"
   ]
  },
  {
   "cell_type": "code",
   "execution_count": 370,
   "id": "e144b8de",
   "metadata": {},
   "outputs": [
    {
     "data": {
      "text/html": [
       "<pre class=\"language-APL\">70\n",
       "</pre>"
      ]
     },
     "execution_count": 370,
     "metadata": {},
     "output_type": "execute_result"
    }
   ],
   "source": [
    "⍝ now need to get rid of hardcoded shape\n",
    "+/letters⍳∊∪¨∩/(3÷⍨≢input) 3⍴ input"
   ]
  },
  {
   "cell_type": "code",
   "execution_count": 373,
   "id": "5f716a5b",
   "metadata": {},
   "outputs": [
    {
     "data": {
      "text/html": [
       "<pre class=\"language-APL\">2716\n",
       "</pre>"
      ]
     },
     "execution_count": 373,
     "metadata": {},
     "output_type": "execute_result"
    }
   ],
   "source": [
    "part2←{+/letters⍳∊∪¨∩/(3÷⍨≢⍵) 3⍴⍵}\n",
    "part2 ⊃⎕NGET'input.txt'1"
   ]
  },
  {
   "cell_type": "markdown",
   "id": "2e156363",
   "metadata": {},
   "source": [
    "Success!"
   ]
  },
  {
   "cell_type": "code",
   "execution_count": null,
   "id": "b3ad8ead",
   "metadata": {},
   "outputs": [],
   "source": []
  },
  {
   "cell_type": "code",
   "execution_count": null,
   "id": "94852633",
   "metadata": {},
   "outputs": [],
   "source": []
  },
  {
   "cell_type": "code",
   "execution_count": null,
   "id": "f7b89f7c",
   "metadata": {},
   "outputs": [],
   "source": []
  },
  {
   "cell_type": "code",
   "execution_count": null,
   "id": "0979570b",
   "metadata": {},
   "outputs": [],
   "source": []
  },
  {
   "cell_type": "code",
   "execution_count": null,
   "id": "07e29bf9",
   "metadata": {},
   "outputs": [],
   "source": []
  },
  {
   "cell_type": "code",
   "execution_count": null,
   "id": "e0ba8f21",
   "metadata": {},
   "outputs": [],
   "source": []
  },
  {
   "cell_type": "code",
   "execution_count": 268,
   "id": "1d719006",
   "metadata": {},
   "outputs": [
    {
     "data": {
      "text/html": [
       "<pre class=\"language-APL\">Q\n",
       "</pre>"
      ]
     },
     "execution_count": 268,
     "metadata": {},
     "output_type": "execute_result"
    }
   ],
   "source": [
    "⍝ Theirs\n",
    "⍝ r ← 58|20+⎕UCS¨ ⊃⎕NGET'in/03.txt'1\n",
    "⍝ +/∊{∪¨∩/↓2(2÷⍨≢⍵)⍴⍵}¨r\n",
    "∊{∪¨∩/↓ 2 (2÷⍨≢⍵)⍴⍵} ⊃ ⊃⎕NGET'input.txt'1"
   ]
  }
 ],
 "metadata": {
  "kernelspec": {
   "display_name": "Dyalog APL",
   "language": "apl",
   "name": "dyalog-kernel"
  },
  "language_info": {
   "file_extension": ".apl",
   "mimetype": "text/apl",
   "name": "APL"
  }
 },
 "nbformat": 4,
 "nbformat_minor": 5
}
