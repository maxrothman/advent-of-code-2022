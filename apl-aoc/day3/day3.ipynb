{
 "cells": [
  {
   "cell_type": "code",
   "execution_count": 374,
   "id": "2daf76db",
   "metadata": {},
   "outputs": [
    {
     "data": {
      "text/html": [
       "<pre class=\"language-APL\">Was ON\n",
       "</pre>"
      ]
     },
     "execution_count": 374,
     "metadata": {},
     "output_type": "execute_result"
    },
    {
     "data": {
      "text/html": [
       "<pre class=\"language-APL\">Was ON\n",
       "</pre>"
      ]
     },
     "execution_count": 374,
     "metadata": {},
     "output_type": "execute_result"
    }
   ],
   "source": [
    "]box on\n",
    "]rows on\n",
    "⎕PW←1000"
   ]
  },
  {
   "cell_type": "markdown",
   "id": "6d8d62fb",
   "metadata": {},
   "source": [
    "## Part one\n",
    "\n",
    "First, let's figure out how to map letters to priorities. This magic incantation gives us an array of the lowercase letters followed by the uppercase letters. Lucky for us, their indices (1-indexed by default in APL) is their priority."
   ]
  },
  {
   "cell_type": "code",
   "execution_count": 12,
   "id": "fec71f81",
   "metadata": {},
   "outputs": [
    {
     "data": {
      "text/html": [
       "<pre class=\"language-APL\">abcdefghijklmnopqrstuvwxyzABCDEFGHIJKLMNOPQRSTUVWXYZ\n",
       "</pre>"
      ]
     },
     "execution_count": 12,
     "metadata": {},
     "output_type": "execute_result"
    }
   ],
   "source": [
    "⊢letters←(⎕UCS 96+⍳26),⎕A"
   ]
  },
  {
   "cell_type": "markdown",
   "id": "9fd484b4",
   "metadata": {},
   "source": [
    "With that, we can use \"index of\" (dyadic ⍳) to get the priorities of each letter:"
   ]
  },
  {
   "cell_type": "code",
   "execution_count": 375,
   "id": "8917b2bb",
   "metadata": {},
   "outputs": [
    {
     "data": {
      "text/html": [
       "<pre class=\"language-APL\">3 26 2 1\n",
       "</pre>"
      ]
     },
     "execution_count": 375,
     "metadata": {},
     "output_type": "execute_result"
    }
   ],
   "source": [
    "letters⍳'czba'"
   ]
  },
  {
   "cell_type": "markdown",
   "id": "e4bd37ab",
   "metadata": {},
   "source": [
    "Ok, let's shelve that for a minute and figure out how to find the duplicated items in each rucksack.\n",
    "\n",
    "First, we need to divide each line in two. For that, we can use \"reshape\" (dyadic ⍴). It takes an array of dimensions on the left and an array to reshape on the right, and returns a matrix with those dimensions:"
   ]
  },
  {
   "cell_type": "code",
   "execution_count": 377,
   "id": "da17b063",
   "metadata": {},
   "outputs": [
    {
     "data": {
      "text/html": [
       "<pre class=\"language-APL\">1 2 3\n",
       "4 5 6\n",
       "</pre>"
      ]
     },
     "execution_count": 377,
     "metadata": {},
     "output_type": "execute_result"
    }
   ],
   "source": [
    "2 3⍴1 2 3 4 5 6"
   ]
  },
  {
   "cell_type": "markdown",
   "id": "822b4620",
   "metadata": {},
   "source": [
    "Since ⍴ reads items out of the input array by filling up each row before moving onto the next one, to end up with half of each line in a row we want matrices with 2 rows and n/2 columns, where n is the length of the string.\n",
    "\n",
    "Let's try it on the first line of input (⊃ monadically is \"first\"):"
   ]
  },
  {
   "cell_type": "code",
   "execution_count": 385,
   "id": "d581d0a4",
   "metadata": {},
   "outputs": [
    {
     "data": {
      "text/html": [
       "<pre class=\"language-APL\">vJrwpWtwJgWr\n",
       "hcsFMMfFFhFp\n",
       "</pre>"
      ]
     },
     "execution_count": 385,
     "metadata": {},
     "output_type": "execute_result"
    }
   ],
   "source": [
    "line←⊃input\n",
    "2 (2÷⍨≢line)⍴line"
   ]
  },
  {
   "cell_type": "markdown",
   "id": "4fc95953",
   "metadata": {},
   "source": [
    "There's a little going on in there, so let's break it down. ≢ (tally) returns the length of its input. To divide it by 2, we could write:\n",
    "```\n",
    "(≢line)÷2\n",
    "```\n",
    "But that's kind of awkward with APL's right-to-left evaluation semantics. Instead, we can use the \"swap\" (⍨) to flip the arguments of ÷, removing some pesky parentheses."
   ]
  },
  {
   "cell_type": "markdown",
   "id": "2bdac062",
   "metadata": {},
   "source": [
    "Next, we want to find the letter in common between those two rows. \"Intersection\" (∩) is perfect for that, when used dyadically it returns only the elements in common between its two arguments:"
   ]
  },
  {
   "cell_type": "code",
   "execution_count": 387,
   "id": "9f601391",
   "metadata": {},
   "outputs": [
    {
     "data": {
      "text/html": [
       "<pre class=\"language-APL\">3\n",
       "</pre>"
      ]
     },
     "execution_count": 387,
     "metadata": {},
     "output_type": "execute_result"
    }
   ],
   "source": [
    "1 2 3∩3 4 5"
   ]
  },
  {
   "cell_type": "markdown",
   "id": "e95718c8",
   "metadata": {},
   "source": [
    "But it wants its arguments to be arrays, and instead of two arrays, we currently have a single matrix. Luckily, \"split\" (↓) does exactly that: it turns matrices into nested arrays of rows:"
   ]
  },
  {
   "cell_type": "code",
   "execution_count": 389,
   "id": "9e17576b",
   "metadata": {},
   "outputs": [
    {
     "data": {
      "text/html": [
       "<pre class=\"language-APL\">1 2 3\n",
       "4 5 6\n",
       "</pre>"
      ]
     },
     "execution_count": 389,
     "metadata": {},
     "output_type": "execute_result"
    },
    {
     "data": {
      "text/html": [
       "<pre class=\"language-APL\">┌─────┬─────┐\n",
       "│1 2 3│4 5 6│\n",
       "└─────┴─────┘\n",
       "</pre>"
      ]
     },
     "execution_count": 389,
     "metadata": {},
     "output_type": "execute_result"
    }
   ],
   "source": [
    "2 3⍴1 2 3 4 5 6\n",
    "↓2 3⍴1 2 3 4 5 6"
   ]
  },
  {
   "cell_type": "markdown",
   "id": "7b495344",
   "metadata": {},
   "source": [
    "Now we can just \"reduce\" (/) each pair of array using ∩! Reduce is an operator that takes a array of arrays on the right and inserts its left-hand argument between each. For example, `+/1 2 3 4` is the same as `1 + 2 + 3 + 4`."
   ]
  },
  {
   "cell_type": "code",
   "execution_count": 386,
   "id": "f10a2215",
   "metadata": {},
   "outputs": [
    {
     "data": {
      "text/html": [
       "<pre class=\"language-APL\">┌─┐\n",
       "│p│\n",
       "└─┘\n",
       "</pre>"
      ]
     },
     "execution_count": 386,
     "metadata": {},
     "output_type": "execute_result"
    }
   ],
   "source": [
    "∩/↓2 (2÷⍨≢line)⍴line"
   ]
  },
  {
   "cell_type": "markdown",
   "id": "8f39ff27",
   "metadata": {},
   "source": [
    "We might think we're done here, but if we map the code we just wrote over the entire test input, we get a different story:"
   ]
  },
  {
   "cell_type": "code",
   "execution_count": 391,
   "id": "97685b68",
   "metadata": {},
   "outputs": [
    {
     "data": {
      "text/html": [
       "<pre class=\"language-APL\">┌───┬────┬────┬────┬─────┬─────┐\n",
       "│┌─┐│┌──┐│┌──┐│┌──┐│┌───┐│┌───┐│\n",
       "││p│││LL│││PP│││vv│││ttt│││sss││\n",
       "│└─┘│└──┘│└──┘│└──┘│└───┘│└───┘│\n",
       "└───┴────┴────┴────┴─────┴─────┘\n",
       "</pre>"
      ]
     },
     "execution_count": 391,
     "metadata": {},
     "output_type": "execute_result"
    }
   ],
   "source": [
    "{∩/↓2 (2÷⍨≢⍵)⍴⍵}¨input"
   ]
  },
  {
   "cell_type": "markdown",
   "id": "2808a51d",
   "metadata": {},
   "source": [
    "First, what's with those curly braces and ⍵s? That's how we define a function in APL, called a dfn. The stuff in curly braces calculates the return value of the dfn, and ⍵ (omega) is its right-hand argument.\n",
    "\n",
    "We're not really doing anything special with the dfn here, it's really just a matter of convenience. The reason it's useful here is twofold. First, in `2 (2÷⍨≢⍵)⍴⍵`, we need that line in two different places: on the right side of ⍴ (reshape) and to get the length of half the string. Second, we have other operations after ⍴ that we want applied once per line. It's convenient to just stuff them in the dfn and use that entire function as the right argument to each (¨), which is basically the \"map\" function you'd find in functional programming languages."
   ]
  },
  {
   "cell_type": "markdown",
   "id": "e9f13fb2",
   "metadata": {},
   "source": [
    "Ok, so what's with those repeated letters? Playing around with ∩ reveals the answer:"
   ]
  },
  {
   "cell_type": "code",
   "execution_count": 399,
   "id": "b03e5467",
   "metadata": {},
   "outputs": [
    {
     "data": {
      "text/html": [
       "<pre class=\"language-APL\">1 2 1 1\n",
       "</pre>"
      ]
     },
     "execution_count": 399,
     "metadata": {},
     "output_type": "execute_result"
    }
   ],
   "source": [
    "1 2 1 1 ∩ 1 1 0 0 2 2"
   ]
  },
  {
   "cell_type": "markdown",
   "id": "3566d191",
   "metadata": {},
   "source": [
    "Ok, so when the items in common between the two arguments appear more than once on the left, the return value contains *all* of those items in the order the appeared in the left-hand argument.\n",
    "\n",
    "Well, that's fine for us. Since we know there will only be one letter in common between each half of the string, and we just need that letter once, we can use \"unique\" (∪) to remove the repeated values:"
   ]
  },
  {
   "cell_type": "code",
   "execution_count": 401,
   "id": "e806ab98",
   "metadata": {},
   "outputs": [
    {
     "data": {
      "text/html": [
       "<pre class=\"language-APL\">┌───┬───┬───┬───┬───┬───┐\n",
       "│┌─┐│┌─┐│┌─┐│┌─┐│┌─┐│┌─┐│\n",
       "││p│││L│││P│││v│││t│││s││\n",
       "│└─┘│└─┘│└─┘│└─┘│└─┘│└─┘│\n",
       "└───┴───┴───┴───┴───┴───┘\n",
       "</pre>"
      ]
     },
     "execution_count": 401,
     "metadata": {},
     "output_type": "execute_result"
    }
   ],
   "source": [
    "{∪¨∩/↓2 (2÷⍨≢⍵)⍴⍵}¨input"
   ]
  },
  {
   "cell_type": "markdown",
   "id": "41f25066",
   "metadata": {},
   "source": [
    "Great! Now we just need to turn those letters into numbers and add them up, and we're done with part 1.\n",
    "\n",
    "First, let's collapse that nested array of 1-item arrays into a flat array using enlist (∊). No matter how nested a array is, ∊ just flattens it down to a array of values."
   ]
  },
  {
   "cell_type": "code",
   "execution_count": 402,
   "id": "48f2314a",
   "metadata": {},
   "outputs": [
    {
     "data": {
      "text/html": [
       "<pre class=\"language-APL\">pLPvts\n",
       "</pre>"
      ]
     },
     "execution_count": 402,
     "metadata": {},
     "output_type": "execute_result"
    }
   ],
   "source": [
    "∊{∪¨∩/↓2 (2÷⍨≢⍵)⍴⍵}¨input"
   ]
  },
  {
   "cell_type": "markdown",
   "id": "74b694ee",
   "metadata": {},
   "source": [
    "Now we can use the method we figured out earlier to turn them into numbers, and plus-reduce to sum the whole thing:"
   ]
  },
  {
   "cell_type": "code",
   "execution_count": 404,
   "id": "a4274af9",
   "metadata": {},
   "outputs": [
    {
     "data": {
      "text/html": [
       "<pre class=\"language-APL\">157\n",
       "</pre>"
      ]
     },
     "execution_count": 404,
     "metadata": {},
     "output_type": "execute_result"
    }
   ],
   "source": [
    "+/letters⍳∊{∪¨∩/↓2 (2÷⍨≢⍵)⍴⍵}¨input"
   ]
  },
  {
   "cell_type": "markdown",
   "id": "525fa29a",
   "metadata": {},
   "source": [
    "And that's part one complete!"
   ]
  },
  {
   "cell_type": "markdown",
   "id": "6b6a7557",
   "metadata": {},
   "source": [
    "## Part two\n",
    "\n",
    "For part two, we're doing almost the exact same thing, but instead of splitting each line in two, we're grouping lines into 3s and finding the common item. Reshape will work just fine for that though:"
   ]
  },
  {
   "cell_type": "code",
   "execution_count": 405,
   "id": "359b1aed",
   "metadata": {},
   "outputs": [
    {
     "data": {
      "text/html": [
       "<pre class=\"language-APL\">┌──────────────────────────────┬────────────────────────────────┬────────────────────────┐\n",
       "│vJrwpWtwJgWrhcsFMMfFFhFp      │jqHRNqRjqzjGDLGLrsFMfFZSrLrFZsSL│PmmdzqPrVvPwwTWBwg      │\n",
       "├──────────────────────────────┼────────────────────────────────┼────────────────────────┤\n",
       "│wMqvLMZHhHMvwLHjbvcjnnSBnvTQFn│ttgJtRGJQctTZtZT                │CrZsJsPPZsGzwwsLwLmpwMDw│\n",
       "└──────────────────────────────┴────────────────────────────────┴────────────────────────┘\n",
       "</pre>"
      ]
     },
     "execution_count": 405,
     "metadata": {},
     "output_type": "execute_result"
    }
   ],
   "source": [
    "2 3⍴input"
   ]
  },
  {
   "cell_type": "markdown",
   "id": "c53e4dc2",
   "metadata": {},
   "source": [
    "Of course, we want the number of rows to be dynamic, to be precise, the total length of the input divided by 3:"
   ]
  },
  {
   "cell_type": "code",
   "execution_count": 406,
   "id": "b1db137b",
   "metadata": {},
   "outputs": [
    {
     "data": {
      "text/html": [
       "<pre class=\"language-APL\">┌──────────────────────────────┬────────────────────────────────┬────────────────────────┐\n",
       "│vJrwpWtwJgWrhcsFMMfFFhFp      │jqHRNqRjqzjGDLGLrsFMfFZSrLrFZsSL│PmmdzqPrVvPwwTWBwg      │\n",
       "├──────────────────────────────┼────────────────────────────────┼────────────────────────┤\n",
       "│wMqvLMZHhHMvwLHjbvcjnnSBnvTQFn│ttgJtRGJQctTZtZT                │CrZsJsPPZsGzwwsLwLmpwMDw│\n",
       "└──────────────────────────────┴────────────────────────────────┴────────────────────────┘\n",
       "</pre>"
      ]
     },
     "execution_count": 406,
     "metadata": {},
     "output_type": "execute_result"
    }
   ],
   "source": [
    "{(3÷⍨≢input) 3⍴⍵}input"
   ]
  },
  {
   "cell_type": "markdown",
   "id": "4d813252",
   "metadata": {},
   "source": [
    "Then find the intersections:"
   ]
  },
  {
   "cell_type": "code",
   "execution_count": 412,
   "id": "787f1c6b",
   "metadata": {},
   "outputs": [
    {
     "data": {
      "text/html": [
       "<pre class=\"language-APL\">┌──┬─┐\n",
       "│rr│Z│\n",
       "└──┴─┘\n",
       "</pre>"
      ]
     },
     "execution_count": 412,
     "metadata": {},
     "output_type": "execute_result"
    }
   ],
   "source": [
    "∩/{(3÷⍨≢input) 3⍴⍵}input"
   ]
  },
  {
   "cell_type": "markdown",
   "id": "d5f2e8b9",
   "metadata": {},
   "source": [
    "Wait, did we just reduce over a matrix? I said reduce wants an array!\n",
    "\n",
    "Well, when applied to matricies, reduce applies its operator between each row. Like many functions and operators in APL, it's *rank-polymorphic*. There's also a corresponding \"reduce-first\" (⌿) operator that reduces over columns instead of rows:"
   ]
  },
  {
   "cell_type": "code",
   "execution_count": 416,
   "id": "54ebed7f",
   "metadata": {},
   "outputs": [
    {
     "data": {
      "text/html": [
       "<pre class=\"language-APL\">1 2\n",
       "3 4\n",
       "5 6\n",
       "</pre>"
      ]
     },
     "execution_count": 416,
     "metadata": {},
     "output_type": "execute_result"
    },
    {
     "data": {
      "text/html": [
       "<pre class=\"language-APL\">3 7 11\n",
       "</pre>"
      ]
     },
     "execution_count": 416,
     "metadata": {},
     "output_type": "execute_result"
    },
    {
     "data": {
      "text/html": [
       "<pre class=\"language-APL\">9 12\n",
       "</pre>"
      ]
     },
     "execution_count": 416,
     "metadata": {},
     "output_type": "execute_result"
    }
   ],
   "source": [
    "3 2⍴1 2 3 4 5 6\n",
    "+/3 2⍴1 2 3 4 5 6\n",
    "+⌿3 2⍴1 2 3 4 5 6"
   ]
  },
  {
   "cell_type": "markdown",
   "id": "51bb8bb6",
   "metadata": {},
   "source": [
    "Returning to our problem, now we just need to unique the vectors and flatten,"
   ]
  },
  {
   "cell_type": "code",
   "execution_count": 421,
   "id": "61dd87ae",
   "metadata": {},
   "outputs": [
    {
     "data": {
      "text/html": [
       "<pre class=\"language-APL\">rZ\n",
       "</pre>"
      ]
     },
     "execution_count": 421,
     "metadata": {},
     "output_type": "execute_result"
    }
   ],
   "source": [
    "∊∪¨∩/{(3÷⍨≢input) 3⍴⍵}input"
   ]
  },
  {
   "cell_type": "markdown",
   "id": "54cce8ef",
   "metadata": {},
   "source": [
    "Then convert them to numbers, and sum:"
   ]
  },
  {
   "cell_type": "code",
   "execution_count": 422,
   "id": "2ea974e2",
   "metadata": {},
   "outputs": [
    {
     "data": {
      "text/html": [
       "<pre class=\"language-APL\">70\n",
       "</pre>"
      ]
     },
     "execution_count": 422,
     "metadata": {},
     "output_type": "execute_result"
    }
   ],
   "source": [
    "+/letters⍳∊∪¨∩/{(3÷⍨≢input) 3⍴⍵}input"
   ]
  },
  {
   "cell_type": "markdown",
   "id": "534fc00d",
   "metadata": {},
   "source": [
    "And that's part two!"
   ]
  },
  {
   "cell_type": "code",
   "execution_count": null,
   "id": "688af0c1",
   "metadata": {},
   "outputs": [],
   "source": []
  },
  {
   "cell_type": "code",
   "execution_count": null,
   "id": "dc75f0ae",
   "metadata": {},
   "outputs": [],
   "source": []
  },
  {
   "cell_type": "code",
   "execution_count": null,
   "id": "322a2c48",
   "metadata": {},
   "outputs": [],
   "source": []
  },
  {
   "cell_type": "code",
   "execution_count": null,
   "id": "c2eb00be",
   "metadata": {},
   "outputs": [],
   "source": []
  },
  {
   "cell_type": "code",
   "execution_count": null,
   "id": "fd3b4c5d",
   "metadata": {},
   "outputs": [],
   "source": []
  },
  {
   "cell_type": "code",
   "execution_count": null,
   "id": "8cb1dd7d",
   "metadata": {},
   "outputs": [],
   "source": []
  },
  {
   "cell_type": "code",
   "execution_count": null,
   "id": "bb9ca7dd",
   "metadata": {},
   "outputs": [],
   "source": []
  },
  {
   "cell_type": "code",
   "execution_count": null,
   "id": "3062d274",
   "metadata": {},
   "outputs": [],
   "source": []
  },
  {
   "cell_type": "code",
   "execution_count": null,
   "id": "a35e4706",
   "metadata": {},
   "outputs": [],
   "source": []
  },
  {
   "cell_type": "code",
   "execution_count": null,
   "id": "e1ab696e",
   "metadata": {},
   "outputs": [],
   "source": []
  },
  {
   "cell_type": "code",
   "execution_count": null,
   "id": "b89e50a4",
   "metadata": {},
   "outputs": [],
   "source": []
  },
  {
   "cell_type": "code",
   "execution_count": null,
   "id": "381f12c2",
   "metadata": {},
   "outputs": [],
   "source": []
  },
  {
   "cell_type": "markdown",
   "id": "ab73263f",
   "metadata": {},
   "source": [
    "## My work in progress below, please ignore"
   ]
  },
  {
   "cell_type": "code",
   "execution_count": 14,
   "id": "b1183226",
   "metadata": {},
   "outputs": [
    {
     "data": {
      "text/html": [
       "<pre class=\"language-APL\">vJrwpWtwJgWrhcsFMMfFFhFp        \n",
       "jqHRNqRjqzjGDLGLrsFMfFZSrLrFZsSL\n",
       "PmmdzqPrVvPwwTWBwg              \n",
       "wMqvLMZHhHMvwLHjbvcjnnSBnvTQFn  \n",
       "ttgJtRGJQctTZtZT                \n",
       "CrZsJsPPZsGzwwsLwLmpwMDw        \n",
       "</pre>"
      ]
     },
     "execution_count": 14,
     "metadata": {},
     "output_type": "execute_result"
    }
   ],
   "source": [
    "↑⊢input←'vJrwpWtwJgWrhcsFMMfFFhFp' 'jqHRNqRjqzjGDLGLrsFMfFZSrLrFZsSL' 'PmmdzqPrVvPwwTWBwg' 'wMqvLMZHhHMvwLHjbvcjnnSBnvTQFn' 'ttgJtRGJQctTZtZT' 'CrZsJsPPZsGzwwsLwLmpwMDw'"
   ]
  },
  {
   "cell_type": "code",
   "execution_count": 35,
   "id": "89fbe07b",
   "metadata": {},
   "outputs": [
    {
     "data": {
      "text/html": [
       "<pre class=\"language-APL\">┌─┬─┬─┬─┬─┬─┬─┬─┬─┬─┬──┬─┬─┬─┬─┬─┬─┬─┬─┬─┬─┬─┬─┐\n",
       "│v│J│r│w│p│W│t│w│J│g│Wr│h│c│s│F│M│M│f│F│F│h│F│p│\n",
       "└─┴─┴─┴─┴─┴─┴─┴─┴─┴─┴──┴─┴─┴─┴─┴─┴─┴─┴─┴─┴─┴─┴─┘\n",
       "</pre>"
      ]
     },
     "execution_count": 35,
     "metadata": {},
     "output_type": "execute_result"
    }
   ],
   "source": [
    "(({((⍵-1)⍴1),0,⍵⍴1}2÷⍨≢)⊂⊢)'vJrwpWtwJgWrhcsFMMfFFhFp'"
   ]
  },
  {
   "cell_type": "code",
   "execution_count": 78,
   "id": "35e37683",
   "metadata": {
    "scrolled": true
   },
   "outputs": [
    {
     "data": {
      "text/html": [
       "<pre class=\"language-APL\">┌┬┬┬┬┬┬┬┬┬┬┬─┬┬┬┬┬┬┬┬┬┬┬┬─┬┬┬┬┬┬┬┬┬┬┬┬─┬┬┬┬┬┬┬┬┬┬┬┬─┬┬┬┬┬┬┬┬┬┬┬┬─┬┬┬┬┬┬┬┬┬┬┬┬─┬┬┬┬┬┬┬┬┬┬┬┬─┬┬┬┬┬┬┬┬┬┬┬┬─┬┬┬┬┬┬┬┬┬┬┬┬─┬┬┬┬┬┬┬┬┬┬┬┬──┬┬┬┬┬┬┬┬┬┬┬┬──┬┬┬┬┬┬┬┬┬┬┬┬──┬┬┬┬┬┬┬┬┬┬┬┬──┬┬┬┬┬┬┬┬┬┬┬┬──┬┬┬┬┬┬┬┬┬┬┬┬──┬┬┬┬┬┬┬┬┬┬┬┬──┬┬┬┬┬┬┬┬┬┬┬┬──┬┬┬┬┬┬┬┬┬┬┬┬──┬┬┬┬┬┬┬┬┬┬┬┬──┬┬┬┬┬┬┬┬┬┬┬┬──┬┬┬┬┬┬┬┬┬┬┬┬──┬┬┬┬┬┬┬┬┬┬┬┬──┬┬┬┬┬┬┬┬┬┬┬┬──┬┬┬┬┬┬┬┬┬┬┬┬──┬┬┬┬┬┬┬┬┬┬┬┬────────────────────────────────────────────────────────────────┐\n",
       "││││││││││││1││││││││││││2││││││││││││3││││││││││││4││││││││││││5││││││││││││6││││││││││││7││││││││││││8││││││││││││9││││││││││││10││││││││││││11││││││││││││12││││││││││││13││││││││││││14││││││││││││15││││││││││││16││││││││││││17││││││││││││18││││││││││││19││││││││││││20││││││││││││21││││││││││││22││││││││││││23││││││││││││24││││││││││││┌──────────────────────────────────────────────────────────────┐│\n",
       "││││││││││││ ││││││││││││ ││││││││││││ ││││││││││││ ││││││││││││ ││││││││││││ ││││││││││││ ││││││││││││ ││││││││││││ ││││││││││││  ││││││││││││  ││││││││││││  ││││││││││││  ││││││││││││  ││││││││││││  ││││││││││││  ││││││││││││  ││││││││││││  ││││││││││││  ││││││││││││  ││││││││││││  ││││││││││││  ││││││││││││  ││││││││││││  │││││││││││││1 2 3 4 5 6 7 8 9 10 11 12 13 14 15 16 17 18 19 20 21 22 23 24││\n",
       "││││││││││││ ││││││││││││ ││││││││││││ ││││││││││││ ││││││││││││ ││││││││││││ ││││││││││││ ││││││││││││ ││││││││││││ ││││││││││││  ││││││││││││  ││││││││││││  ││││││││││││  ││││││││││││  ││││││││││││  ││││││││││││  ││││││││││││  ││││││││││││  ││││││││││││  ││││││││││││  ││││││││││││  ││││││││││││  ││││││││││││  ││││││││││││  ││││││││││││└──────────────────────────────────────────────────────────────┘│\n",
       "└┴┴┴┴┴┴┴┴┴┴┴─┴┴┴┴┴┴┴┴┴┴┴┴─┴┴┴┴┴┴┴┴┴┴┴┴─┴┴┴┴┴┴┴┴┴┴┴┴─┴┴┴┴┴┴┴┴┴┴┴┴─┴┴┴┴┴┴┴┴┴┴┴┴─┴┴┴┴┴┴┴┴┴┴┴┴─┴┴┴┴┴┴┴┴┴┴┴┴─┴┴┴┴┴┴┴┴┴┴┴┴─┴┴┴┴┴┴┴┴┴┴┴┴──┴┴┴┴┴┴┴┴┴┴┴┴──┴┴┴┴┴┴┴┴┴┴┴┴──┴┴┴┴┴┴┴┴┴┴┴┴──┴┴┴┴┴┴┴┴┴┴┴┴──┴┴┴┴┴┴┴┴┴┴┴┴──┴┴┴┴┴┴┴┴┴┴┴┴──┴┴┴┴┴┴┴┴┴┴┴┴──┴┴┴┴┴┴┴┴┴┴┴┴──┴┴┴┴┴┴┴┴┴┴┴┴──┴┴┴┴┴┴┴┴┴┴┴┴──┴┴┴┴┴┴┴┴┴┴┴┴──┴┴┴┴┴┴┴┴┴┴┴┴──┴┴┴┴┴┴┴┴┴┴┴┴──┴┴┴┴┴┴┴┴┴┴┴┴──┴┴┴┴┴┴┴┴┴┴┴┴────────────────────────────────────────────────────────────────┘\n",
       "</pre>"
      ]
     },
     "execution_count": 78,
     "metadata": {},
     "output_type": "execute_result"
    }
   ],
   "source": [
    "⍝ The take/drop approach is probably simpler than partition\n",
    "12(⊂∘↑,⊂∘↓)⍳24"
   ]
  },
  {
   "cell_type": "code",
   "execution_count": 76,
   "id": "65c5e2aa",
   "metadata": {},
   "outputs": [
    {
     "data": {
      "text/html": [
       "<pre class=\"language-APL\">┌────────────┬────────────────────┐\n",
       "│vJrwpWtwJgWr│hcsFMMfFFhFp        │\n",
       "├────────────┼────────────────────┤\n",
       "│jqHRNqRjqzjG│DLGLrsFMfFZSrLrFZsSL│\n",
       "├────────────┼────────────────────┤\n",
       "│PmmdzqPrVvPw│wTWBwg              │\n",
       "├────────────┼────────────────────┤\n",
       "│wMqvLMZHhHMv│wLHjbvcjnnSBnvTQFn  │\n",
       "├────────────┼────────────────────┤\n",
       "│ttgJtRGJQctT│ZtZT                │\n",
       "├────────────┼────────────────────┤\n",
       "│CrZsJsPPZsGz│wwsLwLmpwMDw        │\n",
       "└────────────┴────────────────────┘\n",
       "</pre>"
      ]
     },
     "execution_count": 76,
     "metadata": {},
     "output_type": "execute_result"
    }
   ],
   "source": [
    "⍝ Want to use ⊂ monadically\n",
    "↑ 12{(⊂⍺↑⍵),⊂⍺↓⍵}¨input"
   ]
  },
  {
   "cell_type": "code",
   "execution_count": 107,
   "id": "fdf63f83",
   "metadata": {},
   "outputs": [
    {
     "data": {
      "text/html": [
       "<pre class=\"language-APL\">0 0 0 0 1 0 0 0 0 0 0 0\n",
       "0 0 0 0 0 0 0 0 0 0 0 1\n",
       "0 0 0 0 0 0 0 0 0 0 0 1\n",
       "1 0 0 1 1 0 0 1 0 1 0 1\n",
       "1 1 0 0 1 0 0 0 0 0 1 1\n",
       "0 0 0 1 0 1 0 0 0 1 0 0\n",
       "</pre>"
      ]
     },
     "execution_count": 107,
     "metadata": {},
     "output_type": "execute_result"
    }
   ],
   "source": [
    "↑ ∊/↑12{(⊂⍺↑⍵),⊂⍺↓⍵}¨input"
   ]
  },
  {
   "cell_type": "code",
   "execution_count": 215,
   "id": "a8ac80a8",
   "metadata": {},
   "outputs": [
    {
     "data": {
      "text/html": [
       "<pre class=\"language-APL\">┌────────────────┬────────────────┐\n",
       "│vJrwpWtwJgWr    │hcsFMMfFFhFp    │\n",
       "├────────────────┼────────────────┤\n",
       "│jqHRNqRjqzjGDLGL│rsFMfFZSrLrFZsSL│\n",
       "├────────────────┼────────────────┤\n",
       "│PmmdzqPrV       │vPwwTWBwg       │\n",
       "├────────────────┼────────────────┤\n",
       "│wMqvLMZHhHMvwLH │jbvcjnnSBnvTQFn │\n",
       "├────────────────┼────────────────┤\n",
       "│ttgJtRGJ        │QctTZtZT        │\n",
       "├────────────────┼────────────────┤\n",
       "│CrZsJsPPZsGz    │wwsLwLmpwMDw    │\n",
       "└────────────────┴────────────────┘\n",
       "</pre>"
      ]
     },
     "execution_count": 215,
     "metadata": {},
     "output_type": "execute_result"
    }
   ],
   "source": [
    "↑ (2÷⍨≢¨input){(⊂⍺↑⍵),⊂⍺↓⍵}¨input"
   ]
  },
  {
   "cell_type": "code",
   "execution_count": 183,
   "id": "fbe5a665",
   "metadata": {},
   "outputs": [
    {
     "data": {
      "text/html": [
       "<pre class=\"language-APL\">p\n",
       "</pre>"
      ]
     },
     "execution_count": 183,
     "metadata": {},
     "output_type": "execute_result"
    }
   ],
   "source": [
    "0 0 0 0 1 0 0 0 0 0 0 0/'vJrwpWtwJgWr'"
   ]
  },
  {
   "cell_type": "code",
   "execution_count": 164,
   "id": "b2430b86",
   "metadata": {},
   "outputs": [
    {
     "name": "stderr",
     "output_type": "stream",
     "text": [
      "LENGTH ERROR\n",
      "      {(⊃∊/12{(⊂⍺↑⍵),⊂⍺↓⍵}⍵)/⍵}'vJrwpWtwJgWrhcsFMMfFFhFp'\n",
      "                            ∧\n"
     ]
    }
   ],
   "source": [
    "{(⊃∊/12{(⊂⍺↑⍵),⊂⍺↓⍵}⍵)/⍵}'vJrwpWtwJgWrhcsFMMfFFhFp'\n",
    "⍝ note: might be able to use ⊢ to get rid of defn\n",
    "⍝ TODO: get rid of the hardcoded 12"
   ]
  },
  {
   "cell_type": "code",
   "execution_count": 217,
   "id": "a42fb7c7",
   "metadata": {},
   "outputs": [
    {
     "data": {
      "text/html": [
       "<pre class=\"language-APL\">0 0 0 0 1 0 0 0 0 0 0 0\n",
       "</pre>"
      ]
     },
     "execution_count": 217,
     "metadata": {},
     "output_type": "execute_result"
    }
   ],
   "source": [
    "{⊃∊/12{(⊂⍺↑⍵),⊂⍺↓⍵}⍵}'vJrwpWtwJgWrhcsFMMfFFhFp'"
   ]
  },
  {
   "cell_type": "code",
   "execution_count": 165,
   "id": "096ff1c2",
   "metadata": {},
   "outputs": [
    {
     "name": "stderr",
     "output_type": "stream",
     "text": [
      "SYNTAX ERROR\n",
      "      {{⊃∊/12{(⊂⍺↑⍵),⊂⍺↓⍵}⍵}⍵)/⍵}'vJrwpWtwJgWrhcsFMMfFFhFp'\n",
      "       ∧\n"
     ]
    }
   ],
   "source": [
    "{{⊃∊/12{(⊂⍺↑⍵),⊂⍺↓⍵}⍵}⍵)/⍵}'vJrwpWtwJgWrhcsFMMfFFhFp'"
   ]
  },
  {
   "cell_type": "code",
   "execution_count": 219,
   "id": "cf94b3c1",
   "metadata": {},
   "outputs": [
    {
     "data": {
      "text/html": [
       "<pre class=\"language-APL\">┌───────────────────────────────┬────────────────┐\n",
       "│0 0 0 0 1 0 0 0 0 0 0 0        │vJrwpWtwJgWr    │\n",
       "├───────────────────────────────┼────────────────┤\n",
       "│0 0 0 0 0 0 0 0 0 0 0 0 0 1 0 1│jqHRNqRjqzjGDLGL│\n",
       "├───────────────────────────────┼────────────────┤\n",
       "│1 0 0 0 0 0 1 0 0              │PmmdzqPrV       │\n",
       "├───────────────────────────────┼────────────────┤\n",
       "│0 0 0 1 0 0 0 0 0 0 0 1 0 0 0  │wMqvLMZHhHMvwLH │\n",
       "├───────────────────────────────┼────────────────┤\n",
       "│1 1 0 0 1 0 0 0                │ttgJtRGJ        │\n",
       "├───────────────────────────────┼────────────────┤\n",
       "│0 0 0 1 0 1 0 0 0 1 0 0        │CrZsJsPPZsGz    │\n",
       "└───────────────────────────────┴────────────────┘\n",
       "</pre>"
      ]
     },
     "execution_count": 219,
     "metadata": {},
     "output_type": "execute_result"
    }
   ],
   "source": [
    "⍝ Maybe the APL way is to do it in whole?\n",
    "((2÷⍨≢¨input)↑¨input),⍨⍪∊/↑(2÷⍨≢¨input){(⊂⍺↑⍵),⊂⍺↓⍵}¨input"
   ]
  },
  {
   "cell_type": "code",
   "execution_count": 236,
   "id": "d5e2413d",
   "metadata": {},
   "outputs": [],
   "source": [
    "part1←{+/letters⍳⊃¨(//((2÷⍨≢¨⍵)↑¨⍵),⍨⍪∊/↑(2÷⍨≢¨⍵){(⊂⍺↑⍵),⊂⍺↓⍵}¨⍵)}"
   ]
  },
  {
   "cell_type": "code",
   "execution_count": 239,
   "id": "94b162cd",
   "metadata": {},
   "outputs": [
    {
     "data": {
      "text/html": [
       "<pre class=\"language-APL\">7967\n",
       "</pre>"
      ]
     },
     "execution_count": 239,
     "metadata": {},
     "output_type": "execute_result"
    }
   ],
   "source": [
    "part1⊃⎕NGET'input.txt'1"
   ]
  },
  {
   "cell_type": "markdown",
   "id": "7f42dd92",
   "metadata": {},
   "source": [
    "A second try, now that I know about union and intersection"
   ]
  },
  {
   "cell_type": "code",
   "execution_count": 325,
   "id": "e597584e",
   "metadata": {},
   "outputs": [
    {
     "data": {
      "text/html": [
       "<pre class=\"language-APL\">7967\n",
       "</pre>"
      ]
     },
     "execution_count": 325,
     "metadata": {},
     "output_type": "execute_result"
    }
   ],
   "source": [
    "part1←{+/∊{letters⍳∊∪¨∩/↓2 (2÷⍨≢⍵)⍴⍵}¨⍵}\n",
    "part1 ⊃⎕NGET'input.txt'1"
   ]
  },
  {
   "cell_type": "markdown",
   "id": "79dea8d2",
   "metadata": {},
   "source": [
    "Part 2"
   ]
  },
  {
   "cell_type": "code",
   "execution_count": 364,
   "id": "304e64c9",
   "metadata": {},
   "outputs": [
    {
     "data": {
      "text/html": [
       "<pre class=\"language-APL\">70\n",
       "</pre>"
      ]
     },
     "execution_count": 364,
     "metadata": {},
     "output_type": "execute_result"
    }
   ],
   "source": [
    "+/letters⍳∊∪¨∩/2 3⍴ input"
   ]
  },
  {
   "cell_type": "code",
   "execution_count": 370,
   "id": "a4d10dcd",
   "metadata": {},
   "outputs": [
    {
     "data": {
      "text/html": [
       "<pre class=\"language-APL\">70\n",
       "</pre>"
      ]
     },
     "execution_count": 370,
     "metadata": {},
     "output_type": "execute_result"
    }
   ],
   "source": [
    "⍝ now need to get rid of hardcoded shape\n",
    "+/letters⍳∊∪¨∩/(3÷⍨≢input) 3⍴ input"
   ]
  },
  {
   "cell_type": "code",
   "execution_count": 373,
   "id": "d0a21ac2",
   "metadata": {},
   "outputs": [
    {
     "data": {
      "text/html": [
       "<pre class=\"language-APL\">2716\n",
       "</pre>"
      ]
     },
     "execution_count": 373,
     "metadata": {},
     "output_type": "execute_result"
    }
   ],
   "source": [
    "part2←{+/letters⍳∊∪¨∩/(3÷⍨≢⍵) 3⍴⍵}\n",
    "part2 ⊃⎕NGET'input.txt'1"
   ]
  },
  {
   "cell_type": "markdown",
   "id": "e5308802",
   "metadata": {},
   "source": [
    "Success!"
   ]
  },
  {
   "cell_type": "code",
   "execution_count": null,
   "id": "b4a5568d",
   "metadata": {},
   "outputs": [],
   "source": []
  },
  {
   "cell_type": "code",
   "execution_count": null,
   "id": "c28f751c",
   "metadata": {},
   "outputs": [],
   "source": []
  },
  {
   "cell_type": "code",
   "execution_count": null,
   "id": "fab5b972",
   "metadata": {},
   "outputs": [],
   "source": []
  },
  {
   "cell_type": "code",
   "execution_count": null,
   "id": "e126e1f0",
   "metadata": {},
   "outputs": [],
   "source": []
  },
  {
   "cell_type": "code",
   "execution_count": null,
   "id": "7560249e",
   "metadata": {},
   "outputs": [],
   "source": []
  },
  {
   "cell_type": "code",
   "execution_count": null,
   "id": "6f3ee9d9",
   "metadata": {},
   "outputs": [],
   "source": []
  },
  {
   "cell_type": "code",
   "execution_count": 268,
   "id": "50b69179",
   "metadata": {},
   "outputs": [
    {
     "data": {
      "text/html": [
       "<pre class=\"language-APL\">Q\n",
       "</pre>"
      ]
     },
     "execution_count": 268,
     "metadata": {},
     "output_type": "execute_result"
    }
   ],
   "source": [
    "⍝ Theirs\n",
    "⍝ r ← 58|20+⎕UCS¨ ⊃⎕NGET'in/03.txt'1\n",
    "⍝ +/∊{∪¨∩/↓2(2÷⍨≢⍵)⍴⍵}¨r\n",
    "∊{∪¨∩/↓ 2 (2÷⍨≢⍵)⍴⍵} ⊃ ⊃⎕NGET'input.txt'1"
   ]
  }
 ],
 "metadata": {
  "kernelspec": {
   "display_name": "Dyalog APL",
   "language": "apl",
   "name": "dyalog-kernel"
  },
  "language_info": {
   "file_extension": ".apl",
   "mimetype": "text/apl",
   "name": "APL"
  }
 },
 "nbformat": 4,
 "nbformat_minor": 5
}
