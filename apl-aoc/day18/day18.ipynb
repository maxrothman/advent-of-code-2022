{
 "cells": [
  {
   "cell_type": "code",
   "execution_count": 38,
   "id": "5e2cdacb",
   "metadata": {},
   "outputs": [
    {
     "data": {
      "text/html": [
       "<pre class=\"language-APL\">1 0 0 1 1\n",
       "0 0 1 1 0\n",
       "0 1 1 0 0\n",
       "1 1 0 0 1\n",
       "1 0 0 1 1\n",
       "         \n",
       "0 0 1 1 0\n",
       "0 1 1 0 0\n",
       "1 1 0 0 1\n",
       "1 0 0 1 1\n",
       "0 0 1 1 0\n",
       "         \n",
       "0 1 1 0 0\n",
       "1 1 0 0 1\n",
       "1 0 0 1 1\n",
       "0 0 1 1 0\n",
       "0 1 1 0 0\n",
       "         \n",
       "1 1 0 0 1\n",
       "1 0 0 1 1\n",
       "0 0 1 1 0\n",
       "0 1 1 0 0\n",
       "1 1 0 0 1\n",
       "         \n",
       "1 0 0 1 1\n",
       "0 0 1 1 0\n",
       "0 1 1 0 0\n",
       "1 1 0 0 1\n",
       "1 0 0 1 1\n",
       "</pre>"
      ]
     },
     "execution_count": 38,
     "metadata": {},
     "output_type": "execute_result"
    }
   ],
   "source": [
    "5 5 5⍴1 0 0 1"
   ]
  },
  {
   "cell_type": "code",
   "execution_count": 90,
   "id": "0243c2a7",
   "metadata": {
    "scrolled": false
   },
   "outputs": [
    {
     "data": {
      "text/html": [
       "<pre class=\"language-APL\">0 0 0\n",
       "0 1 0\n",
       "0 0 0\n",
       "\n",
       "0 1 0\n",
       "1 0 1\n",
       "0 1 0\n",
       "\n",
       "0 0 0\n",
       "0 1 0\n",
       "0 0 0\n",
       "</pre>"
      ]
     },
     "execution_count": 90,
     "metadata": {},
     "output_type": "execute_result"
    }
   ],
   "source": [
    "⊢m←{⍵⍪⊖⍵,[0.5](3 3⍴0 1)}3 3⍴0 0 0 0 1 0 0 0 0"
   ]
  },
  {
   "cell_type": "code",
   "execution_count": 91,
   "id": "1b95dfc6",
   "metadata": {
    "scrolled": true
   },
   "outputs": [
    {
     "data": {
      "text/html": [
       "<pre class=\"language-APL\">7 6 4 4 6\n",
       "6 4 4 5 5\n",
       "4 4 5 5 5\n",
       "4 5 5 4 5\n",
       "6 5 5 5 5\n",
       "         \n",
       "6 4 4 5 5\n",
       "4 4 4 4 5\n",
       "4 4 4 4 5\n",
       "5 4 4 4 4\n",
       "5 5 5 4 4\n",
       "         \n",
       "4 4 5 5 5\n",
       "4 4 4 4 5\n",
       "5 4 4 4 4\n",
       "5 4 4 4 4\n",
       "5 5 4 4 6\n",
       "         \n",
       "4 5 5 4 5\n",
       "5 4 4 4 4\n",
       "5 4 4 4 4\n",
       "4 4 4 4 5\n",
       "5 4 4 5 6\n",
       "         \n",
       "6 5 5 5 5\n",
       "5 5 5 4 4\n",
       "5 5 4 4 6\n",
       "5 4 4 5 6\n",
       "5 4 6 6 4\n",
       "</pre>"
      ]
     },
     "execution_count": 91,
     "metadata": {},
     "output_type": "execute_result"
    }
   ],
   "source": [
    "7-{≢⍸m∧⍵}⌺3 3 3⊢5 5 5⍴1 0 0 1"
   ]
  },
  {
   "cell_type": "code",
   "execution_count": 178,
   "id": "2d989739",
   "metadata": {},
   "outputs": [],
   "source": [
    "input←(2 2 2)(1 2 2)(3 2 2)(2 1 2)(2 3 2)(2 2 1)(2 2 3)(2 2 4)(2 2 6)(1 2 5)(3 2 5)(2 1 5)(2 3 5)"
   ]
  },
  {
   "cell_type": "code",
   "execution_count": 180,
   "id": "63b4e0fc",
   "metadata": {
    "scrolled": true
   },
   "outputs": [
    {
     "data": {
      "text/html": [
       "<pre class=\"language-APL\">0 0 0 0 0 0\n",
       "0 1 0 0 1 0\n",
       "0 0 0 0 0 0\n",
       "           \n",
       "0 1 0 0 1 0\n",
       "1 1 1 1 0 1\n",
       "0 1 0 0 1 0\n",
       "           \n",
       "0 0 0 0 0 0\n",
       "0 1 0 0 1 0\n",
       "0 0 0 0 0 0\n",
       "</pre>"
      ]
     },
     "execution_count": 180,
     "metadata": {},
     "output_type": "execute_result"
    }
   ],
   "source": [
    "w←(3 3 6⍴0)\n",
    "w[input]←1\n",
    "w"
   ]
  },
  {
   "cell_type": "code",
   "execution_count": 104,
   "id": "444c5066",
   "metadata": {},
   "outputs": [
    {
     "data": {
      "text/html": [
       "<pre class=\"language-APL\">64\n",
       "</pre>"
      ]
     },
     "execution_count": 104,
     "metadata": {},
     "output_type": "execute_result"
    }
   ],
   "source": [
    "+/∊{⍵[⊂2 2 2]×6-≢⍸m∧⍵}⌺3 3 3⊢w\n",
    "⍝ Ok, now I just have to parse input"
   ]
  },
  {
   "cell_type": "code",
   "execution_count": 204,
   "id": "47816568",
   "metadata": {},
   "outputs": [
    {
     "data": {
      "text/html": [
       "<pre class=\"language-APL\">4314\n",
       "</pre>"
      ]
     },
     "execution_count": 204,
     "metadata": {},
     "output_type": "execute_result"
    },
    {
     "data": {
      "text/html": [
       "<pre class=\"language-APL\">4074\n",
       "</pre>"
      ]
     },
     "execution_count": 204,
     "metadata": {},
     "output_type": "execute_result"
    }
   ],
   "source": [
    "⍝ Part 1 complete\n",
    "m←{⍵⍪⊖⍵,[0.5](3 3⍴0 1)}3 3⍴0 0 0 0 1 0 0 0 0\n",
    "w←{1@⍵⊢0⍴⍨⊃⌈/⍵}1+⎕D∘(⍎¨∊⍨⊆⊢)¨⊃⎕NGET'input.txt'1\n",
    "+/∊{⍵[⊂2 2 2]×6-≢⍸m∧⍵}⌺3 3 3⊢w\n",
    "+/∊{⍵[⊂2 2 2]({¯6×(~⍺)∧6=⍵}+{⍺×6-⍵})≢⍸m∧⍵}⌺3 3 3⊢w\n",
    "⍝ Too low, likely missing pockets that are larger than 1 cube"
   ]
  },
  {
   "cell_type": "code",
   "execution_count": 306,
   "id": "f40ee078",
   "metadata": {},
   "outputs": [
    {
     "data": {
      "text/html": [
       "<pre class=\"language-APL\">1 1 1 1 1 1\n",
       "1 2 1 1 2 1\n",
       "1 1 1 1 1 1\n",
       "\n",
       "1 2 1 1 2 1\n",
       "2 2 2 2 1 2\n",
       "1 2 1 1 2 1\n",
       "\n",
       "1 1 1 1 1 1\n",
       "1 2 1 1 2 1\n",
       "1 1 1 1 1 1\n",
       "</pre>"
      ]
     },
     "execution_count": 306,
     "metadata": {},
     "output_type": "execute_result"
    },
    {
     "data": {
      "text/html": [
       "<pre class=\"language-APL\">6\n",
       "</pre>"
      ]
     },
     "execution_count": 306,
     "metadata": {},
     "output_type": "execute_result"
    }
   ],
   "source": [
    "⎕PW←300\n",
    "1+{1@⍵⊢0⍴⍨⊃⌈/⍵}input\n",
    "+/∊6×1={{⍵[2;2;2]{⍺≠1:⍺ ⋄ ∧/m/⍥∊∘×⍵}⍵}⌺3 3 3⊢⍵}⍣2⊢1+{1@⍵⊢0⍴⍨⊃⌈/⍵}input"
   ]
  },
  {
   "cell_type": "code",
   "execution_count": 303,
   "id": "4b6e7a27",
   "metadata": {},
   "outputs": [
    {
     "data": {
      "text/html": [
       "<pre class=\"language-APL\">0 0 1 1 1 1 1 1\n",
       "0 0 1 0 0 0 0 1\n",
       "0 0 1 0 0 0 0 1\n",
       "0 0 1 0 0 0 0 1\n",
       "0 0 1 0 0 0 0 1\n",
       "0 0 1 1 1 1 1 1\n",
       "</pre>"
      ]
     },
     "execution_count": 303,
     "metadata": {},
     "output_type": "execute_result"
    },
    {
     "data": {
      "text/html": [
       "<pre class=\"language-APL\">0 0 2 2 2 2 2 2\n",
       "0 1 2 1 1 1 1 2\n",
       "0 1 2 1 1 1 1 2\n",
       "0 1 2 1 1 1 1 2\n",
       "0 1 2 1 1 1 1 2\n",
       "0 0 2 2 2 2 2 2\n",
       "</pre>"
      ]
     },
     "execution_count": 303,
     "metadata": {},
     "output_type": "execute_result"
    },
    {
     "data": {
      "text/html": [
       "<pre class=\"language-APL\">0 0 2 2 2 2 2 2\n",
       "0 0 2 1 1 1 1 2\n",
       "0 0 2 1 1 1 1 2\n",
       "0 0 2 1 1 1 1 2\n",
       "0 0 2 1 1 1 1 2\n",
       "0 0 2 2 2 2 2 2\n",
       "</pre>"
      ]
     },
     "execution_count": 303,
     "metadata": {},
     "output_type": "execute_result"
    },
    {
     "data": {
      "text/html": [
       "<pre class=\"language-APL\">0 0 2 2 2 2 2 2\n",
       "0 0 2 1 1 1 1 2\n",
       "0 0 2 1 1 1 1 2\n",
       "0 0 2 1 1 1 1 2\n",
       "0 0 2 1 1 1 1 2\n",
       "0 0 2 2 2 2 2 2\n",
       "</pre>"
      ]
     },
     "execution_count": 303,
     "metadata": {},
     "output_type": "execute_result"
    }
   ],
   "source": [
    "⍝ Fill empty\n",
    "⊢grid← 0,0,1⍪⍨1⍪1,⍨1,(4 4⍴0)\n",
    "{{⍵[2;2]≠1: ⍵[2;2] ⋄ ∧/(3 3⍴0 1)/⍥∊∘×⍵}⌺3 3⊢⍵}⍣1⊢1+grid\n",
    "{{⍵[2;2]≠1: ⍵[2;2] ⋄ ∧/(3 3⍴0 1)/⍥∊∘×⍵}⌺3 3⊢⍵}⍣2⊢1+grid\n",
    "{{⍵[2;2]≠1: ⍵[2;2] ⋄ ∧/(3 3⍴0 1)/⍥∊∘×⍵}⌺3 3⊢⍵}⍣≡⊢1+grid\n",
    "⍝ It uses the fact that ⌺ pads with 0s to \"leak\" 0s in from the edges until a 2 is encountered"
   ]
  },
  {
   "cell_type": "code",
   "execution_count": 312,
   "id": "394f5797",
   "metadata": {},
   "outputs": [
    {
     "data": {
      "text/html": [
       "<pre class=\"language-APL\">2444\n",
       "</pre>"
      ]
     },
     "execution_count": 312,
     "metadata": {},
     "output_type": "execute_result"
    }
   ],
   "source": [
    "+/∊{⍵[⊂2 2 2]×6-≢⍸m∧⍵}⌺3 3 3×{{⍵[2;2;2]{⍺≠1:⍺ ⋄ ∧/m/⍥∊∘×⍵}⍵}⌺3 3 3⊢⍵}⍣≡⊢1+w"
   ]
  },
  {
   "cell_type": "code",
   "execution_count": null,
   "id": "4958c71c",
   "metadata": {},
   "outputs": [],
   "source": [
    "⍝ And that's it!"
   ]
  },
  {
   "cell_type": "code",
   "execution_count": null,
   "id": "cbcf3694",
   "metadata": {},
   "outputs": [],
   "source": []
  },
  {
   "cell_type": "code",
   "execution_count": null,
   "id": "05522505",
   "metadata": {},
   "outputs": [],
   "source": []
  },
  {
   "cell_type": "code",
   "execution_count": null,
   "id": "ba083f6f",
   "metadata": {},
   "outputs": [],
   "source": []
  },
  {
   "cell_type": "code",
   "execution_count": null,
   "id": "75a0e243",
   "metadata": {},
   "outputs": [],
   "source": []
  },
  {
   "cell_type": "code",
   "execution_count": 3,
   "id": "92befea2",
   "metadata": {},
   "outputs": [
    {
     "data": {
      "text/html": [
       "<pre class=\"language-APL\">   ┌──────────┼───┐      \n",
       "   ⌺          ¨ ┌─┼───┐  \n",
       "┌──┴──┐     ┌─┘ 3 + ┌─┼─┐\n",
       "{≢⍸⍵} (2⍴3) ∊       0 ¨ ⊢\n",
       "                    ┌─┘  \n",
       "                    ,    \n",
       "</pre>"
      ]
     },
     "execution_count": 3,
     "metadata": {},
     "output_type": "execute_result"
    }
   ],
   "source": [
    "⍝ Game of life\n",
    "{≢⍸⍵}⌺3 3∊¨3+0,¨⊢"
   ]
  },
  {
   "cell_type": "code",
   "execution_count": 14,
   "id": "e888e3d3",
   "metadata": {},
   "outputs": [
    {
     "data": {
      "text/html": [
       "<pre class=\"language-APL\">0 0 1 0 0 0 0 0\n",
       "1 0 1 0 0 0 0 0\n",
       "0 1 1 0 0 0 0 0\n",
       "0 0 0 0 0 0 0 0\n",
       "0 0 0 0 0 0 0 0\n",
       "0 0 0 0 0 0 0 0\n",
       "0 0 0 0 0 0 0 0\n",
       "0 0 0 0 0 0 0 0\n",
       "</pre>"
      ]
     },
     "execution_count": 14,
     "metadata": {},
     "output_type": "execute_result"
    },
    {
     "data": {
      "text/html": [
       "<pre class=\"language-APL\">1 3 2 2 0 0 0 0\n",
       "2 5 4 3 0 0 0 0\n",
       "2 4 3 2 0 0 0 0\n",
       "1 2 2 1 0 0 0 0\n",
       "0 0 0 0 0 0 0 0\n",
       "0 0 0 0 0 0 0 0\n",
       "0 0 0 0 0 0 0 0\n",
       "0 0 0 0 0 0 0 0\n",
       "</pre>"
      ]
     },
     "execution_count": 14,
     "metadata": {},
     "output_type": "execute_result"
    },
    {
     "data": {
      "text/html": [
       "<pre class=\"language-APL\">┌───┬───┬───┬───┬───┬───┬───┬───┐\n",
       "│3 3│3 3│3 4│3 3│3 3│3 3│3 3│3 3│\n",
       "├───┼───┼───┼───┼───┼───┼───┼───┤\n",
       "│3 4│3 3│3 4│3 3│3 3│3 3│3 3│3 3│\n",
       "├───┼───┼───┼───┼───┼───┼───┼───┤\n",
       "│3 3│3 4│3 4│3 3│3 3│3 3│3 3│3 3│\n",
       "├───┼───┼───┼───┼───┼───┼───┼───┤\n",
       "│3 3│3 3│3 3│3 3│3 3│3 3│3 3│3 3│\n",
       "├───┼───┼───┼───┼───┼───┼───┼───┤\n",
       "│3 3│3 3│3 3│3 3│3 3│3 3│3 3│3 3│\n",
       "├───┼───┼───┼───┼───┼───┼───┼───┤\n",
       "│3 3│3 3│3 3│3 3│3 3│3 3│3 3│3 3│\n",
       "├───┼───┼───┼───┼───┼───┼───┼───┤\n",
       "│3 3│3 3│3 3│3 3│3 3│3 3│3 3│3 3│\n",
       "├───┼───┼───┼───┼───┼───┼───┼───┤\n",
       "│3 3│3 3│3 3│3 3│3 3│3 3│3 3│3 3│\n",
       "└───┴───┴───┴───┴───┴───┴───┴───┘\n",
       "</pre>"
      ]
     },
     "execution_count": 14,
     "metadata": {},
     "output_type": "execute_result"
    }
   ],
   "source": [
    "8 8↑3 3⍴0 0 1 1 0 1 0 1 1\n",
    "({≢⍸⍵}⌺3 3)8 8↑3 3⍴0 0 1 1 0 1 0 1 1\n",
    "(3+0,¨⊢)8 8↑3 3⍴0 0 1 1 0 1 0 1 1"
   ]
  }
 ],
 "metadata": {
  "kernelspec": {
   "display_name": "Dyalog APL",
   "language": "apl",
   "name": "dyalog-kernel"
  },
  "language_info": {
   "file_extension": ".apl",
   "mimetype": "text/apl",
   "name": "APL"
  }
 },
 "nbformat": 4,
 "nbformat_minor": 5
}
