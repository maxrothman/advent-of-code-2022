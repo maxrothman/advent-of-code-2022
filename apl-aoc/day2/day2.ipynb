{
 "cells": [
  {
   "cell_type": "code",
   "execution_count": 67,
   "id": "97802443",
   "metadata": {},
   "outputs": [
    {
     "data": {
      "text/html": [
       "<pre class=\"language-APL\">┌──┬──┬──┐\n",
       "│AY│BX│CZ│\n",
       "└──┴──┴──┘\n",
       "</pre>"
      ]
     },
     "execution_count": 67,
     "metadata": {},
     "output_type": "execute_result"
    }
   ],
   "source": [
    "⊢input←'AY' 'BX' 'CZ'"
   ]
  },
  {
   "cell_type": "code",
   "execution_count": 12,
   "id": "28362f69",
   "metadata": {},
   "outputs": [
    {
     "data": {
      "text/html": [
       "<pre class=\"language-APL\">1 ¯1 0 ¯2\n",
       "</pre>"
      ]
     },
     "execution_count": 12,
     "metadata": {},
     "output_type": "execute_result"
    }
   ],
   "source": [
    "⍝ I can turn letters into numbers using ⎕A and ⍳\n",
    "(⎕A⍳'BACA')-(⎕A⍳'ABCC')"
   ]
  },
  {
   "cell_type": "code",
   "execution_count": 42,
   "id": "5a486e86",
   "metadata": {},
   "outputs": [
    {
     "data": {
      "text/html": [
       "<pre class=\"language-APL\">1 25\n",
       "2 24\n",
       "3 26\n",
       "</pre>"
      ]
     },
     "execution_count": 42,
     "metadata": {},
     "output_type": "execute_result"
    }
   ],
   "source": [
    "⍝ Turn all letters into numbers, mix\n",
    "⎕A⍳↑input"
   ]
  },
  {
   "cell_type": "code",
   "execution_count": 40,
   "id": "a500c893",
   "metadata": {},
   "outputs": [
    {
     "data": {
      "text/html": [
       "<pre class=\"language-APL\">1 1 3\n",
       "4 4 6\n",
       "7 7 9\n",
       "</pre>"
      ]
     },
     "execution_count": 40,
     "metadata": {},
     "output_type": "execute_result"
    }
   ],
   "source": [
    "⍝ Can use @ to update part of matrix\n",
    "⍉-∘1@2⊢⍉3 3⍴⍳9"
   ]
  },
  {
   "cell_type": "code",
   "execution_count": 73,
   "id": "e1ce4bf3",
   "metadata": {},
   "outputs": [
    {
     "data": {
      "text/html": [
       "<pre class=\"language-APL\">1 2 3\n",
       "2 1 3\n",
       "</pre>"
      ]
     },
     "execution_count": 73,
     "metadata": {},
     "output_type": "execute_result"
    }
   ],
   "source": [
    "Turn X Y Z into A B C\n",
    "⊢parsed←(-∘23@2)⍉⎕A⍳↑input"
   ]
  },
  {
   "cell_type": "code",
   "execution_count": 76,
   "id": "7effca4a",
   "metadata": {},
   "outputs": [
    {
     "data": {
      "text/html": [
       "<pre class=\"language-APL\">¯1 1 0\n",
       "</pre>"
      ]
     },
     "execution_count": 76,
     "metadata": {},
     "output_type": "execute_result"
    }
   ],
   "source": [
    "⍝ negatives mean losses, positives mean wins\n",
    "-⌿parsed"
   ]
  },
  {
   "cell_type": "code",
   "execution_count": 77,
   "id": "15f8cf7b",
   "metadata": {},
   "outputs": [
    {
     "data": {
      "text/html": [
       "<pre class=\"language-APL\">¯1 1 0\n",
       "</pre>"
      ]
     },
     "execution_count": 77,
     "metadata": {},
     "output_type": "execute_result"
    },
    {
     "data": {
      "text/html": [
       "<pre class=\"language-APL\">6\n",
       "</pre>"
      ]
     },
     "execution_count": 77,
     "metadata": {},
     "output_type": "execute_result"
    }
   ],
   "source": [
    "⊢results←×-⌿parsed\n",
    "⊢winscore←+/6×1=results"
   ]
  },
  {
   "cell_type": "code",
   "execution_count": 66,
   "id": "1d47a4cb",
   "metadata": {},
   "outputs": [
    {
     "data": {
      "text/html": [
       "<pre class=\"language-APL\">3\n",
       "</pre>"
      ]
     },
     "execution_count": 66,
     "metadata": {},
     "output_type": "execute_result"
    }
   ],
   "source": [
    "⊢drawscore←+/3×0=results"
   ]
  },
  {
   "cell_type": "code",
   "execution_count": 82,
   "id": "7b2d4dcf",
   "metadata": {},
   "outputs": [
    {
     "data": {
      "text/html": [
       "<pre class=\"language-APL\">6\n",
       "</pre>"
      ]
     },
     "execution_count": 82,
     "metadata": {},
     "output_type": "execute_result"
    }
   ],
   "source": [
    "⊢choicescore←+/2⌷parsed"
   ]
  },
  {
   "cell_type": "code",
   "execution_count": 83,
   "id": "6d93d83f",
   "metadata": {},
   "outputs": [
    {
     "data": {
      "text/html": [
       "<pre class=\"language-APL\">15\n",
       "</pre>"
      ]
     },
     "execution_count": 83,
     "metadata": {},
     "output_type": "execute_result"
    }
   ],
   "source": [
    "+/winscore drawscore choicescore"
   ]
  },
  {
   "cell_type": "code",
   "execution_count": 112,
   "id": "dd32b777",
   "metadata": {},
   "outputs": [
    {
     "data": {
      "text/html": [
       "<pre class=\"language-APL\">15\n",
       "</pre>"
      ]
     },
     "execution_count": 112,
     "metadata": {},
     "output_type": "execute_result"
    }
   ],
   "source": [
    "part1←{parsed←(-∘23@2)⍉⎕A⍳↑⍵ ⋄ results←×-⌿parsed ⋄ winscore←+/6×1=results ⋄ drawscore←+/3×0=results ⋄ choicescore←+/2⌷parsed ⋄ +/winscore drawscore choicescore}\n",
    "part1 'AY' 'BX' 'CZ'"
   ]
  },
  {
   "cell_type": "code",
   "execution_count": 115,
   "id": "8fcf1ad9",
   "metadata": {},
   "outputs": [
    {
     "data": {
      "text/html": [
       "<pre class=\"language-APL\">25000\n",
       "</pre>"
      ]
     },
     "execution_count": 115,
     "metadata": {},
     "output_type": "execute_result"
    }
   ],
   "source": [
    "part1 ⊃⎕NGET'input.txt'1"
   ]
  },
  {
   "cell_type": "code",
   "execution_count": 116,
   "id": "851fafe1",
   "metadata": {},
   "outputs": [
    {
     "data": {
      "text/html": [
       "<pre class=\"language-APL\">11760\n",
       "</pre>"
      ]
     },
     "execution_count": 116,
     "metadata": {},
     "output_type": "execute_result"
    }
   ],
   "source": [
    "d ← ↑{3~⍨23|⎕A⍳⍵}¨⊃⎕NGET'input.txt'1\n",
    "(1+⊢/d) +.+ 3×3|1--/d"
   ]
  }
 ],
 "metadata": {
  "kernelspec": {
   "display_name": "Dyalog APL",
   "language": "apl",
   "name": "dyalog-kernel"
  },
  "language_info": {
   "file_extension": ".apl",
   "mimetype": "text/apl",
   "name": "APL"
  }
 },
 "nbformat": 4,
 "nbformat_minor": 5
}
