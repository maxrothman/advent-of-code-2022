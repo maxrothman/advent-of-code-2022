{
 "cells": [
  {
   "cell_type": "code",
   "execution_count": 53,
   "id": "3fb24564",
   "metadata": {},
   "outputs": [],
   "source": [
    "⎕IO←0"
   ]
  },
  {
   "cell_type": "code",
   "execution_count": 58,
   "id": "2cc79e47",
   "metadata": {},
   "outputs": [
    {
     "data": {
      "text/html": [
       "<pre class=\"language-APL\">┌─────────────┬─────────────┬─────────────┬─────────────┬─────────────┐\n",
       "│0 0 0 0 0 0 0│0 0 0 0 0 0 0│0 0 0 0 0 0 0│0 0 1 0 0 0 0│0 0 0 0 0 0 0│\n",
       "│0 0 0 0 0 0 0│0 0 0 1 0 0 0│0 0 0 0 1 0 0│0 0 1 0 0 0 0│0 0 0 0 0 0 0│\n",
       "│0 0 0 0 0 0 0│0 0 1 1 1 0 0│0 0 0 0 1 0 0│0 0 1 0 0 0 0│0 0 1 1 0 0 0│\n",
       "│0 0 1 1 1 1 0│0 0 0 1 0 0 0│0 0 1 1 1 0 0│0 0 1 0 0 0 0│0 0 1 1 0 0 0│\n",
       "│0 0 0 0 0 0 0│0 0 0 0 0 0 0│0 0 0 0 0 0 0│0 0 0 0 0 0 0│0 0 0 0 0 0 0│\n",
       "│0 0 0 0 0 0 0│0 0 0 0 0 0 0│0 0 0 0 0 0 0│0 0 0 0 0 0 0│0 0 0 0 0 0 0│\n",
       "│0 0 0 0 0 0 0│0 0 0 0 0 0 0│0 0 0 0 0 0 0│0 0 0 0 0 0 0│0 0 0 0 0 0 0│\n",
       "└─────────────┴─────────────┴─────────────┴─────────────┴─────────────┘\n",
       "</pre>"
      ]
     },
     "execution_count": 58,
     "metadata": {},
     "output_type": "execute_result"
    }
   ],
   "source": [
    "⊢shapes←{7 7↑¯2⌽⊖4 7↑⊖⍵}¨(1 4⍴1)(3 3⍴0 1 0 1 1 1 0 1 0)((2 3⍴0 0 1)⍪3⍴1)(⍪4⍴1)(2 2⍴1)"
   ]
  },
  {
   "cell_type": "code",
   "execution_count": 315,
   "id": "c2cdf63c",
   "metadata": {
    "scrolled": true
   },
   "outputs": [
    {
     "data": {
      "text/html": [
       "<pre class=\"language-APL\">&gt;v&gt;v&gt;v&lt;v&lt;v&gt;v&lt;v&gt;v&gt;v&lt;v&lt;v&lt;v&gt;v&gt;v&lt;v&gt;v&gt;v&gt;v&lt;v&lt;v&lt;v&gt;v&gt;v&gt;v&lt;v&lt;v&lt;v&gt;v&lt;v&lt;v&lt;v&gt;v&gt;v&lt;v&gt;v&gt;v&lt;v&lt;v&gt;v&gt;\n",
       "      v\n",
       "</pre>"
      ]
     },
     "execution_count": 315,
     "metadata": {},
     "output_type": "execute_result"
    }
   ],
   "source": [
    "⊢is←'v'(,,⍤0)⍨'>>><<><>><<<>><>>><<<>>><<<><<<>><>><<>>'"
   ]
  },
  {
   "cell_type": "code",
   "execution_count": 442,
   "id": "d766d3d0",
   "metadata": {},
   "outputs": [],
   "source": [
    "]dinput\n",
    "step←{\n",
    "    done shape is←⍵\n",
    "    world←⍺\n",
    "    ('>'≡⊃is) ∧ (~1∊¯1↑[1]shape) ∧ ~2∊world+¯1⌽shape: 0 (¯1⌽shape) (1⌽is)\n",
    "    ('<'≡⊃is) ∧ (~1∊ 1↑[1]shape) ∧ ~2∊world+ 1⌽shape: 0 ( 1⌽shape) (1⌽is)\n",
    "    ('v'≡⊃is) ∧ ( 1∊¯1↑[0]shape) ∨ 2∊world+¯1⊖shape:  1     shape  (1⌽is)\n",
    "    ('v'≡⊃is):                                        0 (¯1⊖shape) (1⌽is)\n",
    "    0 shape (1⌽is)\n",
    "}"
   ]
  },
  {
   "cell_type": "code",
   "execution_count": 372,
   "id": "0ef8470f",
   "metadata": {
    "scrolled": false
   },
   "outputs": [
    {
     "name": "stderr",
     "output_type": "stream",
     "text": [
      "RANK ERROR\n",
      "step[3] ('>'≡⊃is)∧~1∊¯1↑[1]shape:0(1⌽is)(¯1⌽shape)\n",
      "                       ∧\n",
      "RANK ERROR\n",
      "step[3] ('>'≡⊃is)∧~1∊¯1↑[1]shape:0(1⌽is)(¯1⌽shape)\n",
      "                       ∧\n"
     ]
    }
   ],
   "source": [
    "world←7 7⍴0\n",
    "_ is2 world2←{⊂world+⊃⍵}@2⊢world step⍣{1≡⊃⍺}0 is (0⊃shapes)\n",
    "world2←0⍪world2\n",
    "shape←(⍴world2)↑1⊃shapes\n",
    "2⊃{⊂world2+⊃⍵}@2⊢world2 step⍣{1≡⊃⍺}0 is2 shape\n",
    "⍝↑{2⊃{⊂world2+⊃⍵}@2⊢world2 step⍣⍵⊢0 is2 shape}¨⍳9\n",
    "⍝ Works!"
   ]
  },
  {
   "cell_type": "code",
   "execution_count": 440,
   "id": "88e41fb7",
   "metadata": {},
   "outputs": [],
   "source": [
    "]dinput\n",
    "drop←{\n",
    "    ss w0 is←⍵\n",
    "    dims←⍴w0⍪⊃ss\n",
    "    w1←(-dims)↑w0\n",
    "    s ←  dims ↑⊃ss\n",
    "    (⊂1⌽ss),{⊂{⍵⌿⍨∨/⍵}w1+⊃⍵}@0⊢1↓w1 step⍣{1≡⊃⍺}0 s is\n",
    "}"
   ]
  },
  {
   "cell_type": "code",
   "execution_count": 450,
   "id": "44e7fe89",
   "metadata": {},
   "outputs": [
    {
     "data": {
      "text/html": [
       "<pre class=\"language-APL\">3068 7\n",
       "</pre>"
      ]
     },
     "execution_count": 450,
     "metadata": {},
     "output_type": "execute_result"
    }
   ],
   "source": [
    "⍴'.#'[1⊃drop⍣2022⊢shapes (0 7⍴0) is]"
   ]
  },
  {
   "cell_type": "code",
   "execution_count": 453,
   "id": "ff863b9d",
   "metadata": {},
   "outputs": [],
   "source": [
    "is←'v'(,,⍤0)⍨⊃⊃⎕NGET'input.txt'1"
   ]
  },
  {
   "cell_type": "code",
   "execution_count": 455,
   "id": "167065ea",
   "metadata": {},
   "outputs": [
    {
     "data": {
      "text/html": [
       "<pre class=\"language-APL\">3173 7\n",
       "</pre>"
      ]
     },
     "execution_count": 455,
     "metadata": {},
     "output_type": "execute_result"
    }
   ],
   "source": [
    "⍴1⊃drop⍣2022⊢shapes (0 7⍴0) is\n",
    "⍝ Part 1"
   ]
  },
  {
   "cell_type": "code",
   "execution_count": 469,
   "id": "5c76c0ab",
   "metadata": {},
   "outputs": [
    {
     "name": "stderr",
     "output_type": "stream",
     "text": [
      "INTERRUPT"
     ]
    }
   ],
   "source": [
    "⍴1⊃drop⍣50460⊢shapes (0 7⍴0) is"
   ]
  },
  {
   "cell_type": "code",
   "execution_count": 468,
   "id": "c1f21aba",
   "metadata": {},
   "outputs": [
    {
     "data": {
      "text/html": [
       "<pre class=\"language-APL\">50460\n",
       "</pre>"
      ]
     },
     "execution_count": 468,
     "metadata": {},
     "output_type": "execute_result"
    }
   ],
   "source": [
    "5×⍴⊃⎕NGET'input.txt'"
   ]
  },
  {
   "cell_type": "code",
   "execution_count": null,
   "id": "dc655ee2",
   "metadata": {},
   "outputs": [],
   "source": [
    "⍝ Part 2: too big. Could remove all rows below full rows and keep a count?"
   ]
  },
  {
   "cell_type": "code",
   "execution_count": null,
   "id": "f6b3640a",
   "metadata": {},
   "outputs": [],
   "source": []
  },
  {
   "cell_type": "code",
   "execution_count": 433,
   "id": "dc8cb97a",
   "metadata": {},
   "outputs": [
    {
     "data": {
      "text/html": [
       "<pre class=\"language-APL\">0 0 0 1 0 0 0\n",
       "0 0 1 1 1 0 0\n",
       "0 0 0 1 0 0 0\n",
       "0 0 1 1 1 1 0\n",
       "</pre>"
      ]
     },
     "execution_count": 433,
     "metadata": {},
     "output_type": "execute_result"
    },
    {
     "name": "stderr",
     "output_type": "stream",
     "text": [
      "RANK ERROR\n",
      "      1 7⍴0~⍨ww\n",
      "           ∧\n"
     ]
    }
   ],
   "source": [
    "{⍵⌿⍨∨/⍵}ww"
   ]
  },
  {
   "cell_type": "code",
   "execution_count": 333,
   "id": "4ce066b1",
   "metadata": {},
   "outputs": [
    {
     "data": {
      "text/html": [
       "<pre class=\"language-APL\">¯3 ¯2\n",
       "</pre>"
      ]
     },
     "execution_count": 333,
     "metadata": {},
     "output_type": "execute_result"
    }
   ],
   "source": [
    "-(3 2)"
   ]
  },
  {
   "cell_type": "code",
   "execution_count": null,
   "id": "b55aba52",
   "metadata": {},
   "outputs": [],
   "source": []
  },
  {
   "cell_type": "code",
   "execution_count": null,
   "id": "e3783125",
   "metadata": {},
   "outputs": [],
   "source": []
  },
  {
   "cell_type": "code",
   "execution_count": null,
   "id": "0176ec41",
   "metadata": {},
   "outputs": [],
   "source": []
  },
  {
   "cell_type": "code",
   "execution_count": null,
   "id": "3f689e2e",
   "metadata": {},
   "outputs": [],
   "source": []
  },
  {
   "cell_type": "code",
   "execution_count": null,
   "id": "f3755059",
   "metadata": {},
   "outputs": [],
   "source": []
  },
  {
   "cell_type": "code",
   "execution_count": null,
   "id": "8dbf0a72",
   "metadata": {},
   "outputs": [],
   "source": []
  },
  {
   "cell_type": "code",
   "execution_count": 204,
   "id": "9511c245",
   "metadata": {},
   "outputs": [],
   "source": [
    "]dinput\n",
    "step←{\n",
    "    is shape←⍵\n",
    "    world←⍺\n",
    "    ⍝ mask←(⍴shape⍪world)↑shape\n",
    "    ('>'≡⊃is) ∧ ~1∊¯1↑[1]shape: (1⌽is) (¯1⌽shape)\n",
    "    ('<'≡⊃is) ∧ ~1∊ 1↑[1]shape: (1⌽is) ( 1⌽shape)\n",
    "    ('v'≡⊃is)                 : (1⌽is) (¯1⊖shape)\n",
    "    (1⌽is) shape\n",
    "}\n",
    "⍝ Simpler?\n",
    "⍝ This doesn't work. We need to try moving the thing down, and if doing so would cause a collision\n",
    "⍝ then *don't do that* and stop iterating. ⍣ can examine the previous and next results,\n",
    "⍝ but it always returns the *next* result where we want the action to not occur at all."
   ]
  },
  {
   "cell_type": "code",
   "execution_count": 245,
   "id": "eb8b4615",
   "metadata": {},
   "outputs": [
    {
     "data": {
      "text/html": [
       "<pre class=\"language-APL\">&gt;v&gt;v&gt;v&lt;v&lt;v&gt;v&lt;v&gt;v&gt;v&lt;v&lt;v&lt;v&gt;v&gt;v&lt;v&gt;v&gt;v&gt;v&lt;v&lt;v&lt;v&gt;v&gt;v&gt;v&lt;v&lt;v&lt;v&gt;v&lt;v&lt;v&lt;v&gt;v&gt;v&lt;v&gt;v&gt;v&lt;v&lt;v&gt;v&gt;\n",
       "      v\n",
       "</pre>"
      ]
     },
     "execution_count": 245,
     "metadata": {},
     "output_type": "execute_result"
    },
    {
     "data": {
      "text/html": [
       "<pre class=\"language-APL\">0 0 0 0 0 0 0\n",
       "0 0 0 0 0 0 0\n",
       "0 0 0 0 0 0 0\n",
       "0 0 0 0 0 0 0\n",
       "0 0 0 0 0 0 0\n",
       "0 0 0 0 0 0 0\n",
       "0 0 1 1 1 1 0\n",
       "</pre>"
      ]
     },
     "execution_count": 245,
     "metadata": {},
     "output_type": "execute_result"
    }
   ],
   "source": [
    "world←(7 7⍴0)\n",
    "is\n",
    "⊢world←world+1⊃world step⍣{(1∊¯1↑[0]1⊃⍵) ∨ 2∊world+¯1⊖1⊃⍺} is (⊃shapes)\n",
    "⍝{({1∊¯1↑[0]⍵} ∨ {2∊world+¯1⊖⍵}) 1⊃⍺}\n",
    "⍝{1⊃world step⍣⍵⊢is (⊃shapes)}¨⍳9"
   ]
  },
  {
   "cell_type": "code",
   "execution_count": 247,
   "id": "a30383f5",
   "metadata": {},
   "outputs": [
    {
     "data": {
      "text/html": [
       "<pre class=\"language-APL\">10\n",
       "</pre>"
      ]
     },
     "execution_count": 247,
     "metadata": {},
     "output_type": "execute_result"
    }
   ],
   "source": [
    "1∘+⍣{9≡⍵} 1"
   ]
  }
 ],
 "metadata": {
  "kernelspec": {
   "display_name": "Dyalog APL",
   "language": "apl",
   "name": "dyalog-kernel"
  },
  "language_info": {
   "file_extension": ".apl",
   "mimetype": "text/apl",
   "name": "APL"
  }
 },
 "nbformat": 4,
 "nbformat_minor": 5
}
