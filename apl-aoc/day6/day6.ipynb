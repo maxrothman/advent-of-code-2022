{
 "cells": [
  {
   "cell_type": "code",
   "execution_count": 11,
   "id": "7f1cba64",
   "metadata": {},
   "outputs": [],
   "source": [
    "⎕PW←5000"
   ]
  },
  {
   "cell_type": "markdown",
   "id": "1e1f3039",
   "metadata": {},
   "source": [
    "## Part one\n",
    "\n",
    "This problem is about detecting a sequence of characters in a larger string. One way to approach that is to look at characters in a sliding window. Luckily, we can get sliding windows through an operator we've seen before: reduce (/)!"
   ]
  },
  {
   "cell_type": "code",
   "execution_count": 20,
   "id": "675c11f2",
   "metadata": {},
   "outputs": [
    {
     "data": {
      "text/html": [
       "<pre class=\"language-APL\">mjqjpqmgbljsphdztnvjfqwrcgsmlb\n",
       "</pre>"
      ]
     },
     "execution_count": 20,
     "metadata": {},
     "output_type": "execute_result"
    },
    {
     "data": {
      "text/html": [
       "<pre class=\"language-APL\">┌────┬────┬────┬────┬────┬────┬────┬────┬────┬────┬────┬────┬────┬────┬────┬────┬────┬────┬────┬────┬────┬────┬────┬────┬────┬────┬────┐\n",
       "│mjqj│jqjp│qjpq│jpqm│pqmg│qmgb│mgbl│gblj│bljs│ljsp│jsph│sphd│phdz│hdzt│dztn│ztnv│tnvj│nvjf│vjfq│jfqw│fqwr│qwrc│wrcg│rcgs│cgsm│gsml│smlb│\n",
       "└────┴────┴────┴────┴────┴────┴────┴────┴────┴────┴────┴────┴────┴────┴────┴────┴────┴────┴────┴────┴────┴────┴────┴────┴────┴────┴────┘\n",
       "</pre>"
      ]
     },
     "execution_count": 20,
     "metadata": {},
     "output_type": "execute_result"
    }
   ],
   "source": [
    "⊢input←'mjqjpqmgbljsphdztnvjfqwrcgsmlb'\n",
    "4,/input"
   ]
  },
  {
   "cell_type": "markdown",
   "id": "d885fcf7",
   "metadata": {},
   "source": [
    "Let's break down what's happening here a little more. As we've seen before, reduce takes a function on the left and an array on the right, then it reduces the array using the operator:"
   ]
  },
  {
   "cell_type": "code",
   "execution_count": 15,
   "id": "1ebe23d5",
   "metadata": {},
   "outputs": [
    {
     "data": {
      "text/html": [
       "<pre class=\"language-APL\">6\n",
       "</pre>"
      ]
     },
     "execution_count": 15,
     "metadata": {},
     "output_type": "execute_result"
    },
    {
     "data": {
      "text/html": [
       "<pre class=\"language-APL\">6\n",
       "</pre>"
      ]
     },
     "execution_count": 15,
     "metadata": {},
     "output_type": "execute_result"
    }
   ],
   "source": [
    "+/1 2 3\n",
    "1+2+3"
   ]
  },
  {
   "cell_type": "markdown",
   "id": "d6a57661",
   "metadata": {},
   "source": [
    "Here, our function is \"concatenate\" (,), which joins arrays:"
   ]
  },
  {
   "cell_type": "code",
   "execution_count": 17,
   "id": "c3c9c433",
   "metadata": {},
   "outputs": [
    {
     "data": {
      "text/html": [
       "<pre class=\"language-APL\">1 2 3 4\n",
       "</pre>"
      ]
     },
     "execution_count": 17,
     "metadata": {},
     "output_type": "execute_result"
    }
   ],
   "source": [
    "1 2,3 4"
   ]
  },
  {
   "cell_type": "markdown",
   "id": "96406509",
   "metadata": {},
   "source": [
    "The final piece is that \"4\". How can reduce take it as a left argument when it's already taking concatenate? Well, it's time to finally examine the full APL operator specification.\n",
    "\n",
    "At most, a symbol can take right and left *function* arguments *and* right and left *data* arguments. If `x` is our operator, it looks like this:\n",
    "```\n",
    "⍺ ⍺⍺ x ⍵⍵ ⍵\n",
    "```\n",
    "where ⍺⍺ and ⍵⍵ are functions, and ⍺ and ⍵ are data.\n",
    "\n",
    "A good way to show this off is with a dfn. As you'd expect, it can access all four arguments:"
   ]
  },
  {
   "cell_type": "code",
   "execution_count": 57,
   "id": "77325158",
   "metadata": {},
   "outputs": [
    {
     "data": {
      "text/html": [
       "<pre class=\"language-APL\">6 3\n",
       "</pre>"
      ]
     },
     "execution_count": 57,
     "metadata": {},
     "output_type": "execute_result"
    }
   ],
   "source": [
    "x←{(⍺⍺/⍺),⍵⍵/⍵}\n",
    "1 2 3 +x- 4 3 2"
   ]
  },
  {
   "cell_type": "markdown",
   "id": "6135f003",
   "metadata": {},
   "source": [
    "While that dfn isn't useful per se, it's a good demonstration of how APL parses symbols. Most symbols don't accept all four arguments, but knowing how the parser reads symbols is useful.\n",
    "\n",
    "Returning to our problem, we now have a sliding window across the input:"
   ]
  },
  {
   "cell_type": "code",
   "execution_count": 58,
   "id": "0eb3c616",
   "metadata": {},
   "outputs": [
    {
     "data": {
      "text/html": [
       "<pre class=\"language-APL\">┌────┬────┬────┬────┬────┬────┬────┬────┬────┬────┬────┬────┬────┬────┬────┬────┬────┬────┬────┬────┬────┬────┬────┬────┬────┬────┬────┐\n",
       "│mjqj│jqjp│qjpq│jpqm│pqmg│qmgb│mgbl│gblj│bljs│ljsp│jsph│sphd│phdz│hdzt│dztn│ztnv│tnvj│nvjf│vjfq│jfqw│fqwr│qwrc│wrcg│rcgs│cgsm│gsml│smlb│\n",
       "└────┴────┴────┴────┴────┴────┴────┴────┴────┴────┴────┴────┴────┴────┴────┴────┴────┴────┴────┴────┴────┴────┴────┴────┴────┴────┴────┘\n",
       "</pre>"
      ]
     },
     "execution_count": 58,
     "metadata": {},
     "output_type": "execute_result"
    }
   ],
   "source": [
    "4,/input"
   ]
  },
  {
   "cell_type": "markdown",
   "id": "d05697fe",
   "metadata": {},
   "source": [
    "Next we need to look for duplicate letters in these. For that, we can use \"unique\" (monadic ∪), which removes duplicate elements from an array:"
   ]
  },
  {
   "cell_type": "code",
   "execution_count": 59,
   "id": "e69e040c",
   "metadata": {
    "scrolled": true
   },
   "outputs": [
    {
     "data": {
      "text/html": [
       "<pre class=\"language-APL\">┌───┬───┬───┬────┬────┬────┬────┬────┬────┬────┬────┬────┬────┬────┬────┬────┬────┬────┬────┬────┬────┬────┬────┬────┬────┬────┬────┐\n",
       "│mjq│jqp│qjp│jpqm│pqmg│qmgb│mgbl│gblj│bljs│ljsp│jsph│sphd│phdz│hdzt│dztn│ztnv│tnvj│nvjf│vjfq│jfqw│fqwr│qwrc│wrcg│rcgs│cgsm│gsml│smlb│\n",
       "└───┴───┴───┴────┴────┴────┴────┴────┴────┴────┴────┴────┴────┴────┴────┴────┴────┴────┴────┴────┴────┴────┴────┴────┴────┴────┴────┘\n",
       "</pre>"
      ]
     },
     "execution_count": 59,
     "metadata": {},
     "output_type": "execute_result"
    }
   ],
   "source": [
    "∪¨4,/input"
   ]
  },
  {
   "cell_type": "markdown",
   "id": "44d8f8c7",
   "metadata": {},
   "source": [
    "We can simplify this further by simply reducing with ∪. When used dyadically, it treats its left and right arguments like sets and unions them, skipping duplicates."
   ]
  },
  {
   "cell_type": "code",
   "execution_count": 68,
   "id": "a42e47b2",
   "metadata": {},
   "outputs": [
    {
     "data": {
      "text/html": [
       "<pre class=\"language-APL\">1 2 3 4 5\n",
       "</pre>"
      ]
     },
     "execution_count": 68,
     "metadata": {},
     "output_type": "execute_result"
    }
   ],
   "source": [
    "1 2 3∪3 4 5"
   ]
  },
  {
   "cell_type": "code",
   "execution_count": 66,
   "id": "be108192",
   "metadata": {},
   "outputs": [
    {
     "data": {
      "text/html": [
       "<pre class=\"language-APL\">┌───┬───┬───┬────┬────┬────┬────┬────┬────┬────┬────┬────┬────┬────┬────┬────┬────┬────┬────┬────┬────┬────┬────┬────┬────┬────┬────┐\n",
       "│mjq│jqp│qjp│jpqm│pqmg│qmgb│mgbl│gblj│bljs│ljsp│jsph│sphd│phdz│hdzt│dztn│ztnv│tnvj│nvjf│vjfq│jfqw│fqwr│qwrc│wrcg│rcgs│cgsm│gsml│smlb│\n",
       "└───┴───┴───┴────┴────┴────┴────┴────┴────┴────┴────┴────┴────┴────┴────┴────┴────┴────┴────┴────┴────┴────┴────┴────┴────┴────┴────┘\n",
       "</pre>"
      ]
     },
     "execution_count": 66,
     "metadata": {},
     "output_type": "execute_result"
    }
   ],
   "source": [
    "4∪/input"
   ]
  },
  {
   "cell_type": "markdown",
   "id": "55f54e15",
   "metadata": {},
   "source": [
    "Now we just need the first window that still has four elements:"
   ]
  },
  {
   "cell_type": "code",
   "execution_count": 70,
   "id": "af55e741",
   "metadata": {},
   "outputs": [
    {
     "data": {
      "text/html": [
       "<pre class=\"language-APL\">3 3 3 4 4 4 4 4 4 4 4 4 4 4 4 4 4 4 4 4 4 4 4 4 4 4 4\n",
       "</pre>"
      ]
     },
     "execution_count": 70,
     "metadata": {},
     "output_type": "execute_result"
    }
   ],
   "source": [
    "≢¨4∪/input"
   ]
  },
  {
   "cell_type": "markdown",
   "id": "f999076d",
   "metadata": {},
   "source": [
    "To find that element, we can use \"index of\" (dyadic ⍳). It takes a thing to look for on the right and an array to search in on the left, and returns the first index where it finds that thing (remember that APL starts array indexes at 1). Since our search array is already on the right, it's convenient to flip (⍨) ⍳."
   ]
  },
  {
   "cell_type": "code",
   "execution_count": 73,
   "id": "7333886b",
   "metadata": {},
   "outputs": [
    {
     "data": {
      "text/html": [
       "<pre class=\"language-APL\">3\n",
       "</pre>"
      ]
     },
     "execution_count": 73,
     "metadata": {},
     "output_type": "execute_result"
    },
    {
     "data": {
      "text/html": [
       "<pre class=\"language-APL\">4\n",
       "</pre>"
      ]
     },
     "execution_count": 73,
     "metadata": {},
     "output_type": "execute_result"
    }
   ],
   "source": [
    "1 2 3⍳3\n",
    "4⍳⍨≢¨4∪/input"
   ]
  },
  {
   "cell_type": "markdown",
   "id": "55176978",
   "metadata": {},
   "source": [
    "The first window contains characters 1-4, the second 2-5, the third 3-6, etc. Generally, to get the index (starting from 1) of the last character in a window, you do `(window size - 1) + index`."
   ]
  },
  {
   "cell_type": "code",
   "execution_count": 129,
   "id": "f0e163c9",
   "metadata": {},
   "outputs": [
    {
     "data": {
      "text/html": [
       "<pre class=\"language-APL\">7\n",
       "</pre>"
      ]
     },
     "execution_count": 129,
     "metadata": {},
     "output_type": "execute_result"
    }
   ],
   "source": [
    "3+4⍳⍨≢¨4∪/input"
   ]
  },
  {
   "cell_type": "markdown",
   "id": "271f58e2",
   "metadata": {},
   "source": [
    "## Part 2\n",
    "The only difference between parts one and two is the window size. Let's take this opportunity to factor the window size out and turn the solution into a dfn:"
   ]
  },
  {
   "cell_type": "code",
   "execution_count": 78,
   "id": "fae56a38",
   "metadata": {},
   "outputs": [
    {
     "data": {
      "text/html": [
       "<pre class=\"language-APL\">7\n",
       "</pre>"
      ]
     },
     "execution_count": 78,
     "metadata": {},
     "output_type": "execute_result"
    },
    {
     "data": {
      "text/html": [
       "<pre class=\"language-APL\">19\n",
       "</pre>"
      ]
     },
     "execution_count": 78,
     "metadata": {},
     "output_type": "execute_result"
    }
   ],
   "source": [
    "sol←{⍺+1-⍨⍺⍳⍨≢¨⍺∪/⍵}\n",
    "4 sol input\n",
    "14 sol input"
   ]
  },
  {
   "cell_type": "markdown",
   "id": "f38e64e3",
   "metadata": {},
   "source": [
    "We could even do both at the same time! Note that when one of the arguments of each (¨) is either a scalar or a length-1 array, it reuses it across all the inputs of the other argument. That's why we have to enclose (⊂) the input. (That's *rank-polymorphism* again!)"
   ]
  },
  {
   "cell_type": "code",
   "execution_count": 86,
   "id": "7f6d11a9",
   "metadata": {},
   "outputs": [
    {
     "data": {
      "text/html": [
       "<pre class=\"language-APL\">7 19\n",
       "</pre>"
      ]
     },
     "execution_count": 86,
     "metadata": {},
     "output_type": "execute_result"
    }
   ],
   "source": [
    "4 14sol¨⊂input"
   ]
  },
  {
   "cell_type": "markdown",
   "id": "f1b30196",
   "metadata": {},
   "source": [
    "We could even go a step further and test all of the test strings using an outer product!"
   ]
  },
  {
   "cell_type": "code",
   "execution_count": 87,
   "id": "b0e32371",
   "metadata": {},
   "outputs": [
    {
     "data": {
      "text/html": [
       "<pre class=\"language-APL\"> 7  5  6 10 11\n",
       "19 23 23 29 26\n",
       "</pre>"
      ]
     },
     "execution_count": 87,
     "metadata": {},
     "output_type": "execute_result"
    }
   ],
   "source": [
    "4 14 ∘.sol 'mjqjpqmgbljsphdztnvjfqwrcgsmlb' 'bvwbjplbgvbhsrlpgdmjqwftvncz' 'nppdvjthqldpwncqszvftbrmjlhg' 'nznrnfrfntjfmvfwmzdfjlvtqnbhcprsg' 'zcfzfwzzqfrljwzlrfnpqdbhtmscgvjw'"
   ]
  },
  {
   "cell_type": "markdown",
   "id": "52b2348f",
   "metadata": {},
   "source": [
    "## Digressions\n",
    "Today I also wanted to write a bit about some other ways of solving parts of this problem. The one provided above is certainly the most compact option, but there are some interesting ideas to examine in other approaches."
   ]
  },
  {
   "cell_type": "markdown",
   "id": "d748c6df",
   "metadata": {},
   "source": [
    "### Identifying the start marker\n",
    "Above, we used `⍺=≢¨` to find the first window with all unique characters. Another way to do that would've been to unique the window and then compare it to itself. In that case, rather than `4∪/⍵`, we'd want to preserve the original input and then ¨ over it."
   ]
  },
  {
   "cell_type": "code",
   "execution_count": 88,
   "id": "4a8518fd",
   "metadata": {},
   "outputs": [
    {
     "data": {
      "text/html": [
       "<pre class=\"language-APL\">┌────┬────┬────┬────┬────┬────┬────┬────┬────┬────┬────┬────┬────┬────┬────┬────┬────┬────┬────┬────┬────┬────┬────┬────┬────┬────┬────┐\n",
       "│mjqj│jqjp│qjpq│jpqm│pqmg│qmgb│mgbl│gblj│bljs│ljsp│jsph│sphd│phdz│hdzt│dztn│ztnv│tnvj│nvjf│vjfq│jfqw│fqwr│qwrc│wrcg│rcgs│cgsm│gsml│smlb│\n",
       "└────┴────┴────┴────┴────┴────┴────┴────┴────┴────┴────┴────┴────┴────┴────┴────┴────┴────┴────┴────┴────┴────┴────┴────┴────┴────┴────┘\n",
       "</pre>"
      ]
     },
     "execution_count": 88,
     "metadata": {},
     "output_type": "execute_result"
    },
    {
     "data": {
      "text/html": [
       "<pre class=\"language-APL\">┌───┬───┬───┬────┬────┬────┬────┬────┬────┬────┬────┬────┬────┬────┬────┬────┬────┬────┬────┬────┬────┬────┬────┬────┬────┬────┬────┐\n",
       "│mjq│jqp│qjp│jpqm│pqmg│qmgb│mgbl│gblj│bljs│ljsp│jsph│sphd│phdz│hdzt│dztn│ztnv│tnvj│nvjf│vjfq│jfqw│fqwr│qwrc│wrcg│rcgs│cgsm│gsml│smlb│\n",
       "└───┴───┴───┴────┴────┴────┴────┴────┴────┴────┴────┴────┴────┴────┴────┴────┴────┴────┴────┴────┴────┴────┴────┴────┴────┴────┴────┘\n",
       "</pre>"
      ]
     },
     "execution_count": 88,
     "metadata": {},
     "output_type": "execute_result"
    }
   ],
   "source": [
    "4,/input\n",
    "∪¨4,/input"
   ]
  },
  {
   "cell_type": "markdown",
   "id": "65c89fca",
   "metadata": {},
   "source": [
    "Then we can use a fork to unique each window and compare it to itself: Unlike = which compares arrays element-wise, ≡ (match) compares arrays in their entirety."
   ]
  },
  {
   "cell_type": "code",
   "execution_count": 95,
   "id": "7932ab4b",
   "metadata": {},
   "outputs": [
    {
     "data": {
      "text/html": [
       "<pre class=\"language-APL\">1 1 0\n",
       "</pre>"
      ]
     },
     "execution_count": 95,
     "metadata": {},
     "output_type": "execute_result"
    },
    {
     "data": {
      "text/html": [
       "<pre class=\"language-APL\">1\n",
       "</pre>"
      ]
     },
     "execution_count": 95,
     "metadata": {},
     "output_type": "execute_result"
    },
    {
     "data": {
      "text/html": [
       "<pre class=\"language-APL\">0 0 0 1 1 1 1 1 1 1 1 1 1 1 1 1 1 1 1 1 1 1 1 1 1 1 1\n",
       "</pre>"
      ]
     },
     "execution_count": 95,
     "metadata": {},
     "output_type": "execute_result"
    }
   ],
   "source": [
    "1 2 3 = 1 2 2\n",
    "1 2 3 ≡ 1 2 3\n",
    "(∪≡⊢)¨4,/input"
   ]
  },
  {
   "cell_type": "markdown",
   "id": "d483ce7b",
   "metadata": {},
   "source": [
    "Then like before, we could search for the first 1:"
   ]
  },
  {
   "cell_type": "code",
   "execution_count": 94,
   "id": "78de0238",
   "metadata": {},
   "outputs": [
    {
     "data": {
      "text/html": [
       "<pre class=\"language-APL\">4\n",
       "</pre>"
      ]
     },
     "execution_count": 94,
     "metadata": {},
     "output_type": "execute_result"
    }
   ],
   "source": [
    "1⍳⍨(∪≡⊢)¨4,/input"
   ]
  },
  {
   "cell_type": "markdown",
   "id": "8be5ff45",
   "metadata": {},
   "source": [
    "### Comparing arrays\n",
    "Let's imagine for a moment that ≡ didn't exist and we wanted to keep the above method for finding the start marker. In that case we could use ≢ (tally) and compare the array lengths instead:"
   ]
  },
  {
   "cell_type": "code",
   "execution_count": 99,
   "id": "39c3be60",
   "metadata": {},
   "outputs": [
    {
     "data": {
      "text/html": [
       "<pre class=\"language-APL\">0 0 0 1 1 1 1 1 1 1 1 1 1 1 1 1 1 1 1 1 1 1 1 1 1 1 1\n",
       "</pre>"
      ]
     },
     "execution_count": 99,
     "metadata": {},
     "output_type": "execute_result"
    }
   ],
   "source": [
    "(≢∘∪=≢)¨4,/input"
   ]
  },
  {
   "cell_type": "markdown",
   "id": "463361f2",
   "metadata": {},
   "source": [
    "Let's take a closer look at the pattern in that fork. We're applying the same function to both sides, and then combining them with another function. Essentially:\n",
    "```\n",
    "(g y) f (g x)\n",
    "```\n",
    "That's different from a fork, which is:\n",
    "```\n",
    "(f x) h (g x)\n",
    "```\n",
    "But it feels like there should be some way to factor this pattern out, right? Well, that's what ⍥ (over) is for! It's useful when you want to pass arguments through some kind of transformation before operating on them. Here's its full definition:\n",
    "```\n",
    "X f⍥g Y = (g x)f(g Y)\n",
    "```\n",
    "For example:"
   ]
  },
  {
   "cell_type": "code",
   "execution_count": 103,
   "id": "003e445c",
   "metadata": {},
   "outputs": [
    {
     "data": {
      "text/html": [
       "<pre class=\"language-APL\">3 3\n",
       "</pre>"
      ]
     },
     "execution_count": 103,
     "metadata": {},
     "output_type": "execute_result"
    }
   ],
   "source": [
    "1 2 3,⍥≢3 2 1"
   ]
  },
  {
   "cell_type": "markdown",
   "id": "23722019",
   "metadata": {},
   "source": [
    "In our case, we can combine ⍥ with a fork to unique the right, tally both, and compare equality. Here, `=⍥≢` is acting as the combining middle function in the fork."
   ]
  },
  {
   "cell_type": "code",
   "execution_count": 104,
   "id": "f56df95d",
   "metadata": {},
   "outputs": [
    {
     "data": {
      "text/html": [
       "<pre class=\"language-APL\">0 0 0 1 1 1 1 1 1 1 1 1 1 1 1 1 1 1 1 1 1 1 1 1 1 1 1\n",
       "</pre>"
      ]
     },
     "execution_count": 104,
     "metadata": {},
     "output_type": "execute_result"
    },
    {
     "data": {
      "text/html": [
       "<pre class=\"language-APL\">0 0 0 1 1 1 1 1 1 1 1 1 1 1 1 1 1 1 1 1 1 1 1 1 1 1 1\n",
       "</pre>"
      ]
     },
     "execution_count": 104,
     "metadata": {},
     "output_type": "execute_result"
    }
   ],
   "source": [
    "(≢∘∪=≢)¨4,/input\n",
    "(∪ =⍥≢ ⊢)¨4,/input"
   ]
  },
  {
   "cell_type": "markdown",
   "id": "b6d1cc4e",
   "metadata": {},
   "source": [
    "That's definitely a little hard to read the first time you look at it, so it might be helpful to look at how it's parsed:"
   ]
  },
  {
   "cell_type": "code",
   "execution_count": 105,
   "id": "6996467b",
   "metadata": {},
   "outputs": [
    {
     "data": {
      "text/html": [
       "<pre class=\"language-APL\"> ┌─┼─┐\n",
       " ∘ = ≢\n",
       "┌┴┐\n",
       "≢ ∪\n",
       "</pre>"
      ]
     },
     "execution_count": 105,
     "metadata": {},
     "output_type": "execute_result"
    },
    {
     "data": {
      "text/html": [
       "<pre class=\"language-APL\">┌─┼─┐\n",
       "∪ ⍥ ⊢\n",
       " ┌┴┐\n",
       " = ≢\n",
       "</pre>"
      ]
     },
     "execution_count": 105,
     "metadata": {},
     "output_type": "execute_result"
    }
   ],
   "source": [
    "(≢∘∪=≢)\n",
    "(∪ =⍥≢ ⊢)"
   ]
  },
  {
   "cell_type": "markdown",
   "id": "fcb5307c",
   "metadata": {},
   "source": [
    "Here's how the data flows through the code:\n",
    "```\n",
    "      ┌►∪──►≢─┐\n",
    "      │       ▼\n",
    "input─┤       =─►\n",
    "      │       ▲\n",
    "      └►⊢──►≢─┘\n",
    "```"
   ]
  },
  {
   "cell_type": "markdown",
   "id": "64fb0472",
   "metadata": {},
   "source": [
    "### Finding the index of the first matching window\n",
    "\n",
    "Let's say we're using one of the implementations that produces a binary array. For example:"
   ]
  },
  {
   "cell_type": "code",
   "execution_count": 117,
   "id": "8288f739",
   "metadata": {},
   "outputs": [
    {
     "data": {
      "text/html": [
       "<pre class=\"language-APL\">0 0 0 0 0 0 1 1 1 1 1 0 1 1 1 1 1 1 1 1 1 1 1 1 1 1 1 1 1 1\n",
       "</pre>"
      ]
     },
     "execution_count": 117,
     "metadata": {},
     "output_type": "execute_result"
    }
   ],
   "source": [
    "input2←'nznrnfrfntjfmvfwmzdfjlvtqnbhcprsg'\n",
    "(∪≡⊢)¨4,/input2"
   ]
  },
  {
   "cell_type": "markdown",
   "id": "4be2d5cf",
   "metadata": {},
   "source": [
    "In that case, there's another way to find the first matching window. Notice that if we negate the array, we get a contiguous stretch of 1s until the window is found. If you add that chunk of 1s up, you'll get its index - 4 (because there are 4 items in the first window)"
   ]
  },
  {
   "cell_type": "code",
   "execution_count": 120,
   "id": "1bd3c680",
   "metadata": {},
   "outputs": [
    {
     "data": {
      "text/html": [
       "<pre class=\"language-APL\">┌────┬────┬────┬────┬────┬────┬────┬────┬────┬────┬────┬────┬────┬────┬────┬────┬────┬────┬────┬────┬────┬────┬────┬────┬────┬────┬────┬────┬────┬────┐\n",
       "│nznr│znrn│nrnf│rnfr│nfrf│frfn│rfnt│fntj│ntjf│tjfm│jfmv│fmvf│mvfw│vfwm│fwmz│wmzd│mzdf│zdfj│dfjl│fjlv│jlvt│lvtq│vtqn│tqnb│qnbh│nbhc│bhcp│hcpr│cprs│prsg│\n",
       "└────┴────┴────┴────┴────┴────┴────┴────┴────┴────┴────┴────┴────┴────┴────┴────┴────┴────┴────┴────┴────┴────┴────┴────┴────┴────┴────┴────┴────┴────┘\n",
       "</pre>"
      ]
     },
     "execution_count": 120,
     "metadata": {},
     "output_type": "execute_result"
    },
    {
     "data": {
      "text/html": [
       "<pre class=\"language-APL\">1 1 1 1 1 1 0 0 0 0 0 1 0 0 0 0 0 0 0 0 0 0 0 0 0 0 0 0 0 0\n",
       "</pre>"
      ]
     },
     "execution_count": 120,
     "metadata": {},
     "output_type": "execute_result"
    }
   ],
   "source": [
    "4,/input2\n",
    "~(∪≡⊢)¨4,/input2"
   ]
  },
  {
   "cell_type": "markdown",
   "id": "34b43c25",
   "metadata": {},
   "source": [
    "If we can split the array up on 0s and take the first item, we'll have that stretch of 1s and can add it up. Partition (⊆) is the tool for the job again. One interesting thing this time is that we want to partition this array on itself! For that, we can use self/swap (⍨). When it's not given a left argument, it repeats the right argument on the left:"
   ]
  },
  {
   "cell_type": "code",
   "execution_count": 126,
   "id": "590f30a1",
   "metadata": {},
   "outputs": [
    {
     "data": {
      "text/html": [
       "<pre class=\"language-APL\">┌───────────┬─┐\n",
       "│1 1 1 1 1 1│1│\n",
       "└───────────┴─┘\n",
       "</pre>"
      ]
     },
     "execution_count": 126,
     "metadata": {},
     "output_type": "execute_result"
    },
    {
     "data": {
      "text/html": [
       "<pre class=\"language-APL\">┌───────────┬─┐\n",
       "│1 1 1 1 1 1│1│\n",
       "└───────────┴─┘\n",
       "</pre>"
      ]
     },
     "execution_count": 126,
     "metadata": {},
     "output_type": "execute_result"
    }
   ],
   "source": [
    "a←~(∪≡⊢)¨4,/input2\n",
    "a⊆a\n",
    "⍝ Is the same as\n",
    "⊆⍨a"
   ]
  },
  {
   "cell_type": "markdown",
   "id": "6726cd56",
   "metadata": {},
   "source": [
    "Now we can grab the first one with \"first\" (⊃) and add-reduce, and we've got our solution."
   ]
  },
  {
   "cell_type": "code",
   "execution_count": 128,
   "id": "99a796bd",
   "metadata": {},
   "outputs": [
    {
     "data": {
      "text/html": [
       "<pre class=\"language-APL\">10\n",
       "</pre>"
      ]
     },
     "execution_count": 128,
     "metadata": {},
     "output_type": "execute_result"
    }
   ],
   "source": [
    "4++/⊃⊆⍨~(∪≡⊢)¨4,/input2"
   ]
  }
 ],
 "metadata": {
  "kernelspec": {
   "display_name": "Dyalog APL",
   "language": "apl",
   "name": "dyalog-kernel"
  },
  "language_info": {
   "file_extension": ".apl",
   "mimetype": "text/apl",
   "name": "APL"
  }
 },
 "nbformat": 4,
 "nbformat_minor": 5
}
