{
 "cells": [
  {
   "cell_type": "code",
   "execution_count": 11,
   "id": "7f1cba64",
   "metadata": {},
   "outputs": [],
   "source": [
    "⎕PW←5000"
   ]
  },
  {
   "cell_type": "markdown",
   "id": "1e1f3039",
   "metadata": {},
   "source": [
    "## Part one\n",
    "\n",
    "This problem is about detecting a sequence of characters in a larger string. One way to approach that is to look at characters in a sliding window. Luckily, we can get sliding windows through an operator we've seen before: reduce (/)!"
   ]
  },
  {
   "cell_type": "code",
   "execution_count": 20,
   "id": "675c11f2",
   "metadata": {},
   "outputs": [
    {
     "data": {
      "text/html": [
       "<pre class=\"language-APL\">mjqjpqmgbljsphdztnvjfqwrcgsmlb\n",
       "</pre>"
      ]
     },
     "execution_count": 20,
     "metadata": {},
     "output_type": "execute_result"
    },
    {
     "data": {
      "text/html": [
       "<pre class=\"language-APL\">┌────┬────┬────┬────┬────┬────┬────┬────┬────┬────┬────┬────┬────┬────┬────┬────┬────┬────┬────┬────┬────┬────┬────┬────┬────┬────┬────┐\n",
       "│mjqj│jqjp│qjpq│jpqm│pqmg│qmgb│mgbl│gblj│bljs│ljsp│jsph│sphd│phdz│hdzt│dztn│ztnv│tnvj│nvjf│vjfq│jfqw│fqwr│qwrc│wrcg│rcgs│cgsm│gsml│smlb│\n",
       "└────┴────┴────┴────┴────┴────┴────┴────┴────┴────┴────┴────┴────┴────┴────┴────┴────┴────┴────┴────┴────┴────┴────┴────┴────┴────┴────┘\n",
       "</pre>"
      ]
     },
     "execution_count": 20,
     "metadata": {},
     "output_type": "execute_result"
    }
   ],
   "source": [
    "⊢input←'mjqjpqmgbljsphdztnvjfqwrcgsmlb'\n",
    "4,/input"
   ]
  },
  {
   "cell_type": "markdown",
   "id": "9cf59468",
   "metadata": {},
   "source": [
    "Let's break down what's happening here a little more. As we've seen before, reduce takes a function on the left and an array on the right, then it reduces the array using the operator:"
   ]
  },
  {
   "cell_type": "code",
   "execution_count": 15,
   "id": "15d36dc2",
   "metadata": {},
   "outputs": [
    {
     "data": {
      "text/html": [
       "<pre class=\"language-APL\">6\n",
       "</pre>"
      ]
     },
     "execution_count": 15,
     "metadata": {},
     "output_type": "execute_result"
    },
    {
     "data": {
      "text/html": [
       "<pre class=\"language-APL\">6\n",
       "</pre>"
      ]
     },
     "execution_count": 15,
     "metadata": {},
     "output_type": "execute_result"
    }
   ],
   "source": [
    "+/1 2 3\n",
    "1+2+3"
   ]
  },
  {
   "cell_type": "markdown",
   "id": "005947f6",
   "metadata": {},
   "source": [
    "Here, our function is \"concatenate\" (,), which joins arrays:"
   ]
  },
  {
   "cell_type": "code",
   "execution_count": 17,
   "id": "60c0b11b",
   "metadata": {},
   "outputs": [
    {
     "data": {
      "text/html": [
       "<pre class=\"language-APL\">1 2 3 4\n",
       "</pre>"
      ]
     },
     "execution_count": 17,
     "metadata": {},
     "output_type": "execute_result"
    }
   ],
   "source": [
    "1 2,3 4"
   ]
  },
  {
   "cell_type": "markdown",
   "id": "f02f4762",
   "metadata": {},
   "source": [
    "The final piece is that \"4\". How can reduce take it as a left argument when it's already taking concatenate? Well, it's time to finally examine the full APL operator specification.\n",
    "\n",
    "At most, a symbol can take right and left *function* arguments *and* right and left *data* arguments. If `x` is our operator, it looks like this:\n",
    "```\n",
    "⍺ ⍺⍺ x ⍵⍵ ⍵\n",
    "```\n",
    "where ⍺⍺ and ⍵⍵ are functions, and ⍺ and ⍵ are data.\n",
    "\n",
    "A good way to show this off is with a dfn. As you'd expect, it can access all four arguments:"
   ]
  },
  {
   "cell_type": "code",
   "execution_count": 57,
   "id": "c114b46c",
   "metadata": {},
   "outputs": [
    {
     "data": {
      "text/html": [
       "<pre class=\"language-APL\">6 3\n",
       "</pre>"
      ]
     },
     "execution_count": 57,
     "metadata": {},
     "output_type": "execute_result"
    }
   ],
   "source": [
    "x←{(⍺⍺/⍺),⍵⍵/⍵}\n",
    "1 2 3 +x- 4 3 2"
   ]
  },
  {
   "cell_type": "markdown",
   "id": "44c719a6",
   "metadata": {},
   "source": [
    "While that dfn isn't useful per se, it's a good demonstration of how APL parses symbols. Most symbols don't accept all four arguments, but knowing how the parser reads symbols is useful.\n",
    "\n",
    "Returning to our problem, we now have a sliding window across the input:"
   ]
  },
  {
   "cell_type": "code",
   "execution_count": 58,
   "id": "7300ac22",
   "metadata": {},
   "outputs": [
    {
     "data": {
      "text/html": [
       "<pre class=\"language-APL\">┌────┬────┬────┬────┬────┬────┬────┬────┬────┬────┬────┬────┬────┬────┬────┬────┬────┬────┬────┬────┬────┬────┬────┬────┬────┬────┬────┐\n",
       "│mjqj│jqjp│qjpq│jpqm│pqmg│qmgb│mgbl│gblj│bljs│ljsp│jsph│sphd│phdz│hdzt│dztn│ztnv│tnvj│nvjf│vjfq│jfqw│fqwr│qwrc│wrcg│rcgs│cgsm│gsml│smlb│\n",
       "└────┴────┴────┴────┴────┴────┴────┴────┴────┴────┴────┴────┴────┴────┴────┴────┴────┴────┴────┴────┴────┴────┴────┴────┴────┴────┴────┘\n",
       "</pre>"
      ]
     },
     "execution_count": 58,
     "metadata": {},
     "output_type": "execute_result"
    }
   ],
   "source": [
    "4,/input"
   ]
  },
  {
   "cell_type": "markdown",
   "id": "e9501ece",
   "metadata": {},
   "source": [
    "Next we need to look for duplicate letters in these. For that, we can use \"unique\" (monadic ∪), which removes duplicate elements from an array:"
   ]
  },
  {
   "cell_type": "code",
   "execution_count": 59,
   "id": "a6c4d4d5",
   "metadata": {
    "scrolled": true
   },
   "outputs": [
    {
     "data": {
      "text/html": [
       "<pre class=\"language-APL\">┌───┬───┬───┬────┬────┬────┬────┬────┬────┬────┬────┬────┬────┬────┬────┬────┬────┬────┬────┬────┬────┬────┬────┬────┬────┬────┬────┐\n",
       "│mjq│jqp│qjp│jpqm│pqmg│qmgb│mgbl│gblj│bljs│ljsp│jsph│sphd│phdz│hdzt│dztn│ztnv│tnvj│nvjf│vjfq│jfqw│fqwr│qwrc│wrcg│rcgs│cgsm│gsml│smlb│\n",
       "└───┴───┴───┴────┴────┴────┴────┴────┴────┴────┴────┴────┴────┴────┴────┴────┴────┴────┴────┴────┴────┴────┴────┴────┴────┴────┴────┘\n",
       "</pre>"
      ]
     },
     "execution_count": 59,
     "metadata": {},
     "output_type": "execute_result"
    }
   ],
   "source": [
    "∪¨4,/input"
   ]
  },
  {
   "cell_type": "markdown",
   "id": "c8c8404d",
   "metadata": {},
   "source": [
    "We can simplify this further by simply reducing with ∪. When used dyadically, it treats its left and right arguments like sets and unions them, skipping duplicates."
   ]
  },
  {
   "cell_type": "code",
   "execution_count": 68,
   "id": "810a40f6",
   "metadata": {},
   "outputs": [
    {
     "data": {
      "text/html": [
       "<pre class=\"language-APL\">1 2 3 4 5\n",
       "</pre>"
      ]
     },
     "execution_count": 68,
     "metadata": {},
     "output_type": "execute_result"
    }
   ],
   "source": [
    "1 2 3∪3 4 5"
   ]
  },
  {
   "cell_type": "code",
   "execution_count": 66,
   "id": "bfd49870",
   "metadata": {},
   "outputs": [
    {
     "data": {
      "text/html": [
       "<pre class=\"language-APL\">┌───┬───┬───┬────┬────┬────┬────┬────┬────┬────┬────┬────┬────┬────┬────┬────┬────┬────┬────┬────┬────┬────┬────┬────┬────┬────┬────┐\n",
       "│mjq│jqp│qjp│jpqm│pqmg│qmgb│mgbl│gblj│bljs│ljsp│jsph│sphd│phdz│hdzt│dztn│ztnv│tnvj│nvjf│vjfq│jfqw│fqwr│qwrc│wrcg│rcgs│cgsm│gsml│smlb│\n",
       "└───┴───┴───┴────┴────┴────┴────┴────┴────┴────┴────┴────┴────┴────┴────┴────┴────┴────┴────┴────┴────┴────┴────┴────┴────┴────┴────┘\n",
       "</pre>"
      ]
     },
     "execution_count": 66,
     "metadata": {},
     "output_type": "execute_result"
    }
   ],
   "source": [
    "4∪/input"
   ]
  },
  {
   "cell_type": "markdown",
   "id": "a1aa8746",
   "metadata": {},
   "source": [
    "Now we just need the first window that still has four elements:"
   ]
  },
  {
   "cell_type": "code",
   "execution_count": 70,
   "id": "ae971bb0",
   "metadata": {},
   "outputs": [
    {
     "data": {
      "text/html": [
       "<pre class=\"language-APL\">3 3 3 4 4 4 4 4 4 4 4 4 4 4 4 4 4 4 4 4 4 4 4 4 4 4 4\n",
       "</pre>"
      ]
     },
     "execution_count": 70,
     "metadata": {},
     "output_type": "execute_result"
    }
   ],
   "source": [
    "≢¨4∪/input"
   ]
  },
  {
   "cell_type": "markdown",
   "id": "8e077b8d",
   "metadata": {},
   "source": [
    "To find that element, we can use \"index of\" (dyadic ⍳). It takes a thing to look for on the right and an array to search in on the left, and returns the first index where it finds that thing (remember that APL starts array indexes at 1). Since our search array is already on the right, it's convenient to flip (⍨) ⍳."
   ]
  },
  {
   "cell_type": "code",
   "execution_count": 73,
   "id": "b02c5feb",
   "metadata": {},
   "outputs": [
    {
     "data": {
      "text/html": [
       "<pre class=\"language-APL\">3\n",
       "</pre>"
      ]
     },
     "execution_count": 73,
     "metadata": {},
     "output_type": "execute_result"
    },
    {
     "data": {
      "text/html": [
       "<pre class=\"language-APL\">4\n",
       "</pre>"
      ]
     },
     "execution_count": 73,
     "metadata": {},
     "output_type": "execute_result"
    }
   ],
   "source": [
    "1 2 3⍳3\n",
    "4⍳⍨≢¨4∪/input"
   ]
  },
  {
   "cell_type": "markdown",
   "id": "cb4e1115",
   "metadata": {},
   "source": [
    "The first window contains characters 1-4, the second 2-5, the third 3-6, etc. Generally, to get the index (starting from 1) of the last character in a window, you do `(window size - 1) + index`."
   ]
  },
  {
   "cell_type": "code",
   "execution_count": 129,
   "id": "d677aeb1",
   "metadata": {},
   "outputs": [
    {
     "data": {
      "text/html": [
       "<pre class=\"language-APL\">7\n",
       "</pre>"
      ]
     },
     "execution_count": 129,
     "metadata": {},
     "output_type": "execute_result"
    }
   ],
   "source": [
    "3+4⍳⍨≢¨4∪/input"
   ]
  },
  {
   "cell_type": "markdown",
   "id": "91a53449",
   "metadata": {},
   "source": [
    "## Part 2\n",
    "The only difference between parts one and two is the window size. Let's take this opportunity to factor the window size out and turn the solution into a dfn:"
   ]
  },
  {
   "cell_type": "code",
   "execution_count": 78,
   "id": "94b85528",
   "metadata": {},
   "outputs": [
    {
     "data": {
      "text/html": [
       "<pre class=\"language-APL\">7\n",
       "</pre>"
      ]
     },
     "execution_count": 78,
     "metadata": {},
     "output_type": "execute_result"
    },
    {
     "data": {
      "text/html": [
       "<pre class=\"language-APL\">19\n",
       "</pre>"
      ]
     },
     "execution_count": 78,
     "metadata": {},
     "output_type": "execute_result"
    }
   ],
   "source": [
    "sol←{⍺+1-⍨⍺⍳⍨≢¨⍺∪/⍵}\n",
    "4 sol input\n",
    "14 sol input"
   ]
  },
  {
   "cell_type": "markdown",
   "id": "114b7949",
   "metadata": {},
   "source": [
    "We could even do both at the same time and try all the examples simultaneously! Note that when one of the arguments of each (¨) is either a scalar or a length-1 array, it reuses it across all the inputs of the other argument. That's why we have to enclose (⊂) the input. (That's *rank-polymorphism* again!)"
   ]
  },
  {
   "cell_type": "code",
   "execution_count": 86,
   "id": "be62fec9",
   "metadata": {},
   "outputs": [
    {
     "data": {
      "text/html": [
       "<pre class=\"language-APL\">7 19\n",
       "</pre>"
      ]
     },
     "execution_count": 86,
     "metadata": {},
     "output_type": "execute_result"
    }
   ],
   "source": [
    "4 14sol¨⊂input"
   ]
  },
  {
   "cell_type": "markdown",
   "id": "4019396c",
   "metadata": {},
   "source": [
    "We could even go a step further and test all of the test strings using an outer product!"
   ]
  },
  {
   "cell_type": "code",
   "execution_count": 87,
   "id": "f9d8eea8",
   "metadata": {},
   "outputs": [
    {
     "data": {
      "text/html": [
       "<pre class=\"language-APL\"> 7  5  6 10 11\n",
       "19 23 23 29 26\n",
       "</pre>"
      ]
     },
     "execution_count": 87,
     "metadata": {},
     "output_type": "execute_result"
    }
   ],
   "source": [
    "4 14 ∘.sol 'mjqjpqmgbljsphdztnvjfqwrcgsmlb' 'bvwbjplbgvbhsrlpgdmjqwftvncz' 'nppdvjthqldpwncqszvftbrmjlhg' 'nznrnfrfntjfmvfwmzdfjlvtqnbhcprsg' 'zcfzfwzzqfrljwzlrfnpqdbhtmscgvjw'"
   ]
  },
  {
   "cell_type": "markdown",
   "id": "5bff53c8",
   "metadata": {},
   "source": [
    "## Digressions\n",
    "Today I also wanted to write a bit about some other ways of solving parts of this problem. The one provided above is certainly the most compact option, but there are some interesting ideas to examine in other approaches."
   ]
  },
  {
   "cell_type": "markdown",
   "id": "398b570a",
   "metadata": {},
   "source": [
    "### Identifying the start marker\n",
    "Above, we used `⍺=≢¨` to find the first window with all unique characters. Another way to do that would've been to unique the window and then compare it to itself. In that case, rather than `4∪/⍵`, we'd want to preserve the original input and then ¨ over it."
   ]
  },
  {
   "cell_type": "code",
   "execution_count": 88,
   "id": "b0bc60db",
   "metadata": {},
   "outputs": [
    {
     "data": {
      "text/html": [
       "<pre class=\"language-APL\">┌────┬────┬────┬────┬────┬────┬────┬────┬────┬────┬────┬────┬────┬────┬────┬────┬────┬────┬────┬────┬────┬────┬────┬────┬────┬────┬────┐\n",
       "│mjqj│jqjp│qjpq│jpqm│pqmg│qmgb│mgbl│gblj│bljs│ljsp│jsph│sphd│phdz│hdzt│dztn│ztnv│tnvj│nvjf│vjfq│jfqw│fqwr│qwrc│wrcg│rcgs│cgsm│gsml│smlb│\n",
       "└────┴────┴────┴────┴────┴────┴────┴────┴────┴────┴────┴────┴────┴────┴────┴────┴────┴────┴────┴────┴────┴────┴────┴────┴────┴────┴────┘\n",
       "</pre>"
      ]
     },
     "execution_count": 88,
     "metadata": {},
     "output_type": "execute_result"
    },
    {
     "data": {
      "text/html": [
       "<pre class=\"language-APL\">┌───┬───┬───┬────┬────┬────┬────┬────┬────┬────┬────┬────┬────┬────┬────┬────┬────┬────┬────┬────┬────┬────┬────┬────┬────┬────┬────┐\n",
       "│mjq│jqp│qjp│jpqm│pqmg│qmgb│mgbl│gblj│bljs│ljsp│jsph│sphd│phdz│hdzt│dztn│ztnv│tnvj│nvjf│vjfq│jfqw│fqwr│qwrc│wrcg│rcgs│cgsm│gsml│smlb│\n",
       "└───┴───┴───┴────┴────┴────┴────┴────┴────┴────┴────┴────┴────┴────┴────┴────┴────┴────┴────┴────┴────┴────┴────┴────┴────┴────┴────┘\n",
       "</pre>"
      ]
     },
     "execution_count": 88,
     "metadata": {},
     "output_type": "execute_result"
    }
   ],
   "source": [
    "4,/input\n",
    "∪¨4,/input"
   ]
  },
  {
   "cell_type": "markdown",
   "id": "b14d2adc",
   "metadata": {},
   "source": [
    "Then we can use a fork to unique each window and compare it to itself: Unlike = which compares arrays element-wise, ≡ (match) compares arrays in their entirety."
   ]
  },
  {
   "cell_type": "code",
   "execution_count": 95,
   "id": "32410591",
   "metadata": {},
   "outputs": [
    {
     "data": {
      "text/html": [
       "<pre class=\"language-APL\">1 1 0\n",
       "</pre>"
      ]
     },
     "execution_count": 95,
     "metadata": {},
     "output_type": "execute_result"
    },
    {
     "data": {
      "text/html": [
       "<pre class=\"language-APL\">1\n",
       "</pre>"
      ]
     },
     "execution_count": 95,
     "metadata": {},
     "output_type": "execute_result"
    },
    {
     "data": {
      "text/html": [
       "<pre class=\"language-APL\">0 0 0 1 1 1 1 1 1 1 1 1 1 1 1 1 1 1 1 1 1 1 1 1 1 1 1\n",
       "</pre>"
      ]
     },
     "execution_count": 95,
     "metadata": {},
     "output_type": "execute_result"
    }
   ],
   "source": [
    "1 2 3 = 1 2 2\n",
    "1 2 3 ≡ 1 2 3\n",
    "(∪≡⊢)¨4,/input"
   ]
  },
  {
   "cell_type": "markdown",
   "id": "79135363",
   "metadata": {},
   "source": [
    "Then like before, we could search for the first 1:"
   ]
  },
  {
   "cell_type": "code",
   "execution_count": 94,
   "id": "6b66819d",
   "metadata": {},
   "outputs": [
    {
     "data": {
      "text/html": [
       "<pre class=\"language-APL\">4\n",
       "</pre>"
      ]
     },
     "execution_count": 94,
     "metadata": {},
     "output_type": "execute_result"
    }
   ],
   "source": [
    "1⍳⍨(∪≡⊢)¨4,/input"
   ]
  },
  {
   "cell_type": "markdown",
   "id": "37357bef",
   "metadata": {},
   "source": [
    "### Comparing arrays\n",
    "Let's imagine for a moment that ≡ didn't exist and we wanted to keep the above method for finding the start marker. In that case we could use ≢ (tally) and compare the array lengths instead:"
   ]
  },
  {
   "cell_type": "code",
   "execution_count": 99,
   "id": "c1074554",
   "metadata": {},
   "outputs": [
    {
     "data": {
      "text/html": [
       "<pre class=\"language-APL\">0 0 0 1 1 1 1 1 1 1 1 1 1 1 1 1 1 1 1 1 1 1 1 1 1 1 1\n",
       "</pre>"
      ]
     },
     "execution_count": 99,
     "metadata": {},
     "output_type": "execute_result"
    }
   ],
   "source": [
    "(≢∘∪=≢)¨4,/input"
   ]
  },
  {
   "cell_type": "markdown",
   "id": "a13014ef",
   "metadata": {},
   "source": [
    "Let's take a closer look at the pattern in that fork. We're applying the same function to both sides, and then combining them with another function. Essentially:\n",
    "```\n",
    "(g y) f (g x)\n",
    "```\n",
    "That's different from a fork, which is:\n",
    "```\n",
    "(f x) h (g x)\n",
    "```\n",
    "But it feels like there should be some way to factor this pattern out, right? Well, that's what ⍥ (over) is for! It's useful when you want to pass arguments through some kind of transformation before operating on them. Here's its full definition:\n",
    "```\n",
    "X f⍥g Y = (g x)f(g Y)\n",
    "```\n",
    "For example:"
   ]
  },
  {
   "cell_type": "code",
   "execution_count": 103,
   "id": "6de6c9e3",
   "metadata": {},
   "outputs": [
    {
     "data": {
      "text/html": [
       "<pre class=\"language-APL\">3 3\n",
       "</pre>"
      ]
     },
     "execution_count": 103,
     "metadata": {},
     "output_type": "execute_result"
    }
   ],
   "source": [
    "1 2 3,⍥≢3 2 1"
   ]
  },
  {
   "cell_type": "markdown",
   "id": "7b701164",
   "metadata": {},
   "source": [
    "In our case, we can combine ⍥ with a fork to unique the right, tally both, and compare equality. Here, `=⍥≢` is acting as the combining middle function in the fork."
   ]
  },
  {
   "cell_type": "code",
   "execution_count": 104,
   "id": "6e994478",
   "metadata": {},
   "outputs": [
    {
     "data": {
      "text/html": [
       "<pre class=\"language-APL\">0 0 0 1 1 1 1 1 1 1 1 1 1 1 1 1 1 1 1 1 1 1 1 1 1 1 1\n",
       "</pre>"
      ]
     },
     "execution_count": 104,
     "metadata": {},
     "output_type": "execute_result"
    },
    {
     "data": {
      "text/html": [
       "<pre class=\"language-APL\">0 0 0 1 1 1 1 1 1 1 1 1 1 1 1 1 1 1 1 1 1 1 1 1 1 1 1\n",
       "</pre>"
      ]
     },
     "execution_count": 104,
     "metadata": {},
     "output_type": "execute_result"
    }
   ],
   "source": [
    "(≢∘∪=≢)¨4,/input\n",
    "(∪ =⍥≢ ⊢)¨4,/input"
   ]
  },
  {
   "cell_type": "markdown",
   "id": "362fe996",
   "metadata": {},
   "source": [
    "That's definitely a little hard to read the first time you look at it, so it might be helpful to look at how it's parsed:"
   ]
  },
  {
   "cell_type": "code",
   "execution_count": 105,
   "id": "d81418aa",
   "metadata": {},
   "outputs": [
    {
     "data": {
      "text/html": [
       "<pre class=\"language-APL\"> ┌─┼─┐\n",
       " ∘ = ≢\n",
       "┌┴┐\n",
       "≢ ∪\n",
       "</pre>"
      ]
     },
     "execution_count": 105,
     "metadata": {},
     "output_type": "execute_result"
    },
    {
     "data": {
      "text/html": [
       "<pre class=\"language-APL\">┌─┼─┐\n",
       "∪ ⍥ ⊢\n",
       " ┌┴┐\n",
       " = ≢\n",
       "</pre>"
      ]
     },
     "execution_count": 105,
     "metadata": {},
     "output_type": "execute_result"
    }
   ],
   "source": [
    "(≢∘∪=≢)\n",
    "(∪ =⍥≢ ⊢)"
   ]
  },
  {
   "cell_type": "markdown",
   "id": "a83b71b1",
   "metadata": {},
   "source": [
    "Here's how the data flows through the code:\n",
    "```\n",
    "      ┌►∪──►≢─┐\n",
    "      │       ▼\n",
    "input─┤       =─►\n",
    "      │       ▲\n",
    "      └►⊢──►≢─┘\n",
    "```"
   ]
  },
  {
   "cell_type": "markdown",
   "id": "3f43f56c",
   "metadata": {},
   "source": [
    "### Finding the index of the first matching window\n",
    "\n",
    "Let's say we're using one of the implementations that produces a binary array. For example:"
   ]
  },
  {
   "cell_type": "code",
   "execution_count": 117,
   "id": "dc9b6c46",
   "metadata": {},
   "outputs": [
    {
     "data": {
      "text/html": [
       "<pre class=\"language-APL\">0 0 0 0 0 0 1 1 1 1 1 0 1 1 1 1 1 1 1 1 1 1 1 1 1 1 1 1 1 1\n",
       "</pre>"
      ]
     },
     "execution_count": 117,
     "metadata": {},
     "output_type": "execute_result"
    }
   ],
   "source": [
    "input2←'nznrnfrfntjfmvfwmzdfjlvtqnbhcprsg'\n",
    "(∪≡⊢)¨4,/input2"
   ]
  },
  {
   "cell_type": "markdown",
   "id": "e2577a1c",
   "metadata": {},
   "source": [
    "In that case, there's another way to find the first matching window. Notice that if we negate the array, we get a contiguous stretch of 1s until the window is found. If you add that chunk of 1s up, you'll get its index - 4 (because there are 4 items in the first window)"
   ]
  },
  {
   "cell_type": "code",
   "execution_count": 120,
   "id": "242ee543",
   "metadata": {},
   "outputs": [
    {
     "data": {
      "text/html": [
       "<pre class=\"language-APL\">┌────┬────┬────┬────┬────┬────┬────┬────┬────┬────┬────┬────┬────┬────┬────┬────┬────┬────┬────┬────┬────┬────┬────┬────┬────┬────┬────┬────┬────┬────┐\n",
       "│nznr│znrn│nrnf│rnfr│nfrf│frfn│rfnt│fntj│ntjf│tjfm│jfmv│fmvf│mvfw│vfwm│fwmz│wmzd│mzdf│zdfj│dfjl│fjlv│jlvt│lvtq│vtqn│tqnb│qnbh│nbhc│bhcp│hcpr│cprs│prsg│\n",
       "└────┴────┴────┴────┴────┴────┴────┴────┴────┴────┴────┴────┴────┴────┴────┴────┴────┴────┴────┴────┴────┴────┴────┴────┴────┴────┴────┴────┴────┴────┘\n",
       "</pre>"
      ]
     },
     "execution_count": 120,
     "metadata": {},
     "output_type": "execute_result"
    },
    {
     "data": {
      "text/html": [
       "<pre class=\"language-APL\">1 1 1 1 1 1 0 0 0 0 0 1 0 0 0 0 0 0 0 0 0 0 0 0 0 0 0 0 0 0\n",
       "</pre>"
      ]
     },
     "execution_count": 120,
     "metadata": {},
     "output_type": "execute_result"
    }
   ],
   "source": [
    "4,/input2\n",
    "~(∪≡⊢)¨4,/input2"
   ]
  },
  {
   "cell_type": "markdown",
   "id": "29fb8d91",
   "metadata": {},
   "source": [
    "If we can split the array up on 0s and take the first item, we'll have that stretch of 1s and can add it up. Partition (⊆) is the tool for the job again. One interesting thing this time is that we want to partition this array on itself! For that, we can use self/swap (⍨). When it's not given a left argument, it repeats the right argument on the left:"
   ]
  },
  {
   "cell_type": "code",
   "execution_count": 126,
   "id": "e6a65f60",
   "metadata": {},
   "outputs": [
    {
     "data": {
      "text/html": [
       "<pre class=\"language-APL\">┌───────────┬─┐\n",
       "│1 1 1 1 1 1│1│\n",
       "└───────────┴─┘\n",
       "</pre>"
      ]
     },
     "execution_count": 126,
     "metadata": {},
     "output_type": "execute_result"
    },
    {
     "data": {
      "text/html": [
       "<pre class=\"language-APL\">┌───────────┬─┐\n",
       "│1 1 1 1 1 1│1│\n",
       "└───────────┴─┘\n",
       "</pre>"
      ]
     },
     "execution_count": 126,
     "metadata": {},
     "output_type": "execute_result"
    }
   ],
   "source": [
    "a←~(∪≡⊢)¨4,/input2\n",
    "a⊆a\n",
    "⍝ Is the same as\n",
    "⊆⍨a"
   ]
  },
  {
   "cell_type": "markdown",
   "id": "52137dd9",
   "metadata": {},
   "source": [
    "Now we can grab the first one with \"first\" (⊃) and add-reduce, and we've got our solution."
   ]
  },
  {
   "cell_type": "code",
   "execution_count": 128,
   "id": "07577e97",
   "metadata": {},
   "outputs": [
    {
     "data": {
      "text/html": [
       "<pre class=\"language-APL\">10\n",
       "</pre>"
      ]
     },
     "execution_count": 128,
     "metadata": {},
     "output_type": "execute_result"
    }
   ],
   "source": [
    "4++/⊃⊆⍨~(∪≡⊢)¨4,/input2"
   ]
  }
 ],
 "metadata": {
  "kernelspec": {
   "display_name": "Dyalog APL",
   "language": "apl",
   "name": "dyalog-kernel"
  },
  "language_info": {
   "file_extension": ".apl",
   "mimetype": "text/apl",
   "name": "APL"
  }
 },
 "nbformat": 4,
 "nbformat_minor": 5
}
