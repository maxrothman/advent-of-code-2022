{
 "cells": [
  {
   "cell_type": "code",
   "execution_count": 10,
   "id": "ad2e4aa4",
   "metadata": {},
   "outputs": [
    {
     "data": {
      "text/html": [
       "<pre class=\"language-APL\">3 0 3 7 3\n",
       "2 5 5 1 2\n",
       "6 5 3 3 2\n",
       "3 3 5 4 9\n",
       "3 5 3 9 0\n",
       "</pre>"
      ]
     },
     "execution_count": 10,
     "metadata": {},
     "output_type": "execute_result"
    }
   ],
   "source": [
    "⊢input←↑(3 0 3 7 3)(2 5 5 1 2)(6 5 3 3 2)(3 3 5 4 9)(3 5 3 9 0)"
   ]
  },
  {
   "cell_type": "code",
   "execution_count": 11,
   "id": "f7628330",
   "metadata": {},
   "outputs": [
    {
     "data": {
      "text/html": [
       "<pre class=\"language-APL\">3 3 3 7 7\n",
       "2 5 5 5 5\n",
       "6 6 6 6 6\n",
       "3 3 5 5 9\n",
       "3 5 5 9 9\n",
       "</pre>"
      ]
     },
     "execution_count": 11,
     "metadata": {},
     "output_type": "execute_result"
    }
   ],
   "source": [
    "⌈\\input"
   ]
  },
  {
   "cell_type": "code",
   "execution_count": 24,
   "id": "9f19a012",
   "metadata": {},
   "outputs": [
    {
     "data": {
      "text/html": [
       "<pre class=\"language-APL\">7 7 7 7 3\n",
       "5 5 5 2 2\n",
       "6 5 3 3 2\n",
       "9 9 9 9 9\n",
       "9 9 9 9 0\n",
       "</pre>"
      ]
     },
     "execution_count": 24,
     "metadata": {},
     "output_type": "execute_result"
    }
   ],
   "source": [
    "⌽⌈\\⌽input"
   ]
  },
  {
   "cell_type": "code",
   "execution_count": 26,
   "id": "79a201f4",
   "metadata": {},
   "outputs": [
    {
     "data": {
      "text/html": [
       "<pre class=\"language-APL\">3 0 3 7 3\n",
       "2 5 5 1 2\n",
       "6 5 3 3 2\n",
       "3 3 5 4 9\n",
       "3 5 3 9 0\n",
       "</pre>"
      ]
     },
     "execution_count": 26,
     "metadata": {},
     "output_type": "execute_result"
    },
    {
     "data": {
      "text/html": [
       "<pre class=\"language-APL\">┌─────────┬─────────┬─────────┬─────────┐\n",
       "│3 3 3 7 7│3 0 3 7 3│7 7 7 7 3│6 5 5 9 9│\n",
       "│2 5 5 5 5│3 5 5 7 3│5 5 5 2 2│6 5 5 9 9│\n",
       "│6 6 6 6 6│6 5 5 7 3│6 5 3 3 2│6 5 5 9 9│\n",
       "│3 3 5 5 9│6 5 5 7 9│9 9 9 9 9│3 5 5 9 9│\n",
       "│3 5 5 9 9│6 5 5 9 9│9 9 9 9 0│3 5 3 9 0│\n",
       "└─────────┴─────────┴─────────┴─────────┘\n",
       "</pre>"
      ]
     },
     "execution_count": 26,
     "metadata": {},
     "output_type": "execute_result"
    }
   ],
   "source": [
    "input\n",
    "{(⌈\\⍵)(⌈⍀⍵)(⌽⌈\\⌽⍵)(⊖⌈⍀⊖⍵)}input"
   ]
  },
  {
   "cell_type": "code",
   "execution_count": 52,
   "id": "a1b2c2f8",
   "metadata": {},
   "outputs": [
    {
     "data": {
      "text/html": [
       "<pre class=\"language-APL\">1 1 1 0 7\n",
       "1 1 1 0 5\n",
       "1 1 1 0 6\n",
       "1 1 1 1 9\n",
       "1 1 1 0 9\n",
       "</pre>"
      ]
     },
     "execution_count": 52,
     "metadata": {},
     "output_type": "execute_result"
    }
   ],
   "source": [
    "⌽>\\⌽⌈\\input"
   ]
  },
  {
   "cell_type": "code",
   "execution_count": 62,
   "id": "3fbeac5d",
   "metadata": {},
   "outputs": [
    {
     "data": {
      "text/html": [
       "<pre class=\"language-APL\">2 1 1\n",
       "</pre>"
      ]
     },
     "execution_count": 62,
     "metadata": {},
     "output_type": "execute_result"
    }
   ],
   "source": [
    "⌽-⍨\\⌽5 2 1"
   ]
  },
  {
   "cell_type": "code",
   "execution_count": 84,
   "id": "35355b2b",
   "metadata": {},
   "outputs": [
    {
     "data": {
      "text/html": [
       "<pre class=\"language-APL\">3 0 0\n",
       "</pre>"
      ]
     },
     "execution_count": 84,
     "metadata": {},
     "output_type": "execute_result"
    },
    {
     "data": {
      "text/html": [
       "<pre class=\"language-APL\">3\n",
       "</pre>"
      ]
     },
     "execution_count": 84,
     "metadata": {},
     "output_type": "execute_result"
    },
    {
     "data": {
      "text/html": [
       "<pre class=\"language-APL\">0\n",
       "</pre>"
      ]
     },
     "execution_count": 84,
     "metadata": {},
     "output_type": "execute_result"
    },
    {
     "data": {
      "text/html": [
       "<pre class=\"language-APL\">0\n",
       "</pre>"
      ]
     },
     "execution_count": 84,
     "metadata": {},
     "output_type": "execute_result"
    }
   ],
   "source": [
    "⍝3 3 3 7 7\n",
    "<\\3 3 7\n",
    "</3\n",
    "</3 3\n",
    "</3 3 7"
   ]
  },
  {
   "cell_type": "code",
   "execution_count": 93,
   "id": "34ff0d53",
   "metadata": {},
   "outputs": [
    {
     "data": {
      "text/html": [
       "<pre class=\"language-APL\">1 0 0 1 0\n",
       "</pre>"
      ]
     },
     "execution_count": 93,
     "metadata": {},
     "output_type": "execute_result"
    }
   ],
   "source": [
    "1,</¨2,/3 3 3 7 7"
   ]
  },
  {
   "cell_type": "code",
   "execution_count": 98,
   "id": "dae986ab",
   "metadata": {},
   "outputs": [
    {
     "data": {
      "text/html": [
       "<pre class=\"language-APL\">3 0 3 7 3\n",
       "2 5 5 1 2\n",
       "6 5 3 3 2\n",
       "3 3 5 4 9\n",
       "3 5 3 9 0\n",
       "</pre>"
      ]
     },
     "execution_count": 98,
     "metadata": {},
     "output_type": "execute_result"
    },
    {
     "data": {
      "text/html": [
       "<pre class=\"language-APL\">1 0 0 1 0\n",
       "1 1 0 0 0\n",
       "1 0 0 0 0\n",
       "1 0 1 0 1\n",
       "1 1 0 1 0\n",
       "</pre>"
      ]
     },
     "execution_count": 98,
     "metadata": {},
     "output_type": "execute_result"
    }
   ],
   "source": [
    "input\n",
    "1,</¨2,/⌈\\input"
   ]
  },
  {
   "cell_type": "code",
   "execution_count": 114,
   "id": "aa50ddc4",
   "metadata": {},
   "outputs": [
    {
     "data": {
      "text/html": [
       "<pre class=\"language-APL\">3 0 3 7 3\n",
       "2 5 5 1 2\n",
       "6 5 3 3 2\n",
       "3 3 5 4 9\n",
       "3 5 3 9 0\n",
       "</pre>"
      ]
     },
     "execution_count": 114,
     "metadata": {},
     "output_type": "execute_result"
    },
    {
     "data": {
      "text/html": [
       "<pre class=\"language-APL\">┌─────────┐\n",
       "│1 1 1 1 1│\n",
       "│1 1 1 0 1│\n",
       "│1 1 0 1 1│\n",
       "│1 0 1 0 1│\n",
       "│1 1 1 1 1│\n",
       "└─────────┘\n",
       "</pre>"
      ]
     },
     "execution_count": 114,
     "metadata": {},
     "output_type": "execute_result"
    }
   ],
   "source": [
    "input\n",
    "{(1,</¨2,/⌈\\⍵) (1⍪<⌿¨2,⌿[1]⌈⍀⍵) (⌽1,</¨2,/⌈\\⌽⍵) (⊖1⍪<⌿¨2,⌿⌈⍀⊖⍵)}input"
   ]
  },
  {
   "cell_type": "code",
   "execution_count": 121,
   "id": "3f935bce",
   "metadata": {},
   "outputs": [
    {
     "data": {
      "text/html": [
       "<pre class=\"language-APL\">21\n",
       "</pre>"
      ]
     },
     "execution_count": 121,
     "metadata": {},
     "output_type": "execute_result"
    }
   ],
   "source": [
    "+/∊∨/{(1,</¨2,/⌈\\⍵) (1⍪<⌿¨2,⌿[1]⌈⍀⍵) (⌽1,</¨2,/⌈\\⌽⍵) (⊖1⍪<⌿¨2,⌿⌈⍀⊖⍵)}input\n",
    "part1←{+/∊∨/{(1,</¨2,/⌈\\⍵) (1⍪<⌿¨2,⌿[1]⌈⍀⍵) (⌽1,</¨2,/⌈\\⌽⍵) (⊖1⍪<⌿¨2,⌿⌈⍀⊖⍵)}⍵}"
   ]
  },
  {
   "cell_type": "code",
   "execution_count": 122,
   "id": "31a73a49",
   "metadata": {},
   "outputs": [
    {
     "data": {
      "text/html": [
       "<pre class=\"language-APL\">1796\n",
       "</pre>"
      ]
     },
     "execution_count": 122,
     "metadata": {},
     "output_type": "execute_result"
    }
   ],
   "source": [
    "part1⍎¨↑⊃⎕NGET'input.txt'1"
   ]
  },
  {
   "cell_type": "code",
   "execution_count": 168,
   "id": "cdedd0b8",
   "metadata": {
    "scrolled": false
   },
   "outputs": [
    {
     "data": {
      "text/html": [
       "<pre class=\"language-APL\">3 0 3 7 3\n",
       "2 5 5 1 2\n",
       "6 5 3 3 2\n",
       "3 3 5 4 9\n",
       "3 5 3 9 0\n",
       "</pre>"
      ]
     },
     "execution_count": 168,
     "metadata": {},
     "output_type": "execute_result"
    },
    {
     "data": {
      "text/html": [
       "<pre class=\"language-APL\">6 5 5 9 9\n",
       "</pre>"
      ]
     },
     "execution_count": 168,
     "metadata": {},
     "output_type": "execute_result"
    }
   ],
   "source": [
    "input\n",
    "⌈/[1]input"
   ]
  },
  {
   "cell_type": "code",
   "execution_count": 259,
   "id": "68caaa40",
   "metadata": {},
   "outputs": [
    {
     "data": {
      "text/html": [
       "<pre class=\"language-APL\">3 0 3 7 3\n",
       "2 5 5 1 2\n",
       "6 5 3 3 2\n",
       "3 3 5 4 9\n",
       "3 5 3 9 0\n",
       "</pre>"
      ]
     },
     "execution_count": 259,
     "metadata": {},
     "output_type": "execute_result"
    },
    {
     "data": {
      "text/html": [
       "<pre class=\"language-APL\">┌─────────┬─────────┐\n",
       "│3 0 3 7 3│3 2 6 3 3│\n",
       "│2 5 5 1 2│0 5 5 3 5│\n",
       "│6 5 3 3 2│3 5 3 5 3│\n",
       "│3 3 5 4 9│7 1 3 4 9│\n",
       "│3 5 3 9 0│3 2 2 9 0│\n",
       "├─────────┼─────────┤\n",
       "│3 7 3 0 3│3 2 2 9 0│\n",
       "│2 1 5 5 2│7 1 3 4 9│\n",
       "│2 3 3 5 6│3 5 3 5 3│\n",
       "│9 4 5 3 3│0 5 5 3 5│\n",
       "│0 9 3 5 3│3 2 6 3 3│\n",
       "└─────────┴─────────┘\n",
       "</pre>"
      ]
     },
     "execution_count": 259,
     "metadata": {},
     "output_type": "execute_result"
    }
   ],
   "source": [
    "input\n",
    "↑(⊢,⍥⊂⍉)¨(⊢,⍥⊂⌽)input\n",
    "⍝ That's not right"
   ]
  },
  {
   "cell_type": "code",
   "execution_count": 266,
   "id": "3177c729",
   "metadata": {},
   "outputs": [
    {
     "data": {
      "text/html": [
       "<pre class=\"language-APL\">┌─────────┬─────────┬─────────┬─────────┐\n",
       "│3 0 3 7 3│3 7 3 0 3│3 2 6 3 3│3 3 6 2 3│\n",
       "│2 5 5 1 2│2 1 5 5 2│0 5 5 3 5│5 3 5 5 0│\n",
       "│6 5 3 3 2│2 3 3 5 6│3 5 3 5 3│3 5 3 5 3│\n",
       "│3 3 5 4 9│9 4 5 3 3│7 1 3 4 9│9 4 3 1 7│\n",
       "│3 5 3 9 0│0 9 3 5 3│3 2 2 9 0│0 9 2 2 3│\n",
       "└─────────┴─────────┴─────────┴─────────┘\n",
       "</pre>"
      ]
     },
     "execution_count": 266,
     "metadata": {},
     "output_type": "execute_result"
    }
   ],
   "source": [
    "(input)(⌽input)(⍉input)(⌽⍉input)"
   ]
  },
  {
   "cell_type": "code",
   "execution_count": 280,
   "id": "09f67435",
   "metadata": {},
   "outputs": [
    {
     "data": {
      "text/html": [
       "<pre class=\"language-APL\">┌─────────────────────┬─────────────────────┐\n",
       "│┌─────────┬─────────┐│┌─────────┬─────────┐│\n",
       "││3 0 3 7 3│3 7 3 0 3│││3 2 6 3 3│3 3 6 2 3││\n",
       "││2 5 5 1 2│2 1 5 5 2│││0 5 5 3 5│5 3 5 5 0││\n",
       "││6 5 3 3 2│2 3 3 5 6│││3 5 3 5 3│3 5 3 5 3││\n",
       "││3 3 5 4 9│9 4 5 3 3│││7 1 3 4 9│9 4 3 1 7││\n",
       "││3 5 3 9 0│0 9 3 5 3│││3 2 2 9 0│0 9 2 2 3││\n",
       "│└─────────┴─────────┘│└─────────┴─────────┘│\n",
       "└─────────────────────┴─────────────────────┘\n",
       "</pre>"
      ]
     },
     "execution_count": 280,
     "metadata": {},
     "output_type": "execute_result"
    }
   ],
   "source": [
    "(⊢,⍥⊂⌽)¨(⊢,⍥⊂⍉)input"
   ]
  },
  {
   "cell_type": "code",
   "execution_count": 297,
   "id": "b5676616",
   "metadata": {},
   "outputs": [
    {
     "data": {
      "text/html": [
       "<pre class=\"language-APL\">┌─────────┬─────────┐\n",
       "│3 0 3 7 3│3 7 3 0 3│\n",
       "│2 5 5 1 2│2 1 5 5 2│\n",
       "│6 5 3 3 2│2 3 3 5 6│\n",
       "│3 3 5 4 9│9 4 5 3 3│\n",
       "│3 5 3 9 0│0 9 3 5 3│\n",
       "├─────────┼─────────┤\n",
       "│3 2 6 3 3│3 3 6 2 3│\n",
       "│0 5 5 3 5│5 3 5 5 0│\n",
       "│3 5 3 5 3│3 5 3 5 3│\n",
       "│7 1 3 4 9│9 4 3 1 7│\n",
       "│3 2 2 9 0│0 9 2 2 3│\n",
       "└─────────┴─────────┘\n",
       "</pre>"
      ]
     },
     "execution_count": 297,
     "metadata": {},
     "output_type": "execute_result"
    }
   ],
   "source": [
    "⊢{⍺⍺¨↑(⊢,⍥⊂⌽)¨(⊢,⍥⊂⍉)⍵}input"
   ]
  },
  {
   "cell_type": "code",
   "execution_count": 306,
   "id": "fb867172",
   "metadata": {},
   "outputs": [
    {
     "data": {
      "text/html": [
       "<pre class=\"language-APL\">┌─────────┬─────────┐\n",
       "│3 0 3 7 3│3 7 3 0 3│\n",
       "│2 5 5 1 2│2 1 5 5 2│\n",
       "│6 5 3 3 2│2 3 3 5 6│\n",
       "│3 3 5 4 9│9 4 5 3 3│\n",
       "│3 5 3 9 0│0 9 3 5 3│\n",
       "├─────────┼─────────┤\n",
       "│3 0 3 7 3│3 5 3 9 0│\n",
       "│2 5 5 1 2│3 3 5 4 9│\n",
       "│6 5 3 3 2│6 5 3 3 2│\n",
       "│3 3 5 4 9│2 5 5 1 2│\n",
       "│3 5 3 9 0│3 0 3 7 3│\n",
       "└─────────┴─────────┘\n",
       "</pre>"
      ]
     },
     "execution_count": 306,
     "metadata": {},
     "output_type": "execute_result"
    }
   ],
   "source": [
    "⊢{⍉¨@2⍺⍺¨↑(⊢,⍥⊂⌽)¨(⊢,⍥⊂⍉)⍵}input"
   ]
  },
  {
   "cell_type": "code",
   "execution_count": 309,
   "id": "010ceb70",
   "metadata": {},
   "outputs": [
    {
     "data": {
      "text/html": [
       "<pre class=\"language-APL\">┌─────────┬─────────┐\n",
       "│3 0 3 7 3│3 0 3 7 3│\n",
       "│2 5 5 1 2│2 5 5 1 2│\n",
       "│6 5 3 3 2│6 5 3 3 2│\n",
       "│3 3 5 4 9│3 3 5 4 9│\n",
       "│3 5 3 9 0│3 5 3 9 0│\n",
       "├─────────┼─────────┤\n",
       "│3 0 3 7 3│3 0 3 7 3│\n",
       "│2 5 5 1 2│2 5 5 1 2│\n",
       "│6 5 3 3 2│6 5 3 3 2│\n",
       "│3 3 5 4 9│3 3 5 4 9│\n",
       "│3 5 3 9 0│3 5 3 9 0│\n",
       "└─────────┴─────────┘\n",
       "</pre>"
      ]
     },
     "execution_count": 309,
     "metadata": {},
     "output_type": "execute_result"
    }
   ],
   "source": [
    "⊢{⍉¨@2 ⍉⌽¨@2⍉ ⍺⍺¨↑(⊢,⍥⊂⌽)¨(⊢,⍥⊂⍉)⍵}input"
   ]
  },
  {
   "cell_type": "code",
   "execution_count": 329,
   "id": "77a2e0b1",
   "metadata": {},
   "outputs": [
    {
     "data": {
      "text/html": [
       "<pre class=\"language-APL\">21\n",
       "</pre>"
      ]
     },
     "execution_count": 329,
     "metadata": {},
     "output_type": "execute_result"
    }
   ],
   "source": [
    "+/∊∨/,{1,(</¨2,/⌈\\)⍵}{⍉¨@2 ⍉⌽¨@2⍉ ⍺⍺¨↑(⊢,⍥⊂⌽)¨(⊢,⍥⊂⍉)⍵}input"
   ]
  },
  {
   "cell_type": "markdown",
   "id": "0ed9752b",
   "metadata": {},
   "source": [
    "Well that was a lot\n",
    "\n",
    "Cleaning up a bit"
   ]
  },
  {
   "cell_type": "code",
   "execution_count": 622,
   "id": "b9b1d1ab",
   "metadata": {},
   "outputs": [
    {
     "data": {
      "text/html": [
       "<pre class=\"language-APL\">21\n",
       "</pre>"
      ]
     },
     "execution_count": 622,
     "metadata": {},
     "output_type": "execute_result"
    }
   ],
   "source": [
    "ds←{(⍺⍺⍵)(⌽⍺⍺⌽⍵)(⍉⍺⍺⍉⍵)(⍉⌽⍺⍺⌽⍉⍵)}\n",
    "n←2</⌈\\\n",
    "+/∊∨/,(1,n) ds input"
   ]
  },
  {
   "cell_type": "markdown",
   "id": "85a5029a",
   "metadata": {},
   "source": [
    "Part two"
   ]
  },
  {
   "cell_type": "code",
   "execution_count": 629,
   "id": "528d5661",
   "metadata": {},
   "outputs": [
    {
     "name": "stderr",
     "output_type": "stream",
     "text": [
      "LENGTH ERROR\n",
      "      2</⍬\n",
      "       ∧\n"
     ]
    },
    {
     "data": {
      "text/html": [
       "<pre class=\"language-APL\">\n",
       "</pre>"
      ]
     },
     "execution_count": 629,
     "metadata": {},
     "output_type": "execute_result"
    }
   ],
   "source": [
    "2</⍬\n",
    "2</,1\n",
    "⍝the first one is a problem"
   ]
  },
  {
   "cell_type": "code",
   "execution_count": 663,
   "id": "bed3123e",
   "metadata": {},
   "outputs": [
    {
     "data": {
      "text/html": [
       "<pre class=\"language-APL\">3 0 3 7 3\n",
       "2 5 5 1 2\n",
       "6 5 3 3 2\n",
       "3 3 5 4 9\n",
       "3 5 3 9 0\n",
       "</pre>"
      ]
     },
     "execution_count": 663,
     "metadata": {},
     "output_type": "execute_result"
    },
    {
     "data": {
      "text/html": [
       "<pre class=\"language-APL\">┌┬─┬───┬─────┬───────┐\n",
       "││3│0 3│3 3 3│7 7 7 7│\n",
       "├┼─┼───┼─────┼───────┤\n",
       "││2│5 5│5 5 5│1 5 5 5│\n",
       "├┼─┼───┼─────┼───────┤\n",
       "││6│5 6│3 5 6│3 3 5 6│\n",
       "├┼─┼───┼─────┼───────┤\n",
       "││3│3 3│5 5 5│4 5 5 5│\n",
       "├┼─┼───┼─────┼───────┤\n",
       "││3│5 5│3 5 5│9 9 9 9│\n",
       "└┴─┴───┴─────┴───────┘\n",
       "</pre>"
      ]
     },
     "execution_count": 663,
     "metadata": {},
     "output_type": "execute_result"
    }
   ],
   "source": [
    "input\n",
    "⍝(2</,)¨⌽⌈\\¨,\\input\n",
    "⍝ ⌈\\¨1↓¨⌽¨,\\input\n",
    "⍝2</¨⌈\\¨1↓[2]1↓¨⌽¨,\\input\n",
    "⍝2</¨⌈\\¨1↓[2]1↓¨⌽¨,\\input\n",
    "⍝ This isn't right, you're not seeing trees shorter than yourself\n",
    "⌈\\¨1↓¨⌽¨,\\input\n",
    "⍝ This looks right. If only I could left fold...\n",
    "⍝ For the first 2 non-empty columns, if I had a left fold I'd need to \"1+</\"\n",
    "⍝ Otherwise the first tree that you always see is skipped"
   ]
  },
  {
   "cell_type": "code",
   "execution_count": 721,
   "id": "e11dec03",
   "metadata": {},
   "outputs": [
    {
     "data": {
      "text/html": [
       "<pre class=\"language-APL\">4\n",
       "</pre>"
      ]
     },
     "execution_count": 721,
     "metadata": {},
     "output_type": "execute_result"
    },
    {
     "name": "stderr",
     "output_type": "stream",
     "text": [
      "RANK ERROR\n",
      "      ⊆⍨3\n",
      "      ∧\n"
     ]
    },
    {
     "data": {
      "text/html": [
       "<pre class=\"language-APL\">┌─┬─┐\n",
       "│1│3│\n",
       "└─┴─┘\n",
       "</pre>"
      ]
     },
     "execution_count": 721,
     "metadata": {},
     "output_type": "execute_result"
    }
   ],
   "source": [
    "⍝ the windowed scan is such a source of problems, let's try something else\n",
    "≢⊆⍨1 1 3 7 7 9\n",
    "⊆⍨3\n",
    "⊆⍨1 3\n",
    "⍝ oh wait, this will work"
   ]
  },
  {
   "cell_type": "code",
   "execution_count": 691,
   "id": "712bfa14",
   "metadata": {},
   "outputs": [
    {
     "data": {
      "text/html": [
       "<pre class=\"language-APL\">3 0 3 7 3\n",
       "2 5 5 1 2\n",
       "6 5 3 3 2\n",
       "3 3 5 4 9\n",
       "3 5 3 9 0\n",
       "</pre>"
      ]
     },
     "execution_count": 691,
     "metadata": {},
     "output_type": "execute_result"
    },
    {
     "name": "stderr",
     "output_type": "stream",
     "text": [
      "RANK ERROR\n",
      "      {⊆⍨⌈\\⌽⍵}¨,\\input\n",
      "       ∧\n"
     ]
    }
   ],
   "source": [
    "input\n",
    "{⊆⍨⌈\\⌽⍵}¨,\\input\n",
    "⍝ no, this isn't going to work. Back to bashing collumns"
   ]
  },
  {
   "cell_type": "code",
   "execution_count": 703,
   "id": "c1a29cf5",
   "metadata": {},
   "outputs": [
    {
     "data": {
      "text/html": [
       "<pre class=\"language-APL\">3 0 3 7 3\n",
       "2 5 5 1 2\n",
       "6 5 3 3 2\n",
       "3 3 5 4 9\n",
       "3 5 3 9 0\n",
       "</pre>"
      ]
     },
     "execution_count": 703,
     "metadata": {},
     "output_type": "execute_result"
    },
    {
     "data": {
      "text/html": [
       "<pre class=\"language-APL\">┌─────────┬─────────────┬─────────────────┐\n",
       "│┌───┬───┐│┌───┬───┬───┐│┌───┬───┬───┬───┐│\n",
       "││3 3│3 3│││7 7│7 7│7 7│││3 7│7 7│7 7│7 7││\n",
       "│└───┴───┘│└───┴───┴───┘│└───┴───┴───┴───┘│\n",
       "├─────────┼─────────────┼─────────────────┤\n",
       "│┌───┬───┐│┌───┬───┬───┐│┌───┬───┬───┬───┐│\n",
       "││5 5│5 5│││1 5│5 5│5 5│││2 2│2 5│5 5│5 5││\n",
       "│└───┴───┘│└───┴───┴───┘│└───┴───┴───┴───┘│\n",
       "├─────────┼─────────────┼─────────────────┤\n",
       "│┌───┬───┐│┌───┬───┬───┐│┌───┬───┬───┬───┐│\n",
       "││3 5│5 6│││3 3│3 5│5 6│││2 3│3 3│3 5│5 6││\n",
       "│└───┴───┘│└───┴───┴───┘│└───┴───┴───┴───┘│\n",
       "├─────────┼─────────────┼─────────────────┤\n",
       "│┌───┬───┐│┌───┬───┬───┐│┌───┬───┬───┬───┐│\n",
       "││5 5│5 5│││4 5│5 5│5 5│││9 9│9 9│9 9│9 9││\n",
       "│└───┴───┘│└───┴───┴───┘│└───┴───┴───┴───┘│\n",
       "├─────────┼─────────────┼─────────────────┤\n",
       "│┌───┬───┐│┌───┬───┬───┐│┌───┬───┬───┬───┐│\n",
       "││3 5│5 5│││9 9│9 9│9 9│││0 9│9 9│9 9│9 9││\n",
       "│└───┴───┘│└───┴───┴───┘│└───┴───┴───┴───┘│\n",
       "└─────────┴─────────────┴─────────────────┘\n",
       "</pre>"
      ]
     },
     "execution_count": 703,
     "metadata": {},
     "output_type": "execute_result"
    }
   ],
   "source": [
    "input\n",
    "2,/¨2↓[2]{⌈\\⌽⍵}¨,\\input\n",
    "⍝ something's wrong, the first one should be 0 3"
   ]
  },
  {
   "cell_type": "code",
   "execution_count": 727,
   "id": "7b9bb48f",
   "metadata": {},
   "outputs": [
    {
     "data": {
      "text/html": [
       "<pre class=\"language-APL\">┌─┐\n",
       "│2│\n",
       "└─┘\n",
       "</pre>"
      ]
     },
     "execution_count": 727,
     "metadata": {},
     "output_type": "execute_result"
    }
   ],
   "source": [
    "⊆⍨0 2\n",
    "⍝ I can just add 1 to everything to work around this"
   ]
  },
  {
   "cell_type": "code",
   "execution_count": 731,
   "id": "28c8f4b6",
   "metadata": {},
   "outputs": [
    {
     "data": {
      "text/html": [
       "<pre class=\"language-APL\">3 0 3 7 3\n",
       "2 5 5 1 2\n",
       "6 5 3 3 2\n",
       "3 3 5 4 9\n",
       "3 5 3 9 0\n",
       "</pre>"
      ]
     },
     "execution_count": 731,
     "metadata": {},
     "output_type": "execute_result"
    },
    {
     "data": {
      "text/html": [
       "<pre class=\"language-APL\">0 1 2 1 1\n",
       "0 1 1 1 2\n",
       "0 1 2 3 3\n",
       "0 1 1 1 2\n",
       "0 1 1 2 1\n",
       "</pre>"
      ]
     },
     "execution_count": 731,
     "metadata": {},
     "output_type": "execute_result"
    }
   ],
   "source": [
    "input\n",
    "⍝ remember to add 1 to all the totals at the end\n",
    "0,1,{≢⊆⍨⌈\\1↓⌽⍵}¨2↓[2],\\1+input"
   ]
  },
  {
   "cell_type": "code",
   "execution_count": 743,
   "id": "f7e8df3e",
   "metadata": {
    "scrolled": true
   },
   "outputs": [
    {
     "data": {
      "text/html": [
       "<pre class=\"language-APL\">3 0 3 7 3\n",
       "2 5 5 1 2\n",
       "6 5 3 3 2\n",
       "3 3 5 4 9\n",
       "3 5 3 9 0\n",
       "</pre>"
      ]
     },
     "execution_count": 743,
     "metadata": {},
     "output_type": "execute_result"
    },
    {
     "data": {
      "text/html": [
       "<pre class=\"language-APL\">┌─────────┬─────────┬─────────┬─────────┐\n",
       "│0 1 2 1 1│3 2 1 1 0│0 0 0 0 0│2 1 1 4 2│\n",
       "│0 1 1 1 2│1 1 2 1 0│1 1 1 1 1│1 1 2 3 2│\n",
       "│0 1 2 3 3│1 1 1 1 0│2 1 1 2 2│1 2 1 2 1│\n",
       "│0 1 1 1 2│3 2 2 1 0│1 1 2 2 2│1 1 1 1 1│\n",
       "│0 1 1 2 1│2 2 1 1 0│2 2 1 2 1│0 0 0 0 0│\n",
       "└─────────┴─────────┴─────────┴─────────┘\n",
       "</pre>"
      ]
     },
     "execution_count": 743,
     "metadata": {},
     "output_type": "execute_result"
    }
   ],
   "source": [
    "input\n",
    "{0,1,{≢⊆⍨⌈\\1↓⌽⍵}¨2↓[2],\\⍵} ds 1+input"
   ]
  },
  {
   "cell_type": "markdown",
   "id": "f54aea37",
   "metadata": {},
   "source": [
    "Oh no, I implemented my intent correctly, but the problem says \"stop at the first tree taller than *the current tree*\n",
    "\n",
    "I've been doing this wrong"
   ]
  },
  {
   "cell_type": "code",
   "execution_count": 832,
   "id": "94e4136b",
   "metadata": {
    "scrolled": true
   },
   "outputs": [
    {
     "data": {
      "text/html": [
       "<pre class=\"language-APL\">3 0 3 7 3\n",
       "2 5 5 1 2\n",
       "6 5 3 3 2\n",
       "3 3 5 4 9\n",
       "3 5 3 9 0\n",
       "</pre>"
      ]
     },
     "execution_count": 832,
     "metadata": {},
     "output_type": "execute_result"
    },
    {
     "data": {
      "text/html": [
       "<pre class=\"language-APL\">┌┬─┬───┬─────┬───────┐\n",
       "││1│1 0│0 0 0│1 0 1 1│\n",
       "├┼─┼───┼─────┼───────┤\n",
       "││0│0 1│1 1 1│1 1 1 0│\n",
       "├┼─┼───┼─────┼───────┤\n",
       "││1│1 1│1 1 1│1 1 1 1│\n",
       "├┼─┼───┼─────┼───────┤\n",
       "││1│0 0│0 0 1│0 0 0 0│\n",
       "├┼─┼───┼─────┼───────┤\n",
       "││0│1 1│0 0 0│1 1 1 1│\n",
       "└┴─┴───┴─────┴───────┘\n",
       "</pre>"
      ]
     },
     "execution_count": 832,
     "metadata": {},
     "output_type": "execute_result"
    }
   ],
   "source": [
    "input\n",
    "⍝input≤,\\input\n",
    "⍝input≤(⌽1↓⌽)¨,\\input\n",
    "⍝input≤,\\input\n",
    "input≤(⌽1↓⌽)¨,\\input\n",
    "⍝ This falls down going left in the top row on 3 7 3. 3≤3 so there's nothing to partition on\n",
    "⍝ And switching to ⊂ fails because if your left arg is 0 0 0 then\n",
    "⍝ you should be able to see everything, so no splits. Instead it deletes everything\n",
    "⍝ What I want:\n",
    "⍝- find the places where we could stop\n",
    "⍝- split there\n",
    "⍝- take the first"
   ]
  },
  {
   "cell_type": "code",
   "execution_count": 884,
   "id": "de139a17",
   "metadata": {},
   "outputs": [
    {
     "data": {
      "text/html": [
       "<pre class=\"language-APL\">9 1 9\n",
       "</pre>"
      ]
     },
     "execution_count": 884,
     "metadata": {},
     "output_type": "execute_result"
    }
   ],
   "source": [
    "1@2⊢9 9 9"
   ]
  },
  {
   "cell_type": "code",
   "execution_count": 890,
   "id": "741ccc68",
   "metadata": {},
   "outputs": [
    {
     "data": {
      "text/html": [
       "<pre class=\"language-APL\">3 0 3 7 3\n",
       "2 5 5 1 2\n",
       "6 5 3 3 2\n",
       "3 3 5 4 9\n",
       "3 5 3 9 0\n",
       "</pre>"
      ]
     },
     "execution_count": 890,
     "metadata": {},
     "output_type": "execute_result"
    },
    {
     "data": {
      "text/html": [
       "<pre class=\"language-APL\">┌───┬─────┬───────┬─────────┐\n",
       "│┌─┐│┌─┐  │┌─────┐│┌─┬─┐    │\n",
       "││0│││0│  ││0 0 0│││0│0│    │\n",
       "│└─┘│└─┘  │└─────┘│└─┴─┘    │\n",
       "├───┼─────┼───────┼─────────┤\n",
       "│┌─┐│┌───┐│┌─┐    │┌─┐      │\n",
       "││0│││0 0│││0│    ││0│      │\n",
       "│└─┘│└───┘│└─┘    │└─┘      │\n",
       "├───┼─────┼───────┼─────────┤\n",
       "│┌─┐│┌─┐  │┌─┐    │┌─┐      │\n",
       "││0│││0│  ││0│    ││0│      │\n",
       "│└─┘│└─┘  │└─┘    │└─┘      │\n",
       "├───┼─────┼───────┼─────────┤\n",
       "│┌─┐│┌───┐│┌─────┐│┌───────┐│\n",
       "││0│││0 0│││0 0 0│││0 0 0 0││\n",
       "│└─┘│└───┘│└─────┘│└───────┘│\n",
       "├───┼─────┼───────┼─────────┤\n",
       "│┌─┐│┌─┐  │┌─────┐│┌─┐      │\n",
       "││0│││0│  ││0 0 0│││0│      │\n",
       "│└─┘│└─┘  │└─────┘│└─┘      │\n",
       "└───┴─────┴───────┴─────────┘\n",
       "</pre>"
      ]
     },
     "execution_count": 890,
     "metadata": {},
     "output_type": "execute_result"
    }
   ],
   "source": [
    "input\n",
    "⍝1↓[2]input≤¯1↓¨,\\input\n",
    "1(≠⊆⊢)¨{⌽0@1⌽⍵}¨1↓[2]input≤¯1↓¨,\\input\n",
    "⍝ off by 1 at row 1 col 2"
   ]
  },
  {
   "cell_type": "code",
   "execution_count": 820,
   "id": "fc97815a",
   "metadata": {},
   "outputs": [
    {
     "data": {
      "text/html": [
       "<pre class=\"language-APL\">┌─┬───┬─────┬───────┬─────────┐\n",
       "│3│3 0│3 0 3│3 0 3 7│3 0 3 7 3│\n",
       "├─┼───┼─────┼───────┼─────────┤\n",
       "│2│2 5│2 5 5│2 5 5 1│2 5 5 1 2│\n",
       "├─┼───┼─────┼───────┼─────────┤\n",
       "│6│6 5│6 5 3│6 5 3 3│6 5 3 3 2│\n",
       "├─┼───┼─────┼───────┼─────────┤\n",
       "│3│3 3│3 3 5│3 3 5 4│3 3 5 4 9│\n",
       "├─┼───┼─────┼───────┼─────────┤\n",
       "│3│3 5│3 5 3│3 5 3 9│3 5 3 9 0│\n",
       "└─┴───┴─────┴───────┴─────────┘\n",
       "</pre>"
      ]
     },
     "execution_count": 820,
     "metadata": {},
     "output_type": "execute_result"
    }
   ],
   "source": [
    ",\\input"
   ]
  },
  {
   "cell_type": "code",
   "execution_count": 827,
   "id": "a80e373f",
   "metadata": {},
   "outputs": [
    {
     "data": {
      "text/html": [
       "<pre class=\"language-APL\">┌─┬─┐\n",
       "│1│3│\n",
       "└─┴─┘\n",
       "</pre>"
      ]
     },
     "execution_count": 827,
     "metadata": {},
     "output_type": "execute_result"
    },
    {
     "data": {
      "text/html": [
       "<pre class=\"language-APL\">┌─┬───┐\n",
       "│1│2 3│\n",
       "└─┴───┘\n",
       "</pre>"
      ]
     },
     "execution_count": 827,
     "metadata": {},
     "output_type": "execute_result"
    },
    {
     "data": {
      "text/html": [
       "<pre class=\"language-APL\">┌─────┐\n",
       "│1 2 3│\n",
       "└─────┘\n",
       "</pre>"
      ]
     },
     "execution_count": 827,
     "metadata": {},
     "output_type": "execute_result"
    }
   ],
   "source": [
    "1 0 1⊆⍳3\n",
    "1 2 2⊆⍳3\n",
    "1 0 0 0⊂⍳3"
   ]
  },
  {
   "cell_type": "code",
   "execution_count": null,
   "id": "a2dd973a",
   "metadata": {},
   "outputs": [],
   "source": []
  },
  {
   "cell_type": "code",
   "execution_count": null,
   "id": "8fe514ec",
   "metadata": {},
   "outputs": [],
   "source": []
  },
  {
   "cell_type": "code",
   "execution_count": 852,
   "id": "95812e37",
   "metadata": {},
   "outputs": [
    {
     "data": {
      "text/html": [
       "<pre class=\"language-APL\">21\n",
       "</pre>"
      ]
     },
     "execution_count": 852,
     "metadata": {},
     "output_type": "execute_result"
    },
    {
     "data": {
      "text/html": [
       "<pre class=\"language-APL\">3 0 3 7 3\n",
       "2 5 5 1 2\n",
       "6 5 3 3 2\n",
       "3 3 5 4 9\n",
       "3 5 3 9 0\n",
       "</pre>"
      ]
     },
     "execution_count": 852,
     "metadata": {},
     "output_type": "execute_result"
    },
    {
     "data": {
      "text/html": [
       "<pre class=\"language-APL\">3 4 4 7  8\n",
       "2 5 6 6  6\n",
       "6 7 7 7  7\n",
       "3 4 5 6  9\n",
       "3 5 6 9 10\n",
       "</pre>"
      ]
     },
     "execution_count": 852,
     "metadata": {},
     "output_type": "execute_result"
    },
    {
     "data": {
      "text/html": [
       "<pre class=\"language-APL\">1 0 0 1 0\n",
       "1 1 0 0 0\n",
       "1 0 0 0 0\n",
       "1 0 1 0 1\n",
       "1 1 0 1 0\n",
       "</pre>"
      ]
     },
     "execution_count": 852,
     "metadata": {},
     "output_type": "execute_result"
    }
   ],
   "source": [
    "⍝ Theirs\n",
    "p1 ← {⍵⌈1+⍺}\\\n",
    "p2 ← {⊃⍸⌽¯1↓1@1,⍵}¨⊢≤,\\\n",
    "dirs ← {⊃⍺⍺/(⍵⍵ ⍵)(⌽⍵⍵⌽⍵)(⍉⌽⍵⍵⌽t)(⍉⍵⍵t←⍉⍵)}\n",
    "+/∊ input≥ ⌊ dirs p1 input\n",
    "input\n",
    "p1 input\n",
    "⍝ Oh, this is how tall a tree would have to be if you were able to see it (from left)\n",
    "input≥p1 input\n",
    "⍝ So this is all the trees you can see"
   ]
  },
  {
   "cell_type": "code",
   "execution_count": 351,
   "id": "94d7e812",
   "metadata": {},
   "outputs": [],
   "source": [
    "⍝ Ok, so this is really their solution"
   ]
  },
  {
   "cell_type": "code",
   "execution_count": 363,
   "id": "f478b384",
   "metadata": {},
   "outputs": [
    {
     "data": {
      "text/html": [
       "<pre class=\"language-APL\">21\n",
       "</pre>"
      ]
     },
     "execution_count": 363,
     "metadata": {},
     "output_type": "execute_result"
    }
   ],
   "source": [
    "+/∊ input≥ ⊃⌊/ {⍵⌈1+⍺}\\ {(⍺⍺ ⍵)(⌽⍺⍺⌽⍵)(⍉⌽⍺⍺⌽⍉⍵)(⍉⍺⍺⍉⍵)} input"
   ]
  },
  {
   "cell_type": "code",
   "execution_count": 853,
   "id": "edc3caa3",
   "metadata": {},
   "outputs": [
    {
     "data": {
      "text/html": [
       "<pre class=\"language-APL\">0 0 0 0 0\n",
       "0 1 4 1 0\n",
       "0 6 1 2 0\n",
       "0 1 8 3 0\n",
       "0 0 0 0 0\n",
       "</pre>"
      ]
     },
     "execution_count": 853,
     "metadata": {},
     "output_type": "execute_result"
    }
   ],
   "source": [
    "⍝ Their part 2\n",
    "⍝ {⊃1+⍸⌽¯1↓1@0,⍵}¨⊢≤,\\ input\n",
    "⊃×/ p2 {(⍺⍺ ⍵)(⌽⍺⍺⌽⍵)(⍉⌽⍺⍺⌽⍉⍵)(⍉⍺⍺⍉⍵)}input"
   ]
  },
  {
   "cell_type": "code",
   "execution_count": 855,
   "id": "105f09ab",
   "metadata": {},
   "outputs": [
    {
     "data": {
      "text/html": [
       "<pre class=\"language-APL\">3 0 3 7 3\n",
       "2 5 5 1 2\n",
       "6 5 3 3 2\n",
       "3 3 5 4 9\n",
       "3 5 3 9 0\n",
       "</pre>"
      ]
     },
     "execution_count": 855,
     "metadata": {},
     "output_type": "execute_result"
    },
    {
     "data": {
      "text/html": [
       "<pre class=\"language-APL\">┌┬─┬───┬─────┬───────┐\n",
       "││1│1 0│1 0 0│1 0 1 1│\n",
       "├┼─┼───┼─────┼───────┤\n",
       "││1│1 1│1 1 1│1 1 1 0│\n",
       "├┼─┼───┼─────┼───────┤\n",
       "││1│1 1│1 1 1│1 1 1 1│\n",
       "├┼─┼───┼─────┼───────┤\n",
       "││1│1 0│1 0 1│1 0 0 0│\n",
       "├┼─┼───┼─────┼───────┤\n",
       "││1│1 1│1 0 0│1 1 1 1│\n",
       "└┴─┴───┴─────┴───────┘\n",
       "</pre>"
      ]
     },
     "execution_count": 855,
     "metadata": {},
     "output_type": "execute_result"
    },
    {
     "data": {
      "text/html": [
       "<pre class=\"language-APL\">0 1 2 3 1\n",
       "0 1 1 1 2\n",
       "0 1 1 1 1\n",
       "0 1 2 1 4\n",
       "0 1 1 3 1\n",
       "</pre>"
      ]
     },
     "execution_count": 855,
     "metadata": {},
     "output_type": "execute_result"
    }
   ],
   "source": [
    "⍝(⊢≤,\\)input\n",
    "input\n",
    "({¯1↓1@1,⍵}¨⊢≤,\\)input\n",
    "({⊃⍸⌽¯1↓1@1,⍵}¨⊢≤,\\)input\n",
    "⍝ Oh, the first bit is a fork"
   ]
  }
 ],
 "metadata": {
  "kernelspec": {
   "display_name": "Dyalog APL",
   "language": "apl",
   "name": "dyalog-kernel"
  },
  "language_info": {
   "file_extension": ".apl",
   "mimetype": "text/apl",
   "name": "APL"
  }
 },
 "nbformat": 4,
 "nbformat_minor": 5
}
